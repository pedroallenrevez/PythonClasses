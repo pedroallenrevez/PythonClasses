{
 "cells": [
  {
   "cell_type": "markdown",
   "metadata": {
    "slideshow": {
     "slide_type": "slide"
    }
   },
   "source": [
    "# Data Exploration with Python Workshop\n",
    "\n",
    "<br>\n",
    "\n",
    "<center><img src=\"https://files.realpython.com/media/Interactive-Visualization-w-Bokeh-Watermark.cf07569335d5.jpg\" ></center>"
   ]
  },
  {
   "cell_type": "markdown",
   "metadata": {
    "slideshow": {
     "slide_type": "subslide"
    }
   },
   "source": [
    "## Course Outline\n",
    "\n",
    "1. Introduction to Python\n",
    "2. Handling **data** with Numpy and Pandas\n",
    "3. **Visualizing** data in Python with Plotly\n",
    "4. Hackaton - selling your point of view in Python"
   ]
  },
  {
   "cell_type": "markdown",
   "metadata": {
    "slideshow": {
     "slide_type": "subslide"
    }
   },
   "source": [
    "## Course Objectives\n",
    "\n",
    "1. Being able **NOT** to use Excel!\n",
    "2. Being able to **clean/process** any kind of data Python\n",
    "3. Being able to **investigate** data with Python\n",
    "4. Being able to build **presentation material** using charts\n",
    "5. Being able to **keep pursuing** other courses on DataCamp or elsewhere"
   ]
  },
  {
   "cell_type": "markdown",
   "metadata": {
    "slideshow": {
     "slide_type": "subslide"
    }
   },
   "source": [
    "## Session Overview\n",
    "\n",
    "1. Introductory Notes & Questions (5-10 minutes)\n",
    "2. Learning (45 minutes)\n",
    "3. Break (5-10 minutes)\n",
    "4. Learning (45 minutes)\n",
    "5. Closing Remarks & Questions (5-10 minutes)\n"
   ]
  },
  {
   "cell_type": "markdown",
   "metadata": {
    "slideshow": {
     "slide_type": "subslide"
    }
   },
   "source": [
    "## Table of Contents for Today\n",
    "\n",
    "1. Hello World!\n",
    "2. Doing simple math in Python\n",
    "3. Python Variables\n",
    "4. Python Lists\n",
    "5. Python Functions\n",
    "6. Loops and Iterations\n",
    "7. Conditionals\n",
    "8. Giving code a home"
   ]
  },
  {
   "cell_type": "markdown",
   "metadata": {
    "slideshow": {
     "slide_type": "subslide"
    }
   },
   "source": [
    "## Slide Mnemonic\n",
    "\n",
    "- `keyword` - this is a Python keyword, wrapped in a box\n",
    "- **concept** - Python and other important concepts are in **bold**"
   ]
  },
  {
   "cell_type": "markdown",
   "metadata": {
    "slideshow": {
     "slide_type": "slide"
    }
   },
   "source": [
    "# 1. Introduction to Python\n",
    "\n",
    "<br>\n",
    "<center>\n",
    "<img src=\"https://files.realpython.com/media/The-Python-Print-Function_Watermarked.26066d64ad82.jpg\">\n",
    "</center>\n"
   ]
  },
  {
   "cell_type": "markdown",
   "metadata": {
    "slideshow": {
     "slide_type": "subslide"
    }
   },
   "source": [
    "# 1. Introduction to Python\n",
    "\n",
    "## 1.1 Hello World!\n",
    "\n",
    "- We can interact with Python with a `print` command"
   ]
  },
  {
   "cell_type": "code",
   "execution_count": 1,
   "metadata": {
    "slideshow": {
     "slide_type": "-"
    }
   },
   "outputs": [
    {
     "name": "stdout",
     "output_type": "stream",
     "text": [
      "1\n"
     ]
    }
   ],
   "source": [
    "print(1)"
   ]
  },
  {
   "cell_type": "markdown",
   "metadata": {
    "slideshow": {
     "slide_type": "fragment"
    }
   },
   "source": [
    "- You can make **comments** and it will not mess anything up\n",
    "- Write with a preceding `#`"
   ]
  },
  {
   "cell_type": "code",
   "execution_count": 26,
   "metadata": {
    "slideshow": {
     "slide_type": "-"
    }
   },
   "outputs": [
    {
     "name": "stdout",
     "output_type": "stream",
     "text": [
      "1\n"
     ]
    }
   ],
   "source": [
    "# This is a comment. You can write anything dfhadsyfisdagfsdlaavfasdf\n",
    "# Doing a print, makes Python answer\n",
    "print(1)"
   ]
  },
  {
   "cell_type": "markdown",
   "metadata": {
    "slideshow": {
     "slide_type": "subslide"
    }
   },
   "source": [
    "# 1. Introduction to Python\n",
    "\n",
    "## 1.2 Summary\n",
    "\n",
    "- Python is like the English language, it has grammar and vocabulary to be able to **communicate** with the computer\n",
    "- Interacting with Python with `print` - displays a result\n",
    "- You can **comment** code with `#` - it allows you to write freely\n",
    "\n"
   ]
  },
  {
   "cell_type": "markdown",
   "metadata": {
    "slideshow": {
     "slide_type": "slide"
    }
   },
   "source": [
    "# 2. Doing Math with Python\n",
    "\n",
    "<br>\n",
    "<center>\n",
    "    <img src=\"https://files.realpython.com/media/Cool-New-features-in-Python-3.7_Watermarked.cfa5288c143d.jpg\">\n",
    "</center>"
   ]
  },
  {
   "cell_type": "markdown",
   "metadata": {
    "slideshow": {
     "slide_type": "subslide"
    }
   },
   "source": [
    "# 2. Doing Math with Python\n",
    "## 2.1 Python as a calculator\n",
    "\n",
    "- Python allows you to make math, just like a normal calculator\n",
    "- It comes with all the common **operators**, plus a few extra ones:\n",
    "    \n",
    "    \n",
    "| Symbol &nbsp; &nbsp; &nbsp; &nbsp; &nbsp; &nbsp;&nbsp; &nbsp; &nbsp;&nbsp; &nbsp; &nbsp;&nbsp; &nbsp; &nbsp;&nbsp; &nbsp; &nbsp;&nbsp; &nbsp; &nbsp;&nbsp; &nbsp; &nbsp; | Task Performed &nbsp; &nbsp; &nbsp; &nbsp; &nbsp;&nbsp; &nbsp;&nbsp; &nbsp;|\n",
    "|--------|----------------|\n",
    "| <p style=\"font-size:18px;\">+</p>      | <p style=\"font-size:18px;\">Addition</p>         |\n",
    "| <p style=\"font-size:18px;\">-</p>      | <p style=\"font-size:18px;\">Subtraction</p>    |\n",
    "| <p style=\"font-size:18px;\">/</p>      | <p style=\"font-size:18px;\">Division</p>       |\n",
    "| <p style=\"font-size:18px;\">*</p>      | <p style=\"font-size:18px;\">Multiplication</p> |\n",
    "| <p style=\"font-size:18px;\">%</p>      | <p style=\"font-size:18px;\">Mod</p>            |\n",
    "| <p style=\"font-size:18px;\">//</p>     | <p style=\"font-size:18px;\">Floor division</p> |\n",
    "| <p style=\"font-size:18px;\">**</p>     | <p style=\"font-size:18px;\">Power</p>          |\n",
    "\n"
   ]
  },
  {
   "cell_type": "code",
   "execution_count": 27,
   "metadata": {
    "slideshow": {
     "slide_type": "fragment"
    }
   },
   "outputs": [
    {
     "name": "stdout",
     "output_type": "stream",
     "text": [
      "2\n",
      "4\n",
      "9\n"
     ]
    }
   ],
   "source": [
    "print(1+1)\n",
    "print(2*2)\n",
    "print(3**2)"
   ]
  },
  {
   "cell_type": "markdown",
   "metadata": {
    "slideshow": {
     "slide_type": "subslide"
    }
   },
   "source": [
    "# 2. Doing Math with Python\n",
    "## 2.2. Quick Exercise - Is 10 even or odd?\n",
    "\n",
    " 1. Calculate the remainder of 10 when divided by 2.\n",
    "\n",
    "**HINT**: an even number is a number that can be divided by 2 - remainder 0\n",
    "<br>\n",
    "**HINT**: remember the `%` operator!\n",
    "\n"
   ]
  },
  {
   "cell_type": "code",
   "execution_count": 28,
   "metadata": {
    "slideshow": {
     "slide_type": "fragment"
    }
   },
   "outputs": [
    {
     "name": "stdout",
     "output_type": "stream",
     "text": [
      "0\n"
     ]
    }
   ],
   "source": [
    "# ANSWER\n",
    "print(10 % 2)"
   ]
  },
  {
   "cell_type": "markdown",
   "metadata": {
    "slideshow": {
     "slide_type": "subslide"
    }
   },
   "source": [
    "# 2. Doing Math with Python\n",
    "## 2.3. Summary\n",
    "\n",
    "- Python works like a calculator\n",
    "- You can do basic math like **sum** and even **multiply**"
   ]
  },
  {
   "cell_type": "markdown",
   "metadata": {
    "slideshow": {
     "slide_type": "slide"
    }
   },
   "source": [
    "# 3. Python Variables\n",
    "\n",
    "<br>\n",
    "<center>\n",
    "    <img src=\"https://files.realpython.com/media/Newbie_Watermarked.a9319218252a.jpg\">\n",
    "</center>"
   ]
  },
  {
   "cell_type": "markdown",
   "metadata": {
    "slideshow": {
     "slide_type": "subslide"
    }
   },
   "source": [
    "# 3. Python Variables\n",
    "\n",
    "## 3.1 Variables\n",
    "\n",
    "- A **variable** is like in math a letter or word that represents a number. Like $x$\n",
    "\n",
    "<center>\n",
    "<img src=\"https://mdn.mozillademos.org/files/13506/boxes.png\" width=30%>\n",
    "</center>\n"
   ]
  },
  {
   "cell_type": "markdown",
   "metadata": {
    "slideshow": {
     "slide_type": "fragment"
    }
   },
   "source": [
    "\n",
    "- The box stores one item, and that item as a **type**\n",
    "- You can store values in a **variable** (box)\n",
    "- Use the `=` sign to **assign** (store) a value in a **variable** (box)\n"
   ]
  },
  {
   "cell_type": "code",
   "execution_count": 29,
   "metadata": {
    "slideshow": {
     "slide_type": "-"
    }
   },
   "outputs": [
    {
     "name": "stdout",
     "output_type": "stream",
     "text": [
      "2000\n"
     ]
    }
   ],
   "source": [
    "bank_deposit = 2000\n",
    "print(bank_deposit)"
   ]
  },
  {
   "cell_type": "markdown",
   "metadata": {
    "slideshow": {
     "slide_type": "fragment"
    }
   },
   "source": [
    "- Python knows your **variables**, and you can use them anywhere in your code"
   ]
  },
  {
   "cell_type": "code",
   "execution_count": 30,
   "metadata": {
    "slideshow": {
     "slide_type": "-"
    }
   },
   "outputs": [
    {
     "name": "stdout",
     "output_type": "stream",
     "text": [
      "1500.0\n"
     ]
    }
   ],
   "source": [
    "bank_deposit = 2000\n",
    "tax_cuts = 0.25\n",
    "result = bank_deposit - (bank_deposit * tax_cuts)\n",
    "print(result)"
   ]
  },
  {
   "cell_type": "markdown",
   "metadata": {
    "slideshow": {
     "slide_type": "subslide"
    }
   },
   "source": [
    "# 3. Python Variables\n",
    "## 3.2. Exercise - calculating inflation rates\n",
    "<br>\n",
    "\n",
    "$$IR = \\frac{CPI_2 - CPI_1}{CPI_1}$$\n",
    "\n",
    "Calculate the **inflation rate** (IR) between the periods:\n",
    "<br>\n",
    "\n",
    "$$CPI_{2000} = 0.0386$$\n",
    "$$CPI_{2019} = 0.0042$$\n",
    "<br>\n",
    "\n",
    "1. Assign both CPIs to **variables** named `cpi_1` and `cpi_2`;\n",
    "2. Calculate the inflation rate and **assign** it to a **variable** named `inflation_rate`;\n",
    "3. `Print` the inflation rate;"
   ]
  },
  {
   "cell_type": "code",
   "execution_count": 31,
   "metadata": {
    "slideshow": {
     "slide_type": "fragment"
    }
   },
   "outputs": [
    {
     "name": "stdout",
     "output_type": "stream",
     "text": [
      "-0.8911917098445596\n"
     ]
    }
   ],
   "source": [
    "cpi_1 = 3.86\n",
    "cpi_2 = 0.42\n",
    "inflation_rate = ((cpi_2 - cpi_1) / cpi_1)\n",
    "print(inflation_rate)"
   ]
  },
  {
   "cell_type": "markdown",
   "metadata": {
    "slideshow": {
     "slide_type": "subslide"
    }
   },
   "source": [
    "# 3. Python Variables\n",
    "## 3.3. Variable Types\n",
    "\n",
    "- **Variables**, like in the box example, store items of one kind or **type**\n"
   ]
  },
  {
   "cell_type": "markdown",
   "metadata": {
    "slideshow": {
     "slide_type": "fragment"
    }
   },
   "source": [
    "- We can use `type` to discover the **type** of a **variable**"
   ]
  },
  {
   "cell_type": "code",
   "execution_count": 32,
   "metadata": {
    "slideshow": {
     "slide_type": "-"
    }
   },
   "outputs": [
    {
     "data": {
      "text/plain": [
       "int"
      ]
     },
     "execution_count": 32,
     "metadata": {},
     "output_type": "execute_result"
    }
   ],
   "source": [
    "a = 1\n",
    "type(a)"
   ]
  },
  {
   "cell_type": "code",
   "execution_count": 33,
   "metadata": {
    "slideshow": {
     "slide_type": "-"
    }
   },
   "outputs": [
    {
     "data": {
      "text/plain": [
       "float"
      ]
     },
     "execution_count": 33,
     "metadata": {},
     "output_type": "execute_result"
    }
   ],
   "source": [
    "type(cpi_1)"
   ]
  },
  {
   "cell_type": "markdown",
   "metadata": {
    "slideshow": {
     "slide_type": "fragment"
    }
   },
   "source": [
    "- Different **types**\n",
    "    - **Integer** (`int`) - whole number\n",
    "    - **Float** (`float`) - real number"
   ]
  },
  {
   "cell_type": "markdown",
   "metadata": {
    "slideshow": {
     "slide_type": "fragment"
    }
   },
   "source": [
    "- There are many types in Python, another that is useful is\n",
    "    - **String** (`str`) - words, text, using quotes `'` or double quotes `\"`"
   ]
  },
  {
   "cell_type": "code",
   "execution_count": 34,
   "metadata": {
    "slideshow": {
     "slide_type": "-"
    }
   },
   "outputs": [
    {
     "name": "stdout",
     "output_type": "stream",
     "text": [
      "This is text.\n"
     ]
    },
    {
     "data": {
      "text/plain": [
       "str"
      ]
     },
     "execution_count": 34,
     "metadata": {},
     "output_type": "execute_result"
    }
   ],
   "source": [
    "string = \"This is text.\"\n",
    "print(string)\n",
    "type(string)"
   ]
  },
  {
   "cell_type": "markdown",
   "metadata": {
    "slideshow": {
     "slide_type": "subslide"
    }
   },
   "source": [
    "# 3. Python Variables\n",
    "## 3.4. Operating with Variables\n",
    "\n",
    "- Until now, we have operated with `float`s and `int`s"
   ]
  },
  {
   "cell_type": "code",
   "execution_count": 35,
   "metadata": {
    "slideshow": {
     "slide_type": "-"
    }
   },
   "outputs": [
    {
     "name": "stdout",
     "output_type": "stream",
     "text": [
      "1500.0\n"
     ]
    }
   ],
   "source": [
    "bank_deposit = 2000\n",
    "tax_cuts = 0.25\n",
    "result = bank_deposit - (bank_deposit * tax_cuts)\n",
    "print(result)"
   ]
  },
  {
   "cell_type": "markdown",
   "metadata": {
    "slideshow": {
     "slide_type": "fragment"
    }
   },
   "source": [
    "- What happens when we operate `float` and `int` together?"
   ]
  },
  {
   "cell_type": "code",
   "execution_count": 36,
   "metadata": {
    "slideshow": {
     "slide_type": "-"
    }
   },
   "outputs": [
    {
     "data": {
      "text/plain": [
       "(int, float, float)"
      ]
     },
     "execution_count": 36,
     "metadata": {},
     "output_type": "execute_result"
    }
   ],
   "source": [
    "type(bank_deposit), type(tax_cuts), type(result)"
   ]
  },
  {
   "cell_type": "markdown",
   "metadata": {
    "slideshow": {
     "slide_type": "fragment"
    }
   },
   "source": [
    "- What about summing **strings**?"
   ]
  },
  {
   "cell_type": "code",
   "execution_count": 37,
   "metadata": {
    "slideshow": {
     "slide_type": "-"
    }
   },
   "outputs": [
    {
     "name": "stdout",
     "output_type": "stream",
     "text": [
      "ab\n"
     ]
    }
   ],
   "source": [
    "print(\"a\" + \"b\")"
   ]
  },
  {
   "cell_type": "markdown",
   "metadata": {
    "slideshow": {
     "slide_type": "fragment"
    }
   },
   "source": [
    "- What about summing a `string` and an `int` ?"
   ]
  },
  {
   "cell_type": "code",
   "execution_count": 38,
   "metadata": {
    "slideshow": {
     "slide_type": "-"
    }
   },
   "outputs": [
    {
     "ename": "TypeError",
     "evalue": "can only concatenate str (not \"int\") to str",
     "output_type": "error",
     "traceback": [
      "\u001b[0;31m---------------------------------------------------------------------------\u001b[0m",
      "\u001b[0;31mTypeError\u001b[0m                                 Traceback (most recent call last)",
      "\u001b[0;32m<ipython-input-38-f3cae10e7279>\u001b[0m in \u001b[0;36m<module>\u001b[0;34m\u001b[0m\n\u001b[0;32m----> 1\u001b[0;31m \u001b[0mprint\u001b[0m\u001b[0;34m(\u001b[0m\u001b[0;34m\"a\"\u001b[0m \u001b[0;34m+\u001b[0m \u001b[0;36m1\u001b[0m\u001b[0;34m)\u001b[0m\u001b[0;34m\u001b[0m\u001b[0;34m\u001b[0m\u001b[0m\n\u001b[0m",
      "\u001b[0;31mTypeError\u001b[0m: can only concatenate str (not \"int\") to str"
     ]
    }
   ],
   "source": [
    "print(\"a\" + 1)"
   ]
  },
  {
   "cell_type": "markdown",
   "metadata": {
    "slideshow": {
     "slide_type": "subslide"
    }
   },
   "source": [
    "# 3. Python Variables\n",
    "## 3.5. Type conversions\n",
    "\n",
    "- **Variables** can be converted to another **types**\n",
    "- We can do it by writing the **keyword of the type** that we want to convert to.\n",
    "    - `int` for integers (whole numbers)\n",
    "    - `float` for floats (real numbers)\n",
    "    - `str` for strings (text)\n",
    "- It should be easy **converting** a number (`int`) to text (`string`), right?"
   ]
  },
  {
   "cell_type": "code",
   "execution_count": 39,
   "metadata": {
    "slideshow": {
     "slide_type": "fragment"
    }
   },
   "outputs": [
    {
     "data": {
      "text/plain": [
       "'1'"
      ]
     },
     "execution_count": 39,
     "metadata": {},
     "output_type": "execute_result"
    }
   ],
   "source": [
    "a = 1\n",
    "str(a)"
   ]
  },
  {
   "cell_type": "markdown",
   "metadata": {},
   "source": [
    "- The example from earlier works if we convert the number to `string`"
   ]
  },
  {
   "cell_type": "code",
   "execution_count": 40,
   "metadata": {},
   "outputs": [
    {
     "name": "stdout",
     "output_type": "stream",
     "text": [
      "a1\n"
     ]
    }
   ],
   "source": [
    "print(\"a\" + str(1))"
   ]
  },
  {
   "cell_type": "markdown",
   "metadata": {
    "slideshow": {
     "slide_type": "fragment"
    }
   },
   "source": [
    "- What about **converting** text to numbers. Does this make sense?"
   ]
  },
  {
   "cell_type": "code",
   "execution_count": 41,
   "metadata": {
    "slideshow": {
     "slide_type": "fragment"
    }
   },
   "outputs": [
    {
     "ename": "ValueError",
     "evalue": "invalid literal for int() with base 10: 'text'",
     "output_type": "error",
     "traceback": [
      "\u001b[0;31m---------------------------------------------------------------------------\u001b[0m",
      "\u001b[0;31mValueError\u001b[0m                                Traceback (most recent call last)",
      "\u001b[0;32m<ipython-input-41-f3a57c1fa0db>\u001b[0m in \u001b[0;36m<module>\u001b[0;34m\u001b[0m\n\u001b[0;32m----> 1\u001b[0;31m \u001b[0mint\u001b[0m\u001b[0;34m(\u001b[0m\u001b[0;34m\"text\"\u001b[0m\u001b[0;34m)\u001b[0m\u001b[0;34m\u001b[0m\u001b[0;34m\u001b[0m\u001b[0m\n\u001b[0m",
      "\u001b[0;31mValueError\u001b[0m: invalid literal for int() with base 10: 'text'"
     ]
    }
   ],
   "source": [
    "int(\"text\")"
   ]
  },
  {
   "cell_type": "markdown",
   "metadata": {
    "slideshow": {
     "slide_type": "subslide"
    }
   },
   "source": [
    "# 3. Python Variables\n",
    "## 3.6. Exercise - Print a sentence with numbers\n",
    "\n",
    "1. **Assign** your bank deposit value of 2000 to a **variable** named `bank_deposit`\n",
    "2. `Print` the sentence `\"Bank deposit is 2000\"`\n",
    "\n",
    "**HINTS**: Remember that you can **sum** (`+`) **strings**\n",
    "<br>\n",
    "**HINTS**: To convert a number (`int` or `float`) to `string` use `str(number)`"
   ]
  },
  {
   "cell_type": "code",
   "execution_count": 42,
   "metadata": {
    "slideshow": {
     "slide_type": "fragment"
    }
   },
   "outputs": [
    {
     "name": "stdout",
     "output_type": "stream",
     "text": [
      "Bank deposit is 2000\n"
     ]
    }
   ],
   "source": [
    "# ANSWER\n",
    "bank_deposit=2000\n",
    "print(\"Bank deposit is \" + str(bank_deposit))"
   ]
  },
  {
   "cell_type": "markdown",
   "metadata": {
    "slideshow": {
     "slide_type": "subslide"
    }
   },
   "source": [
    "# 3. Python Variables\n",
    "## 3.7. Summary\n",
    "\n",
    "- **Variables** are like boxes which hold an item with a **type**\n",
    "- **Variables** can be used anywhere in your code\n",
    "- There are different **types** - `int`, `float` and `string` (more later!)\n",
    "- **Operations** can be made with different variables\n",
    "- Have to be careful when **operating** together **different types**\n",
    "- **Variables** can be **converted** to other **types**"
   ]
  },
  {
   "cell_type": "markdown",
   "metadata": {
    "slideshow": {
     "slide_type": "slide"
    }
   },
   "source": [
    "# 4. Python Lists\n",
    "\n",
    "<br>\n",
    "<center>\n",
    "        <img src=\"https://files.realpython.com/media/List-Comprehensions-in-Python_Watermarked.39cf85bdd5d0.jpg\">\n",
    "</center>"
   ]
  },
  {
   "cell_type": "markdown",
   "metadata": {
    "slideshow": {
     "slide_type": "subslide"
    }
   },
   "source": [
    "# 4. Python Lists\n",
    "## 4.1 Python Lists\n",
    "\n",
    "- What if we are gathering family height data. Will we have a **variable** for each of the numbers? "
   ]
  },
  {
   "cell_type": "code",
   "execution_count": 43,
   "metadata": {
    "slideshow": {
     "slide_type": "-"
    }
   },
   "outputs": [],
   "source": [
    "height1 = 1.50\n",
    "height2 = 1.60\n",
    "height3 = 1.70"
   ]
  },
  {
   "cell_type": "markdown",
   "metadata": {
    "slideshow": {
     "slide_type": "fragment"
    }
   },
   "source": [
    "- The answer to this problem are **`lists`**\n",
    "- A `list` is just a set of items - a **collection of values**\n"
   ]
  },
  {
   "cell_type": "markdown",
   "metadata": {
    "slideshow": {
     "slide_type": "fragment"
    }
   },
   "source": [
    "- You can make a `list` with square brackets `[ ]`. Like this: "
   ]
  },
  {
   "cell_type": "code",
   "execution_count": 44,
   "metadata": {
    "slideshow": {
     "slide_type": "-"
    }
   },
   "outputs": [
    {
     "name": "stdout",
     "output_type": "stream",
     "text": [
      "[1.5, 1.6, 1.7]\n"
     ]
    }
   ],
   "source": [
    "heights = [1.50, 1.60, 1.70]\n",
    "print(heights)"
   ]
  },
  {
   "cell_type": "markdown",
   "metadata": {
    "slideshow": {
     "slide_type": "fragment"
    }
   },
   "source": [
    "- A `list` is like a box with boxes, and each box can have a different **type**\n"
   ]
  },
  {
   "cell_type": "markdown",
   "metadata": {
    "slideshow": {
     "slide_type": "fragment"
    }
   },
   "source": [
    "- Let's add different **typed** **variables** to our `list`"
   ]
  },
  {
   "cell_type": "code",
   "execution_count": 45,
   "metadata": {
    "slideshow": {
     "slide_type": "-"
    }
   },
   "outputs": [
    {
     "name": "stdout",
     "output_type": "stream",
     "text": [
      "['ze', 1.5, 'manel', 1.6, 'josefina', 1.7]\n"
     ]
    }
   ],
   "source": [
    "heights = [\n",
    "    'ze', 1.50,\n",
    "    'manel', 1.60,\n",
    "    'josefina', 1.70\n",
    "]\n",
    "print(heights)"
   ]
  },
  {
   "cell_type": "markdown",
   "metadata": {
    "slideshow": {
     "slide_type": "fragment"
    }
   },
   "source": [
    "- I heard you like lists, so I put lists on your lists!"
   ]
  },
  {
   "cell_type": "code",
   "execution_count": 46,
   "metadata": {
    "slideshow": {
     "slide_type": "-"
    }
   },
   "outputs": [
    {
     "name": "stdout",
     "output_type": "stream",
     "text": [
      "[['ze', 1.5], ['manel', 1.6], ['josefina', 1.7]]\n"
     ]
    }
   ],
   "source": [
    "heights = [\n",
    "    ['ze', 1.50],\n",
    "    ['manel', 1.60],\n",
    "    ['josefina', 1.70]\n",
    "]\n",
    "print(heights)"
   ]
  },
  {
   "cell_type": "markdown",
   "metadata": {
    "slideshow": {
     "slide_type": "subslide"
    }
   },
   "source": [
    "# 4. Python Lists\n",
    "\n",
    "<center>\n",
    "    <img src=\"https://www.meme-arsenal.com/memes/0ca36be035e2c8c79d6af4543c7a6990.jpg\" width=20%>\n",
    "    </center>\n",
    "\n",
    "## 4.2. Exercise - Variables and Creating Lists\n",
    "\n",
    "Let's create a contact list, containing **names** and **phone numbers**.\\\n",
    "The objective is to combine **variable assignment**, building `lists`, and finally a **list of lists**.\n",
    "\n",
    "1. **Assign** your name to a **variable** named `name` and your phone number to a **variable** named `phone_number`\n",
    "2. **Assign** a friends name to a **variable** named `friend_name` and the corresponding phone number to `friend_phone_number`\n",
    "3. Create a `list` named `contact1` containing both `name` and `phone_number`\n",
    "4. Create a `list` named `contact2` containing both `friend_name` and `friend_phone_number`\n",
    "5. Finally, create a `list` named `contacts` containing both **variables** `contact1` and `contact2`\n",
    "6. `Print` the resulting list `contacts`"
   ]
  },
  {
   "cell_type": "code",
   "execution_count": 47,
   "metadata": {
    "slideshow": {
     "slide_type": "fragment"
    }
   },
   "outputs": [
    {
     "name": "stdout",
     "output_type": "stream",
     "text": [
      "[['Pedro', 917040672], ['Xzibit', 100200300]]\n"
     ]
    }
   ],
   "source": [
    "name = \"Pedro\"\n",
    "phone_number = 917040672\n",
    "\n",
    "friend_name = \"Xzibit\"\n",
    "friend_phone_number = 100200300\n",
    "\n",
    "contact1 = [name, phone_number]\n",
    "contact2 = [friend_name, friend_phone_number]\n",
    "contacts = [contact1, contact2]\n",
    "print(contacts)"
   ]
  },
  {
   "cell_type": "markdown",
   "metadata": {
    "slideshow": {
     "slide_type": "subslide"
    }
   },
   "source": [
    "# 4. Python Lists\n",
    "## 4.3. Actually using lists\n",
    "\n",
    "- Great, we have a bunch of numbers in a `list`. What now?\n",
    "- We can access each **element** of the `list`\n",
    "- Lists have **indexes**\n",
    "\n",
    "<center>\n",
    "    <img src=\"https://cdn.dribbble.com/users/201599/screenshots/1545461/book.jpg\" width=20%>\n",
    "</center>\n"
   ]
  },
  {
   "cell_type": "markdown",
   "metadata": {
    "slideshow": {
     "slide_type": "fragment"
    }
   },
   "source": [
    "- To use the **index** to get an element of the `list` we also use square brackets `[ ]`\n",
    "- Unlike a book **index**, that start chapters with 1, in Python **indexes start with `0`**\n"
   ]
  },
  {
   "cell_type": "code",
   "execution_count": 48,
   "metadata": {
    "slideshow": {
     "slide_type": "-"
    }
   },
   "outputs": [
    {
     "name": "stdout",
     "output_type": "stream",
     "text": [
      "['Xzibit', 100200300]\n"
     ]
    }
   ],
   "source": [
    "print(contacts[1])"
   ]
  },
  {
   "cell_type": "markdown",
   "metadata": {
    "slideshow": {
     "slide_type": "fragment"
    }
   },
   "source": [
    "- The result is still a `list`, so we can chain these **indexes**"
   ]
  },
  {
   "cell_type": "code",
   "execution_count": 49,
   "metadata": {
    "slideshow": {
     "slide_type": "-"
    }
   },
   "outputs": [
    {
     "name": "stdout",
     "output_type": "stream",
     "text": [
      "917040672\n"
     ]
    }
   ],
   "source": [
    "print(contacts[0][1])"
   ]
  },
  {
   "cell_type": "markdown",
   "metadata": {
    "slideshow": {
     "slide_type": "fragment"
    }
   },
   "source": [
    "- What happens if we try to access a non-existing **index**? For instance `100`"
   ]
  },
  {
   "cell_type": "code",
   "execution_count": 50,
   "metadata": {
    "slideshow": {
     "slide_type": "-"
    }
   },
   "outputs": [
    {
     "ename": "IndexError",
     "evalue": "list index out of range",
     "output_type": "error",
     "traceback": [
      "\u001b[0;31m---------------------------------------------------------------------------\u001b[0m",
      "\u001b[0;31mIndexError\u001b[0m                                Traceback (most recent call last)",
      "\u001b[0;32m<ipython-input-50-48639abbfebe>\u001b[0m in \u001b[0;36m<module>\u001b[0;34m\u001b[0m\n\u001b[0;32m----> 1\u001b[0;31m \u001b[0mprint\u001b[0m\u001b[0;34m(\u001b[0m\u001b[0mcontacts\u001b[0m\u001b[0;34m[\u001b[0m\u001b[0;36m100\u001b[0m\u001b[0;34m]\u001b[0m\u001b[0;34m)\u001b[0m\u001b[0;34m\u001b[0m\u001b[0;34m\u001b[0m\u001b[0m\n\u001b[0m",
      "\u001b[0;31mIndexError\u001b[0m: list index out of range"
     ]
    }
   ],
   "source": [
    "print(contacts[100])"
   ]
  },
  {
   "cell_type": "markdown",
   "metadata": {
    "slideshow": {
     "slide_type": "fragment"
    }
   },
   "source": [
    "- **Indexes** can work from **last to first** element. Begins with `-1`"
   ]
  },
  {
   "cell_type": "code",
   "execution_count": 51,
   "metadata": {
    "slideshow": {
     "slide_type": "-"
    }
   },
   "outputs": [
    {
     "name": "stdout",
     "output_type": "stream",
     "text": [
      "['Xzibit', 100200300]\n"
     ]
    }
   ],
   "source": [
    "print(contacts[-1])"
   ]
  },
  {
   "cell_type": "markdown",
   "metadata": {
    "slideshow": {
     "slide_type": "subslide"
    }
   },
   "source": [
    "# 4. Python Lists\n",
    "## 4.4. \"Slicing\" lists\n",
    "\n",
    "- What if we want multiple **elements** of a `list`? This is called **slicing**\n"
   ]
  },
  {
   "cell_type": "markdown",
   "metadata": {
    "slideshow": {
     "slide_type": "fragment"
    }
   },
   "source": [
    "\n",
    "- Uses the notation `[i:j]`for **from** `i` **to** `j`\n",
    "- `j` is not inclusive!\n"
   ]
  },
  {
   "cell_type": "code",
   "execution_count": 52,
   "metadata": {
    "slideshow": {
     "slide_type": "-"
    }
   },
   "outputs": [
    {
     "name": "stdout",
     "output_type": "stream",
     "text": [
      "[1, 2]\n"
     ]
    }
   ],
   "source": [
    "numbers = [0, 1, 2, 3, 4, 5, 6, 7, 8, 9]\n",
    "print(numbers[1:3])"
   ]
  },
  {
   "cell_type": "markdown",
   "metadata": {
    "slideshow": {
     "slide_type": "fragment"
    }
   },
   "source": [
    "- We can also **slice** **from** `i` (to the end)"
   ]
  },
  {
   "cell_type": "code",
   "execution_count": 53,
   "metadata": {
    "slideshow": {
     "slide_type": "-"
    }
   },
   "outputs": [
    {
     "name": "stdout",
     "output_type": "stream",
     "text": [
      "[3, 4, 5, 6, 7, 8, 9]\n"
     ]
    }
   ],
   "source": [
    "print(numbers[3:])"
   ]
  },
  {
   "cell_type": "markdown",
   "metadata": {
    "slideshow": {
     "slide_type": "fragment"
    }
   },
   "source": [
    "- And we can **slice** **to** `j` (from the start) is also possible!"
   ]
  },
  {
   "cell_type": "code",
   "execution_count": 54,
   "metadata": {
    "slideshow": {
     "slide_type": "-"
    }
   },
   "outputs": [
    {
     "name": "stdout",
     "output_type": "stream",
     "text": [
      "[0, 1, 2, 3, 4]\n"
     ]
    }
   ],
   "source": [
    "print(numbers[:5])"
   ]
  },
  {
   "cell_type": "markdown",
   "metadata": {
    "slideshow": {
     "slide_type": "subslide"
    }
   },
   "source": [
    "# 4. Python Lists\n",
    "## 4.5. Exercise - Slicing and operating with lists\n",
    "\n",
    "The objective of this exercise is to **slice** the same `list` in two different parts and joining them together into **one** `list` (not a list of lists).\n",
    "\n",
    "1. Create a `list` of numbers from 0 to 9. Name it `numbers`;\n",
    "2. **Slice** `numbers` to get the first three numbers and name it `slice1`;\n",
    "3. **Slice** `numbers` to get the last three numbers and name it `slice2`;\n",
    "4. Create a `list` from lists `slice1` and `slice2`.\n",
    "\n",
    "**HINT**: `Lists` can be **operated** with. Just like `int`s and `str`s\n",
    "<br>\n",
    "**HINT**: Try summing the two lists"
   ]
  },
  {
   "cell_type": "code",
   "execution_count": 55,
   "metadata": {
    "slideshow": {
     "slide_type": "fragment"
    }
   },
   "outputs": [
    {
     "name": "stdout",
     "output_type": "stream",
     "text": [
      "[0, 1, 2, 7, 8, 9]\n"
     ]
    }
   ],
   "source": [
    "numbers = [0, 1, 2, 3, 4, 5, 6, 7, 8, 9]\n",
    "slice1 = numbers[:3]\n",
    "slice2 = numbers[-3:]\n",
    "result = slice1 + slice2\n",
    "print(result)"
   ]
  },
  {
   "cell_type": "markdown",
   "metadata": {
    "slideshow": {
     "slide_type": "subslide"
    }
   },
   "source": [
    "# 4. Python Lists\n",
    "## 4.6. Changing elements in a list\n",
    "\n",
    "- The same way that we access an element of the list we can also change it\n",
    "- Like it was a variable, we use the `=` sign"
   ]
  },
  {
   "cell_type": "code",
   "execution_count": 56,
   "metadata": {
    "slideshow": {
     "slide_type": "-"
    }
   },
   "outputs": [
    {
     "name": "stdout",
     "output_type": "stream",
     "text": [
      "[7000, 1, 2, 3, 4, 5, 6, 7, 8, 9]\n"
     ]
    }
   ],
   "source": [
    "numbers[0] = 7000\n",
    "print(numbers)"
   ]
  },
  {
   "cell_type": "markdown",
   "metadata": {
    "slideshow": {
     "slide_type": "fragment"
    }
   },
   "source": [
    "**Curious** note for future work:\n",
    "- What happens if a variable that has a list is assigned to another variable?\n",
    "- Does changing one of the variables, change the other?"
   ]
  },
  {
   "cell_type": "code",
   "execution_count": 57,
   "metadata": {
    "slideshow": {
     "slide_type": "fragment"
    }
   },
   "outputs": [
    {
     "name": "stdout",
     "output_type": "stream",
     "text": [
      "['a', 'z', 'c']\n",
      "['a', 'z', 'c']\n"
     ]
    }
   ],
   "source": [
    "x = ['a', 'b', 'c']\n",
    "y = x\n",
    "y[1] = 'z'\n",
    "print(y)\n",
    "print(x)"
   ]
  },
  {
   "cell_type": "markdown",
   "metadata": {
    "slideshow": {
     "slide_type": "fragment"
    }
   },
   "source": [
    "- `x` also changed! Beware in the future!"
   ]
  },
  {
   "cell_type": "markdown",
   "metadata": {},
   "source": [
    "<center>\n",
    "<div style=\"content:''; clear:both; display:table\">\n",
    "  <div style=\"float:left;width:50%;padding:5px\">\n",
    "    <img src=\"scrot3.png\" width=200>\n",
    "  </div>\n",
    "  <div style=\"float:left; width:50%; padding:5px\">\n",
    "    <img src=\"scrot2.png\" width=200>\n",
    "  </div>\n",
    "</div> \n",
    "</center>"
   ]
  },
  {
   "cell_type": "markdown",
   "metadata": {
    "slideshow": {
     "slide_type": "subslide"
    }
   },
   "source": [
    "# 4. Python Lists\n",
    "## 4.7. Adding elements to a list\n",
    "\n",
    "- You can add elements to the end of the list using the `append`"
   ]
  },
  {
   "cell_type": "code",
   "execution_count": 58,
   "metadata": {
    "slideshow": {
     "slide_type": "-"
    }
   },
   "outputs": [
    {
     "name": "stdout",
     "output_type": "stream",
     "text": [
      "['a', 'z', 'c', 'D']\n"
     ]
    }
   ],
   "source": [
    "x.append('D')\n",
    "print(x)"
   ]
  },
  {
   "cell_type": "markdown",
   "metadata": {},
   "source": [
    "- Notice that we didn't put the result in a variable\n",
    "- That is because `append` already altered variable `x`. "
   ]
  },
  {
   "cell_type": "markdown",
   "metadata": {
    "slideshow": {
     "slide_type": "fragment"
    }
   },
   "source": [
    "- How would we add elements to the end of the list just using list operations?\n",
    "\n",
    "**HINT**: we summed lists earlier"
   ]
  },
  {
   "cell_type": "code",
   "execution_count": 59,
   "metadata": {
    "slideshow": {
     "slide_type": "fragment"
    }
   },
   "outputs": [
    {
     "name": "stdout",
     "output_type": "stream",
     "text": [
      "['a', 'z', 'c', 'D', 'E']\n"
     ]
    }
   ],
   "source": [
    "x = x + ['E']\n",
    "print(x)"
   ]
  },
  {
   "cell_type": "markdown",
   "metadata": {
    "slideshow": {
     "slide_type": "subslide"
    }
   },
   "source": [
    "# 4. Python Lists\n",
    "## 4.8. Summary\n",
    "\n",
    "- `Lists` are a python **type** and a **collection of values**\n",
    "- `Lists` are made with square brackets `[\"value1\", \"value2\"]`\n",
    "- `Lists` can have different **types** inside\n",
    "- `Lists` have **indexes** and it starts at `0`, or `-1` if starting from last\n",
    "- We access a `list` value also using square brackets `list[0]`\n",
    "- `Lists` can be **sliced**, to take several values \n",
    "- We can alter singular values of `lists` by doing `list[0] = 'a'`\n",
    "- We can add elements to the end of the `list` with `append`\n",
    "- `Lists` can be summed togehter to **join** the lists"
   ]
  },
  {
   "cell_type": "markdown",
   "metadata": {
    "slideshow": {
     "slide_type": "slide"
    }
   },
   "source": [
    "# 5. Python Functions\n",
    "<br>\n",
    "<center>\n",
    "<img src=\"https://files.realpython.com/media/building_with_python_watermark.2ebe5beb5b1e.jpg\">\n",
    "    </center>"
   ]
  },
  {
   "cell_type": "markdown",
   "metadata": {
    "slideshow": {
     "slide_type": "subslide"
    }
   },
   "source": [
    "# 5. Python Functions\n",
    "\n",
    "## 5.1 Functions \n",
    "\n",
    "- FYI, we have already used **functions** like `type` and `print` (see that green text on your notebook?)\n",
    "- Like in Math $f(x)=y$ the function `f` takes in **argument** `x` and **returns** the result `y`\n",
    "\n"
   ]
  },
  {
   "cell_type": "markdown",
   "metadata": {
    "slideshow": {
     "slide_type": "fragment"
    }
   },
   "source": [
    "- In short, a function is reusable code! We have used `print` a **lot** by now\n",
    "- Functions are how IT got so big, you can just share your functions, and never have to write them\n",
    "\n"
   ]
  },
  {
   "cell_type": "markdown",
   "metadata": {
    "slideshow": {
     "slide_type": "fragment"
    }
   },
   "source": [
    "- A function **returns** a value, so you can also put the result in a variable\n",
    "- Let's look at a few examples, that come with Python\n",
    "\n",
    "`min` and `max`"
   ]
  },
  {
   "cell_type": "code",
   "execution_count": 60,
   "metadata": {
    "slideshow": {
     "slide_type": "-"
    }
   },
   "outputs": [
    {
     "name": "stdout",
     "output_type": "stream",
     "text": [
      "4 0\n"
     ]
    }
   ],
   "source": [
    "numbers = [0, 1, 2, 3, 4]\n",
    "max_value = max(numbers)\n",
    "min_value = min(numbers)\n",
    "print(max_value, min_value)"
   ]
  },
  {
   "cell_type": "markdown",
   "metadata": {
    "slideshow": {
     "slide_type": "fragment"
    }
   },
   "source": [
    "- So if there are a lot of already made functions, how do we find them?\n",
    "    - With time...\n",
    "    - With practice...\n",
    "    "
   ]
  },
  {
   "cell_type": "markdown",
   "metadata": {
    "slideshow": {
     "slide_type": "subslide"
    }
   },
   "source": [
    "<center>\n",
    "<img src=\"https://encrypted-tbn0.gstatic.com/images?q=tbn%3AANd9GcSuBOhO_O1WbFWe6Iit3tN5Mv8hL7bhKjZduG7lVHa7WzXCsqRl\" width=700 height=700>\n",
    "</center>"
   ]
  },
  {
   "cell_type": "markdown",
   "metadata": {
    "slideshow": {
     "slide_type": "subslide"
    }
   },
   "source": [
    "# 5. Python Functions\n",
    "## 5.2. Exercise - Private Investigator I\n",
    "\n",
    "We want to find how to **round** numbers in Python. We don't want the decimal part.\n",
    "\n",
    "1. The Internet is your friend (maybe). Especially Google (maybe).\n",
    "2. Search the internet for `PYTHON HOW TO ROUND NUMBERS`\n",
    "3. Look for `stackoverflow.com`, these ones are the best.\n",
    "4. Round the number `7.1`\n",
    "\n",
    "Keep in mind that if the answer is too long, it is probably not what you are looking for!"
   ]
  },
  {
   "cell_type": "code",
   "execution_count": 61,
   "metadata": {
    "slideshow": {
     "slide_type": "fragment"
    }
   },
   "outputs": [
    {
     "name": "stdout",
     "output_type": "stream",
     "text": [
      "7\n"
     ]
    }
   ],
   "source": [
    "# ANSWER\n",
    "print(round(7.1))"
   ]
  },
  {
   "cell_type": "markdown",
   "metadata": {
    "slideshow": {
     "slide_type": "subslide"
    }
   },
   "source": [
    "# 5. Python Functions\n",
    "## 5.3. Exercise - Private Investigator II\n",
    "\n",
    "This time around, we want to know the **length** of a `list`.\n",
    "\n",
    "Happy finding!"
   ]
  },
  {
   "cell_type": "code",
   "execution_count": 62,
   "metadata": {
    "slideshow": {
     "slide_type": "fragment"
    }
   },
   "outputs": [
    {
     "name": "stdout",
     "output_type": "stream",
     "text": [
      "3\n"
     ]
    }
   ],
   "source": [
    "numbers = [1, 2, 3]\n",
    "print(len(numbers))"
   ]
  },
  {
   "cell_type": "markdown",
   "metadata": {
    "slideshow": {
     "slide_type": "fragment"
    }
   },
   "source": [
    "- This is why it is useful to know the **keywords** like\n",
    "    - **Type**\n",
    "    - **List**\n",
    "    - etc..."
   ]
  },
  {
   "cell_type": "markdown",
   "metadata": {
    "slideshow": {
     "slide_type": "subslide"
    }
   },
   "source": [
    "# 5. Python Functions\n",
    "## 5.4. Methods\n",
    "\n",
    "- Until now we have seen one, the `append` for the `lists`\n",
    "- You can identify them when they come after a dot `.` (i.e. `list.append('E')`) \n",
    "- **Method** is just a fancy word for **function** that belongs to a **type**"
   ]
  },
  {
   "cell_type": "markdown",
   "metadata": {
    "slideshow": {
     "slide_type": "fragment"
    }
   },
   "source": [
    "### String Methods\n",
    "#### `split`\n",
    "- allows you to **separate** a string by a **character**."
   ]
  },
  {
   "cell_type": "code",
   "execution_count": 63,
   "metadata": {
    "slideshow": {
     "slide_type": "-"
    }
   },
   "outputs": [
    {
     "name": "stdout",
     "output_type": "stream",
     "text": [
      "Hello world!\n",
      "['Hello', 'world!']\n"
     ]
    }
   ],
   "source": [
    "string = \"Hello world!\"\n",
    "print(string)\n",
    "splitted_string = string.split(' ')\n",
    "print(splitted_string)"
   ]
  },
  {
   "cell_type": "markdown",
   "metadata": {
    "slideshow": {
     "slide_type": "fragment"
    }
   },
   "source": [
    "#### `join`\n",
    "- inverse of split. Glues a list of words (`string`s) together **with** a charactesr"
   ]
  },
  {
   "cell_type": "code",
   "execution_count": 64,
   "metadata": {
    "slideshow": {
     "slide_type": "-"
    }
   },
   "outputs": [
    {
     "name": "stdout",
     "output_type": "stream",
     "text": [
      "Hello world!\n"
     ]
    }
   ],
   "source": [
    "sentence = \" \".join(splitted_string)\n",
    "print(sentence)"
   ]
  },
  {
   "cell_type": "markdown",
   "metadata": {
    "slideshow": {
     "slide_type": "fragment"
    }
   },
   "source": [
    "### List Methods\n",
    "#### `sort`\n",
    "- sorts all the values inside your list"
   ]
  },
  {
   "cell_type": "code",
   "execution_count": 65,
   "metadata": {
    "slideshow": {
     "slide_type": "-"
    }
   },
   "outputs": [
    {
     "name": "stdout",
     "output_type": "stream",
     "text": [
      "[2, 3, 5] None\n"
     ]
    }
   ],
   "source": [
    "numbers = [5, 2, 3]\n",
    "sorted_list = numbers.sort()\n",
    "print(numbers, sorted_list)"
   ]
  },
  {
   "cell_type": "markdown",
   "metadata": {
    "slideshow": {
     "slide_type": "fragment"
    }
   },
   "source": [
    "####  `reverse`\n",
    "- reverses the values of the list. First goes last, etc."
   ]
  },
  {
   "cell_type": "code",
   "execution_count": 66,
   "metadata": {
    "slideshow": {
     "slide_type": "-"
    }
   },
   "outputs": [
    {
     "name": "stdout",
     "output_type": "stream",
     "text": [
      "[3, 2, 5] None\n"
     ]
    }
   ],
   "source": [
    "numbers = [5, 2, 3]\n",
    "reversed_list = numbers.reverse()\n",
    "print(numbers, reversed_list)"
   ]
  },
  {
   "cell_type": "markdown",
   "metadata": {
    "slideshow": {
     "slide_type": "-"
    }
   },
   "source": [
    "- **WARNING**: methods like `reverse`, `sort` and `append` modify the variable, but **don't return anything! (`None`)** "
   ]
  },
  {
   "cell_type": "markdown",
   "metadata": {
    "slideshow": {
     "slide_type": "subslide"
    }
   },
   "source": [
    "# 5. Python Functions\n",
    "\n",
    "## 5.5. Building our own functions\n",
    "\n",
    "- Functions are a convenient way to divide your code into useful blocks\n",
    "- It allows us to:\n",
    "    1. Order and organize our code \n",
    "    2. Make the code more readable, especially for **other** people\n",
    "    3. Reuse code and share with others \n",
    "    \n",
    "- Function code blocks have to be organized in a strict way \n",
    "\n"
   ]
  },
  {
   "cell_type": "markdown",
   "metadata": {
    "slideshow": {
     "slide_type": "fragment"
    }
   },
   "source": [
    "Example:"
   ]
  },
  {
   "cell_type": "code",
   "execution_count": 67,
   "metadata": {
    "slideshow": {
     "slide_type": "-"
    }
   },
   "outputs": [
    {
     "name": "stdout",
     "output_type": "stream",
     "text": [
      "Executing function. Beep-boop.\n",
      "68.0\n"
     ]
    }
   ],
   "source": [
    "def celsius_to_farh(temp):\n",
    "    print(\"Executing function. Beep-boop.\")\n",
    "    return 9/5 * temp + 32\n",
    "print(celsius_to_farh(20))"
   ]
  },
  {
   "cell_type": "markdown",
   "metadata": {
    "slideshow": {
     "slide_type": "subslide"
    }
   },
   "source": [
    "# 5. Python Functions\n",
    "\n",
    "### 5.5.1. Anatomy of a function"
   ]
  },
  {
   "cell_type": "markdown",
   "metadata": {},
   "source": [
    "<center>\n",
    "<img src=\"https://geo-python.github.io/site/develop/_images/Function_anatomy-400.png\">\n",
    "</center>"
   ]
  },
  {
   "cell_type": "markdown",
   "metadata": {},
   "source": [
    "1. **Mandatory**: `def` keyword\n",
    "2. **Mandatory**: function name\n",
    "3. **Mandatory**: function parenthesis `( )`\n",
    "4. **Optional**: funtion argument or parameter, inside the parenthesis\n",
    "5. **Mandatory**: double dots `:` after parenthesis\n",
    "6. **Optional**: `return` statement. The function can just `print`, for instance\n",
    "7. **Optional**: return value"
   ]
  },
  {
   "cell_type": "markdown",
   "metadata": {
    "slideshow": {
     "slide_type": "fragment"
    }
   },
   "source": [
    "- This is how we **call** a function. \n",
    "    1. Write its name \n",
    "    2. Open parenthesis `( )`\n",
    "    3. Put input arguments, if applicable"
   ]
  },
  {
   "cell_type": "code",
   "execution_count": 68,
   "metadata": {
    "slideshow": {
     "slide_type": "-"
    }
   },
   "outputs": [
    {
     "name": "stdout",
     "output_type": "stream",
     "text": [
      "Executing function. Beep-boop.\n",
      "68.0\n"
     ]
    }
   ],
   "source": [
    "def celsius_to_farh(temp):\n",
    "    print(\"Executing function. Beep-boop.\")\n",
    "    return 9/5 * temp + 32\n",
    "print(celsius_to_farh(20))"
   ]
  },
  {
   "cell_type": "markdown",
   "metadata": {
    "slideshow": {
     "slide_type": "subslide"
    }
   },
   "source": [
    "# 5. Python Functions\n",
    "\n",
    "## 5.6. Indentation\n",
    "\n",
    "- In Python there's a thing called **indentation**\n",
    "- It just means your code has to be organized in a certain fashion"
   ]
  },
  {
   "cell_type": "code",
   "execution_count": 69,
   "metadata": {},
   "outputs": [],
   "source": [
    "def celsius_to_farh(temp):\n",
    "    print(\"Executing function. Beep-boop.\")\n",
    "    return 9/5 * temp + 32"
   ]
  },
  {
   "cell_type": "markdown",
   "metadata": {
    "slideshow": {
     "slide_type": "fragment"
    }
   },
   "source": [
    "- If you don't follow **indentation**..."
   ]
  },
  {
   "cell_type": "code",
   "execution_count": 70,
   "metadata": {
    "slideshow": {
     "slide_type": "-"
    }
   },
   "outputs": [
    {
     "ename": "IndentationError",
     "evalue": "expected an indented block (<ipython-input-70-bbeb791d6066>, line 2)",
     "output_type": "error",
     "traceback": [
      "\u001b[0;36m  File \u001b[0;32m\"<ipython-input-70-bbeb791d6066>\"\u001b[0;36m, line \u001b[0;32m2\u001b[0m\n\u001b[0;31m    print(\"Executing function. Beep-boop.\")\u001b[0m\n\u001b[0m        ^\u001b[0m\n\u001b[0;31mIndentationError\u001b[0m\u001b[0;31m:\u001b[0m expected an indented block\n"
     ]
    }
   ],
   "source": [
    "def celsius_to_farh(temp):\n",
    "print(\"Executing function. Beep-boop.\")\n",
    "return 9/5 * temp + 32"
   ]
  },
  {
   "cell_type": "markdown",
   "metadata": {
    "slideshow": {
     "slide_type": "-"
    }
   },
   "source": [
    "- You can indent your line of code by pressing the `<TAB>` key. Right next to your `Q` key."
   ]
  },
  {
   "cell_type": "markdown",
   "metadata": {
    "slideshow": {
     "slide_type": "subslide"
    }
   },
   "source": [
    "# 5. Python Functions\n",
    "## 5.7. Quick Response Exercise\n",
    "\n",
    "Is this a valid function?"
   ]
  },
  {
   "cell_type": "code",
   "execution_count": 71,
   "metadata": {},
   "outputs": [],
   "source": [
    "def useless_function():\n",
    "    return"
   ]
  },
  {
   "cell_type": "markdown",
   "metadata": {
    "slideshow": {
     "slide_type": "fragment"
    }
   },
   "source": [
    "<p style=\"color:#789922\"> > YES! </p>"
   ]
  },
  {
   "cell_type": "markdown",
   "metadata": {
    "slideshow": {
     "slide_type": "subslide"
    }
   },
   "source": [
    "# 5. Python Functions\n",
    "## 5.8. Exercise - Writing your first function\n",
    "\n",
    "Remember inflation rate?\n",
    "\n",
    "$$IR = \\frac{CPI_2 - CPI_1}{CPI_1}$$\n",
    "<br>\n",
    "$$CPI_{2000} = 0.0386$$\n",
    "$$CPI_{2019} = 0.0042$$\n",
    "\n",
    "1. Write a **function** called `inflation_rate` that takes two `CPI` arguments (`cpi_1` and `cpi_2`) and calculates the inflation rate.\n",
    "2. Call the **function** you created and **assign** the result in a **variable** named `ir`.\n",
    "3. `Print` the result"
   ]
  },
  {
   "cell_type": "code",
   "execution_count": 72,
   "metadata": {
    "slideshow": {
     "slide_type": "fragment"
    }
   },
   "outputs": [
    {
     "name": "stdout",
     "output_type": "stream",
     "text": [
      "-0.8911917098445595\n"
     ]
    }
   ],
   "source": [
    "def inflation_rate(cpi_1, cpi_2):\n",
    "    return (cpi_2 - cpi_1) / cpi_1\n",
    "ir = inflation_rate(0.0386, 0.0042)\n",
    "print(ir)"
   ]
  },
  {
   "cell_type": "markdown",
   "metadata": {},
   "source": [
    "# 5. Python Functions\n",
    "## 5.9. Summary\n",
    "\n",
    "- Python already has **built-in** functions, like `print`, `min`, `max`, `len` and `round` (green text!)\n",
    "- **Google** is the programmers best friend - hone up those PI skills\n",
    "- **Methods** are **functions** that belong to a **type** like `append` for `lists`\n",
    "- **Functions** are composed of:\n",
    "    - `def` \n",
    "    - function name\n",
    "    - arguments\n",
    "    - return\n",
    "- Python has **indentation** (just makes your code look pretty)\n",
    "- **Function** results can be assigned to variables\n"
   ]
  },
  {
   "cell_type": "markdown",
   "metadata": {
    "slideshow": {
     "slide_type": "slide"
    }
   },
   "source": [
    "# 6. Loops and iterations\n",
    "<br>\n",
    "<center>\n",
    "    <img src=\"https://files.realpython.com/media/Pythons-range-function_Watermark.5e8ea929167e.jpg\">\n",
    "</center> "
   ]
  },
  {
   "cell_type": "markdown",
   "metadata": {
    "slideshow": {
     "slide_type": "subslide"
    }
   },
   "source": [
    "# 6. Loops and iterations\n",
    "## 6.1. The `for` loop\n",
    "\n",
    "\n",
    "- What if we want to do something to **every** element of the `list`?\n",
    "- **For** every index of the list, do something. "
   ]
  },
  {
   "cell_type": "code",
   "execution_count": 73,
   "metadata": {},
   "outputs": [
    {
     "name": "stdout",
     "output_type": "stream",
     "text": [
      "1\n",
      "2\n",
      "3\n"
     ]
    }
   ],
   "source": [
    "ez_list = [1, 2, 3]\n",
    "print(ez_list[0])\n",
    "print(ez_list[1])\n",
    "print(ez_list[2])"
   ]
  },
  {
   "cell_type": "markdown",
   "metadata": {
    "slideshow": {
     "slide_type": "fragment"
    }
   },
   "source": [
    "\n",
    "- No one wants to write `list[i]` 100 times if the list has a length of 100\n",
    "- The answer for this problem, are **loops** or **iterations**\n",
    "- This is called a `for` **loop**"
   ]
  },
  {
   "cell_type": "code",
   "execution_count": 74,
   "metadata": {
    "slideshow": {
     "slide_type": "-"
    }
   },
   "outputs": [
    {
     "name": "stdout",
     "output_type": "stream",
     "text": [
      "1\n",
      "2\n",
      "3\n"
     ]
    }
   ],
   "source": [
    "ez_list = [1, 2, 3]\n",
    "for i in ez_list:\n",
    "    print(i)"
   ]
  },
  {
   "cell_type": "markdown",
   "metadata": {
    "slideshow": {
     "slide_type": "subslide"
    }
   },
   "source": [
    "# 6. Loops and iterations\n",
    "\n",
    "## 6.2. The anatomy of a `for` loop"
   ]
  },
  {
   "cell_type": "markdown",
   "metadata": {
    "slideshow": {
     "slide_type": "-"
    }
   },
   "source": [
    "<center>\n",
    "<img src=\"https://www.dataquest.io/wp-content/uploads/2018/06/91NoaP0.jpg\">\n",
    "<center>"
   ]
  },
  {
   "cell_type": "markdown",
   "metadata": {},
   "source": [
    "1. **Mandatory**: `for` keyword\n",
    "2. **Mandatory**: temporary variable name\n",
    "3. **Mandatory**: `in` keyword\n",
    "4. **Mandatory**: name of the list we want to **iterate**\n",
    "5. **Mandatory**: double dots `:` after list name"
   ]
  },
  {
   "cell_type": "markdown",
   "metadata": {
    "slideshow": {
     "slide_type": "subslide"
    }
   },
   "source": [
    "# 6. Loops and iterations\n",
    "\n",
    "## 6.3. Compound Exercise - Summing the squres of a list of numbers\n",
    "\n",
    "We want to sum up the entirety of a list of numbers from 1 to 10, but we want to sum the **square** of each element.\n",
    "\n",
    "There are two ways of doing this exercise.\n",
    "\n",
    "1. Create a list of numbers from 1 through 10 (**EXTRA**: you can search google for `python how to create a list of numbers`)\n",
    "2. Iterate through the list of numbers, using a **for** loop\n",
    "\n",
    "### Magnum PI Route\n",
    "3. Create an additional empty list (just `[]` and call it `helper`) outside of the for loop (this is really important)\n",
    "4. As you iterate, `append` the square of the number to the empty list\n",
    "5. Search google for `python how to sum a list of numbers` (**HINT**: it is a function like `max` or `min`)\n",
    "6. Put in a function named `sum_list` that takes in an argument named `number_list`\n",
    "7. Print the result when calling the function\n",
    "\n",
    "### Back to Basics Route\n",
    "3. Create an additional variable called `sum_total` outside of the **for** loop, with the value of 0. This is where we will store the result (**HINT**:  We can do `x = x + 1`)\n",
    "4. Iterate the list and add the square of the number to `sum_total`\n",
    "5. Put in a function named `sum_list` that takes in an argument named `number_list`\n",
    "5. Print the result when calling the function"
   ]
  },
  {
   "cell_type": "code",
   "execution_count": 75,
   "metadata": {
    "slideshow": {
     "slide_type": "fragment"
    }
   },
   "outputs": [
    {
     "name": "stdout",
     "output_type": "stream",
     "text": [
      "385\n"
     ]
    }
   ],
   "source": [
    "# BACK TO BASICS ROUTE\n",
    "\n",
    "numbers = [1, 2, 3, 4, 5, 6, 7, 8, 9, 10]\n",
    "\n",
    "def sum_list(number_list):\n",
    "    sum_total = 0\n",
    "    for num in numbers:\n",
    "        sum_total = sum_total + num**2\n",
    "    return sum_total\n",
    "print(sum_list(numbers))"
   ]
  },
  {
   "cell_type": "markdown",
   "metadata": {
    "slideshow": {
     "slide_type": "fragment"
    }
   },
   "source": [
    "- We can create lists of numbers using the `range` function. Like slices the last element is **not** inclusive. Beware!\n",
    "- To **sum** a list of numbers we have the `sum` function"
   ]
  },
  {
   "cell_type": "code",
   "execution_count": 76,
   "metadata": {
    "slideshow": {
     "slide_type": "-"
    }
   },
   "outputs": [
    {
     "name": "stdout",
     "output_type": "stream",
     "text": [
      "385\n"
     ]
    }
   ],
   "source": [
    "# FULL MAGNUM PI ROUTE\n",
    "numbers = range(1, 11)\n",
    "\n",
    "def sum_list(number_list):\n",
    "    sum_total = []\n",
    "    for num in numbers:\n",
    "        sum_total.append(num**2)\n",
    "    return sum(sum_total)\n",
    "print(sum_list(numbers))"
   ]
  },
  {
   "cell_type": "markdown",
   "metadata": {
    "slideshow": {
     "slide_type": "subslide"
    }
   },
   "source": [
    "# 6. Loops and iterations\n",
    "\n",
    "## 6.4. Summary\n",
    "\n",
    "- We can **iterate** a list with a `for` loop\n",
    "- The `for` loop is composed of:\n",
    "    - `for` keyword\n",
    "    - temporary variable name\n",
    "    - `in` keyword\n",
    "    - the `list` that we want to iterate\n",
    "- `range` allows us to do lists of sequential numbers\n",
    "- `sum` allows us to add every **element** of a `list` "
   ]
  },
  {
   "cell_type": "markdown",
   "metadata": {
    "slideshow": {
     "slide_type": "slide"
    }
   },
   "source": [
    "# 7. What if? What else? Conditionals\n",
    "<br>\n",
    "\n",
    "<center>\n",
    "<img src=\"https://files.realpython.com/media/The-Python-OR-Keyword_Watermarked.18e16a4721d8.jpg\">\n",
    "</center>"
   ]
  },
  {
   "cell_type": "markdown",
   "metadata": {
    "slideshow": {
     "slide_type": "subslide"
    }
   },
   "source": [
    "# 7. What if? What else? Conditionals\n",
    "\n",
    "\n",
    "- What if we want to give **different behavior** according to the value of a variable?\n",
    "- For instance, `if` a member of our company belong to the `content` team, **then** `print` something.\n",
    "- **Conditionals** are a very powerful tool that allow us to **alter the flow** of how our code works.\n",
    "\n"
   ]
  },
  {
   "cell_type": "markdown",
   "metadata": {
    "slideshow": {
     "slide_type": "fragment"
    }
   },
   "source": [
    "Example:"
   ]
  },
  {
   "cell_type": "code",
   "execution_count": 77,
   "metadata": {
    "slideshow": {
     "slide_type": "-"
    }
   },
   "outputs": [
    {
     "name": "stdout",
     "output_type": "stream",
     "text": [
      "This person comes from the content team.\n"
     ]
    }
   ],
   "source": [
    "team = 'content'\n",
    "if team == 'content':\n",
    "    print(\"This person comes from the content team.\")"
   ]
  },
  {
   "cell_type": "markdown",
   "metadata": {
    "slideshow": {
     "slide_type": "subslide"
    }
   },
   "source": [
    "# 7. What if? What else? Conditionals\n",
    "\n",
    "## 7.1. Anatomy of an `if` statement\n",
    "\n",
    "<center>\n",
    "    \n",
    "<img src=\"https://dq-blog-files.s3.amazonaws.com/if-else/if_syntax.svg\" width=120%>\n",
    "</center>"
   ]
  },
  {
   "cell_type": "markdown",
   "metadata": {},
   "source": [
    "1. **Mandatory**: `if` keyword\n",
    "2. **Mandatory**: **condition**\n",
    "5. **Mandatory**: double dots `:` after the **condition**\n",
    "3. **Optional**: `else` keyword\n",
    "5. **Mandatory**: double dots `:` after `else` keyword"
   ]
  },
  {
   "cell_type": "markdown",
   "metadata": {
    "slideshow": {
     "slide_type": "fragment"
    }
   },
   "source": [
    "- New things that are notable here:\n",
    "    - The **condition**: `team == 'content'`\n",
    "    - The `==` sign. What does it mean?\n",
    "    \n",
    "- A condition is like a thing that happens or doesn't happen. A **yes** or a **no**\n",
    "- So if _this_ (condition) happens **then** do this, **else** do something different"
   ]
  },
  {
   "cell_type": "markdown",
   "metadata": {
    "slideshow": {
     "slide_type": "subslide"
    }
   },
   "source": [
    "# 7. What if? What else? Conditionals\n",
    "\n",
    "## 7.1. Intermission. A new type appears - Booleans\n",
    "\n",
    "- Conditions answer a **Yes** or **No** question\n",
    "- This **Yes** or **No** is a **type** in Python - **Boleans**\n",
    "- They can be either **True** (yes) or **False** (no)\n"
   ]
  },
  {
   "cell_type": "code",
   "execution_count": 78,
   "metadata": {},
   "outputs": [
    {
     "data": {
      "text/plain": [
       "bool"
      ]
     },
     "execution_count": 78,
     "metadata": {},
     "output_type": "execute_result"
    }
   ],
   "source": [
    "boolean = True\n",
    "type(boolean)"
   ]
  },
  {
   "cell_type": "markdown",
   "metadata": {
    "slideshow": {
     "slide_type": "fragment"
    }
   },
   "source": [
    "- What happens in an **if statement**:\n",
    " - `If` the **condition** is **True** **then** do something\n",
    " - `Else` (it is **False**) do something different"
   ]
  },
  {
   "cell_type": "code",
   "execution_count": 79,
   "metadata": {},
   "outputs": [
    {
     "name": "stdout",
     "output_type": "stream",
     "text": [
      "THE TRUTH!\n"
     ]
    }
   ],
   "source": [
    "if True:\n",
    "    print(\"THE TRUTH!\")\n",
    "else:\n",
    "    print(\"This is False\")"
   ]
  },
  {
   "cell_type": "markdown",
   "metadata": {
    "slideshow": {
     "slide_type": "fragment"
    }
   },
   "source": [
    "- In the example earlier what is happening is that our **condition evaluates to True** if it is an even number"
   ]
  },
  {
   "cell_type": "code",
   "execution_count": 80,
   "metadata": {},
   "outputs": [
    {
     "name": "stdout",
     "output_type": "stream",
     "text": [
      "Content Team\n",
      "True\n",
      "True\n"
     ]
    }
   ],
   "source": [
    "team = 'content'\n",
    "if team == 'content':\n",
    "    print(\"Content Team\")\n",
    "else:\n",
    "    print(\"Not content team\")\n",
    "\n",
    "print(team == 'content')\n",
    "condition_value = (team == 'content')\n",
    "print(condition_value)"
   ]
  },
  {
   "cell_type": "markdown",
   "metadata": {},
   "source": [
    "- We still don't know a lot about `==`. It just _tests_ equality"
   ]
  },
  {
   "cell_type": "markdown",
   "metadata": {
    "slideshow": {
     "slide_type": "subslide"
    }
   },
   "source": [
    "# 7. What if? What else? Conditionals\n",
    "\n",
    "## 7.2. Comparison Operators\n",
    "\n",
    "- Comparison operators are like `+` or `*` - they operate with two variables\n",
    "- But they give a **boolean** result\n",
    "- They ask a question i.e. _\"Is the first number **equal** to the second one?\"_. \n",
    "- **Yes** or **No** / `True` or `False` -> `Boolean`\n",
    "\n",
    "\n",
    "| Symbol &nbsp; &nbsp; &nbsp; &nbsp; &nbsp; &nbsp;&nbsp; &nbsp; &nbsp;&nbsp; &nbsp; &nbsp;&nbsp; &nbsp; &nbsp;&nbsp; &nbsp; &nbsp;&nbsp; &nbsp; &nbsp;&nbsp; &nbsp; &nbsp; | Task Performed &nbsp; &nbsp; &nbsp; &nbsp; &nbsp;&nbsp; &nbsp;&nbsp; &nbsp;|\n",
    "|--------|----------------|\n",
    "| <p style=\"font-size:18px;\">==</p>      | <p style=\"font-size:18px;\">True, if it is equal</p>         |\n",
    "| <p style=\"font-size:18px;\">!=</p>      | <p style=\"font-size:18px;\">True, if not equal to</p>    |\n",
    "| <p style=\"font-size:18px;\"> < </p>      | <p style=\"font-size:18px;\">Less than</p>       |\n",
    "| <p style=\"font-size:18px;\">></p>      | <p style=\"font-size:18px;\">Greater than</p>            |\n",
    "| <p style=\"font-size:18px;\"><=</p>      | <p style=\"font-size:18px;\">Less than or equal to</p> |\n",
    "| <p style=\"font-size:18px;\">>=</p>     | <p style=\"font-size:18px;\">Greater than or equal to</p> |\n",
    "\n"
   ]
  },
  {
   "cell_type": "code",
   "execution_count": 81,
   "metadata": {
    "slideshow": {
     "slide_type": "fragment"
    }
   },
   "outputs": [
    {
     "name": "stdout",
     "output_type": "stream",
     "text": [
      "True\n"
     ]
    }
   ],
   "source": [
    "print(1==1)"
   ]
  },
  {
   "cell_type": "markdown",
   "metadata": {},
   "source": [
    "- `==` and `!=` can also be used on strings. It can be used on anything!"
   ]
  },
  {
   "cell_type": "code",
   "execution_count": 104,
   "metadata": {},
   "outputs": [
    {
     "name": "stdout",
     "output_type": "stream",
     "text": [
      "False\n"
     ]
    }
   ],
   "source": [
    "print('a' == 'c')"
   ]
  },
  {
   "cell_type": "code",
   "execution_count": 82,
   "metadata": {},
   "outputs": [
    {
     "name": "stdout",
     "output_type": "stream",
     "text": [
      "False\n"
     ]
    }
   ],
   "source": [
    "print(1!=1)"
   ]
  },
  {
   "cell_type": "code",
   "execution_count": 83,
   "metadata": {},
   "outputs": [
    {
     "name": "stdout",
     "output_type": "stream",
     "text": [
      "True\n"
     ]
    }
   ],
   "source": [
    "print(1<2)"
   ]
  },
  {
   "cell_type": "markdown",
   "metadata": {
    "slideshow": {
     "slide_type": "subslide"
    }
   },
   "source": [
    "# 7. What if? What else? Conditionals\n",
    "\n",
    "## 7.3. Boolean operators - for booleans\n",
    "\n",
    "- There are also **boolean** operators that operate **boolean** values\n",
    "- They are like math, but for **True** and **False**, **Yes** or **No**\n",
    "\n",
    "\n",
    "| Symbol &nbsp; &nbsp; &nbsp; &nbsp; &nbsp; &nbsp;&nbsp; &nbsp; &nbsp;&nbsp; &nbsp; &nbsp;&nbsp; &nbsp; &nbsp;&nbsp; &nbsp; &nbsp;&nbsp; &nbsp; &nbsp;&nbsp; &nbsp; &nbsp; | Task Performed &nbsp; &nbsp; &nbsp; &nbsp; &nbsp;&nbsp; &nbsp;&nbsp; &nbsp;|\n",
    "|--------|----------------|\n",
    "| <p style=\"font-size:18px;\">and</p>      | <p style=\"font-size:18px;\">Logical <b>and</b> </p>         |\n",
    "| <p style=\"font-size:18px;\">or</p>      | <p style=\"font-size:18px;\">Logical <b>or</b></p>    |\n",
    "| <p style=\"font-size:18px;\">not</p>      | <p style=\"font-size:18px;\">Logical <b>not</b></p>       |\n",
    "| <p style=\"font-size:18px;\">in</p>      | <p style=\"font-size:18px;\">If an element is <b>in</b> a list</p>            |\n"
   ]
  },
  {
   "cell_type": "markdown",
   "metadata": {
    "slideshow": {
     "slide_type": "fragment"
    }
   },
   "source": [
    "- A mind trick that worked for me is to think the following\n",
    "    - **True** = 1\n",
    "    - **False** = 0\n",
    "- And actually..."
   ]
  },
  {
   "cell_type": "code",
   "execution_count": 84,
   "metadata": {},
   "outputs": [
    {
     "name": "stdout",
     "output_type": "stream",
     "text": [
      "1\n"
     ]
    }
   ],
   "source": [
    "print(int(True))"
   ]
  },
  {
   "cell_type": "markdown",
   "metadata": {
    "slideshow": {
     "slide_type": "fragment"
    }
   },
   "source": [
    "- So, the **and** works like **multiplication**"
   ]
  },
  {
   "cell_type": "code",
   "execution_count": 85,
   "metadata": {},
   "outputs": [
    {
     "name": "stdout",
     "output_type": "stream",
     "text": [
      "True\n"
     ]
    }
   ],
   "source": [
    "# 1*1 = 1\n",
    "print(True and True)"
   ]
  },
  {
   "cell_type": "code",
   "execution_count": 86,
   "metadata": {},
   "outputs": [
    {
     "name": "stdout",
     "output_type": "stream",
     "text": [
      "False\n"
     ]
    }
   ],
   "source": [
    "# 1*0 = 0\n",
    "print(True and False)"
   ]
  },
  {
   "cell_type": "markdown",
   "metadata": {
    "slideshow": {
     "slide_type": "fragment"
    }
   },
   "source": [
    "- The **or** works like **addition**"
   ]
  },
  {
   "cell_type": "code",
   "execution_count": 87,
   "metadata": {},
   "outputs": [
    {
     "name": "stdout",
     "output_type": "stream",
     "text": [
      "True\n"
     ]
    }
   ],
   "source": [
    "# 1 + 0 = 1\n",
    "print(True or False)"
   ]
  },
  {
   "cell_type": "code",
   "execution_count": 88,
   "metadata": {},
   "outputs": [
    {
     "name": "stdout",
     "output_type": "stream",
     "text": [
      "True\n"
     ]
    }
   ],
   "source": [
    "# 1+1 = 2 (1)\n",
    "print(True or True)"
   ]
  },
  {
   "cell_type": "markdown",
   "metadata": {
    "slideshow": {
     "slide_type": "fragment"
    }
   },
   "source": [
    "- The **not** is just the opposite"
   ]
  },
  {
   "cell_type": "code",
   "execution_count": 89,
   "metadata": {},
   "outputs": [
    {
     "name": "stdout",
     "output_type": "stream",
     "text": [
      "False\n"
     ]
    }
   ],
   "source": [
    "print(not True)"
   ]
  },
  {
   "cell_type": "code",
   "execution_count": 90,
   "metadata": {},
   "outputs": [
    {
     "name": "stdout",
     "output_type": "stream",
     "text": [
      "True\n"
     ]
    }
   ],
   "source": [
    "print(not False)"
   ]
  },
  {
   "cell_type": "markdown",
   "metadata": {
    "slideshow": {
     "slide_type": "fragment"
    }
   },
   "source": [
    "- The **in** deserves a special note, it doesn't follow the same logic as the ones above\n",
    "- It tests if an element is **inside** or **belongs to** a **list**!"
   ]
  },
  {
   "cell_type": "code",
   "execution_count": 91,
   "metadata": {},
   "outputs": [
    {
     "name": "stdout",
     "output_type": "stream",
     "text": [
      "True\n"
     ]
    }
   ],
   "source": [
    "print(1 in [1,2,3])"
   ]
  },
  {
   "cell_type": "code",
   "execution_count": 92,
   "metadata": {},
   "outputs": [
    {
     "name": "stdout",
     "output_type": "stream",
     "text": [
      "False\n"
     ]
    }
   ],
   "source": [
    "print(\"7\" in [1,2,3])"
   ]
  },
  {
   "cell_type": "markdown",
   "metadata": {
    "slideshow": {
     "slide_type": "fragment"
    }
   },
   "source": [
    "- On a curious note, it also works for **strings**"
   ]
  },
  {
   "cell_type": "code",
   "execution_count": 93,
   "metadata": {},
   "outputs": [
    {
     "name": "stdout",
     "output_type": "stream",
     "text": [
      "True\n"
     ]
    }
   ],
   "source": [
    "print(\"S\" in \"USA\")"
   ]
  },
  {
   "cell_type": "markdown",
   "metadata": {},
   "source": [
    "- Because `strings` are really just `lists`!"
   ]
  },
  {
   "cell_type": "markdown",
   "metadata": {
    "slideshow": {
     "slide_type": "subslide"
    }
   },
   "source": [
    "# 7. What if? What else? Conditionals\n",
    "\n",
    "## 7.5. An example"
   ]
  },
  {
   "cell_type": "code",
   "execution_count": 94,
   "metadata": {},
   "outputs": [
    {
     "name": "stdout",
     "output_type": "stream",
     "text": [
      "Found a number divisible by 2 and 3:  6\n",
      "Found a number divisible by 2 and 3:  12\n",
      "Found a number divisible by 2 and 3:  18\n",
      "Found a number divisible by 2 and 3:  24\n",
      "Found a number divisible by 2 and 3:  30\n",
      "Found a number divisible by 2 and 3:  36\n",
      "Found a number divisible by 2 and 3:  42\n",
      "Found a number divisible by 2 and 3:  48\n"
     ]
    }
   ],
   "source": [
    "numbers = range(1, 50)\n",
    "for num in numbers:\n",
    "    if (num % 2 == 0) and (num % 3 == 0):\n",
    "        print(\"Found a number divisible by 2 and 3: \", num)"
   ]
  },
  {
   "cell_type": "markdown",
   "metadata": {
    "slideshow": {
     "slide_type": "subslide"
    }
   },
   "source": [
    "# 7. What if? What else? Conditionals\n",
    "\n",
    "## 7.6. Exercise - All temperatures in Fahrenheit\n",
    "\n",
    "Our client gave us a list of temperatures both in Celsius and Fahrenheit. \\\n",
    "We want to clean the data, and have a **list** of just numbers.\n",
    "\n",
    "Here's the list the client gave us.\n",
    "\n",
    "```\n",
    "temperatures = [\"32C\", \"7F\", \"15C\", \"8C\"]\n",
    "```\n",
    "\n",
    "We notice, the client gave us a list of `strings` and that they have the indicator of\n",
    "- C for Celsius\n",
    "- F for Fahrenheit\n",
    "\n",
    "**NOTE**: We still have our conversion formula to Fahrenheit, called `celsius_to_fahr`.\n",
    "\n",
    "Exercise:\n",
    "0. Copy the list of temperatures to your notebook\n",
    "1. Create a function named `clean_data` that recieves a `list` of `string` temperatures and will:\n",
    "    0. Have a `list` called `clean_temperatures`, that we will use to put our results\n",
    "    1. Iterate all the elements in the list\n",
    "    2. **If** the **last character** of the string is `C` then, convert to Fahrenheit (use our previous function), and add the **number** to our list.\n",
    "    3. **Else**, just add the number to our list\n",
    "    4. Return the temperatures\n",
    "    \n",
    "**HINT**: You can access the last character using **reverse indexing** (`string[-1]`) \n",
    "<br>\n",
    "**HINT**: You can **slice** the string until the last character using (`string[:-1]`), because it is **exclusive**\n",
    "<br>\n",
    "**HINT**: You can convert a string to a number by doing (`int(string)`)"
   ]
  },
  {
   "cell_type": "code",
   "execution_count": 95,
   "metadata": {
    "slideshow": {
     "slide_type": "fragment"
    }
   },
   "outputs": [
    {
     "name": "stdout",
     "output_type": "stream",
     "text": [
      "Executing function. Beep-boop.\n",
      "Executing function. Beep-boop.\n",
      "Executing function. Beep-boop.\n",
      "[89.6, 7, 59.0, 46.4]\n"
     ]
    }
   ],
   "source": [
    "temperatures = [\"32C\", \"7F\", \"15C\", \"8C\"]\n",
    "\n",
    "def clean_data(temperatures):\n",
    "    clean_temperatures = []\n",
    "    for t in temperatures:\n",
    "        if t[-1] == 'C':\n",
    "            int_temp = int(t[:-1])\n",
    "            fahr = celsius_to_farh(int_temp)\n",
    "            clean_temperatures.append(fahr)\n",
    "        else:\n",
    "            int_temp = int(t[:-1])\n",
    "            clean_temperatures.append(int_temp)\n",
    "    return clean_temperatures\n",
    "\n",
    "print(clean_data(temperatures))"
   ]
  },
  {
   "cell_type": "markdown",
   "metadata": {
    "slideshow": {
     "slide_type": "subslide"
    }
   },
   "source": [
    "# 7. What if? What else? Conditionals\n",
    "\n",
    "## 7.7. Summary\n",
    "\n",
    "- **Conditions** allow us to alter the flow of our code\n",
    "- The `if` statement contains:\n",
    "    - `if` keyword\n",
    "    - **condition**\n",
    "    - `else` keyword if applicable\n",
    "- `Booleans` are `True` or `False`\n",
    "- We can compare two **variables** with **comparison operators** to have a `True` or `False`\n",
    "- `if` **condition** \"activates\" if it's value **evaluate** to `True`\n",
    "- **Boolean operators** allow us to combine several **conditions**\n",
    "    - \"All conditions must be `True`\" -> `and`\n",
    "    - \"At least one condition must be `True` -> `or`\n",
    "    - \"This condition must be `False`\" -> `not` (`if not False:`)\n",
    "    - \"This element must belong to this list\" -> `in`"
   ]
  },
  {
   "cell_type": "markdown",
   "metadata": {
    "slideshow": {
     "slide_type": "slide"
    }
   },
   "source": [
    "# 8 Giving code a home\n",
    "\n",
    "<br>\n",
    "<center>\n",
    "    <img src=\"https://pbs.twimg.com/media/DjHjJ6MWwAAgxeb.jpg\">\n",
    "    </center>\n"
   ]
  },
  {
   "cell_type": "markdown",
   "metadata": {
    "slideshow": {
     "slide_type": "subslide"
    }
   },
   "source": [
    "# 8 Giving code a home\n",
    "\n",
    "\n",
    "- Where does all of this code go?\n",
    "- Code is stored inside files or **scripts** (`file.py`)\n",
    "- This is the \"original\" way to use Python (i.e you _run_ a script/file)\n",
    "- A bunch of files are what is called a **package**\n",
    "\n",
    "```\n",
    "pkg/\n",
    "    finances.py\n",
    "    accounting.py\n",
    "```"
   ]
  },
  {
   "cell_type": "markdown",
   "metadata": {
    "slideshow": {
     "slide_type": "fragment"
    }
   },
   "source": [
    "- You can make your own **packages**\n",
    "- Or you can use **packages** developed by other people\n",
    "- For instance, **Numpy** and **Pandas** like we'll see in next class"
   ]
  },
  {
   "cell_type": "markdown",
   "metadata": {
    "slideshow": {
     "slide_type": "subslide"
    }
   },
   "source": [
    "# 8 Giving code a home\n",
    "\n",
    "## 8.1. Importing a package\n",
    "\n",
    "- To use a package, you have to **import** it"
   ]
  },
  {
   "cell_type": "code",
   "execution_count": 96,
   "metadata": {},
   "outputs": [],
   "source": [
    "import numpy"
   ]
  },
  {
   "cell_type": "markdown",
   "metadata": {},
   "source": [
    "- We know that **Numpy** has a **function** named `array`"
   ]
  },
  {
   "cell_type": "code",
   "execution_count": 97,
   "metadata": {
    "slideshow": {
     "slide_type": "fragment"
    }
   },
   "outputs": [
    {
     "ename": "NameError",
     "evalue": "name 'array' is not defined",
     "output_type": "error",
     "traceback": [
      "\u001b[0;31m---------------------------------------------------------------------------\u001b[0m",
      "\u001b[0;31mNameError\u001b[0m                                 Traceback (most recent call last)",
      "\u001b[0;32m<ipython-input-97-997bd2f22c63>\u001b[0m in \u001b[0;36m<module>\u001b[0;34m\u001b[0m\n\u001b[0;32m----> 1\u001b[0;31m \u001b[0marr\u001b[0m \u001b[0;34m=\u001b[0m \u001b[0marray\u001b[0m\u001b[0;34m(\u001b[0m\u001b[0;34m[\u001b[0m\u001b[0;36m1\u001b[0m\u001b[0;34m,\u001b[0m\u001b[0;36m2\u001b[0m\u001b[0;34m,\u001b[0m\u001b[0;36m3\u001b[0m\u001b[0;34m]\u001b[0m\u001b[0;34m)\u001b[0m\u001b[0;34m\u001b[0m\u001b[0;34m\u001b[0m\u001b[0m\n\u001b[0m\u001b[1;32m      2\u001b[0m \u001b[0mprint\u001b[0m\u001b[0;34m(\u001b[0m\u001b[0marr\u001b[0m\u001b[0;34m)\u001b[0m\u001b[0;34m\u001b[0m\u001b[0;34m\u001b[0m\u001b[0m\n",
      "\u001b[0;31mNameError\u001b[0m: name 'array' is not defined"
     ]
    }
   ],
   "source": [
    "arr = array([1,2,3])\n",
    "print(arr)"
   ]
  },
  {
   "cell_type": "markdown",
   "metadata": {
    "slideshow": {
     "slide_type": "fragment"
    }
   },
   "source": [
    "- Even though we know `array` exists, Python doesn't know that it comes from **Numpy**\n",
    "- So, we add the name of the **package** before, and add a dot `.`"
   ]
  },
  {
   "cell_type": "code",
   "execution_count": 98,
   "metadata": {},
   "outputs": [
    {
     "name": "stdout",
     "output_type": "stream",
     "text": [
      "[1 2 3]\n"
     ]
    }
   ],
   "source": [
    "arr = numpy.array([1,2,3])\n",
    "print(arr)"
   ]
  },
  {
   "cell_type": "markdown",
   "metadata": {
    "slideshow": {
     "slide_type": "fragment"
    }
   },
   "source": [
    "- We could also use a `from` **import** statement to only **import** what we need"
   ]
  },
  {
   "cell_type": "code",
   "execution_count": 99,
   "metadata": {},
   "outputs": [],
   "source": [
    "from numpy import array"
   ]
  },
  {
   "cell_type": "code",
   "execution_count": 100,
   "metadata": {},
   "outputs": [
    {
     "name": "stdout",
     "output_type": "stream",
     "text": [
      "[1 2 3]\n"
     ]
    }
   ],
   "source": [
    "arr = array([1,2,3])\n",
    "print(arr)"
   ]
  },
  {
   "cell_type": "markdown",
   "metadata": {
    "slideshow": {
     "slide_type": "fragment"
    }
   },
   "source": [
    "- Usually when using **Numpy** we want to use several functionalities, so a **from** is not proper\n",
    "- And it is not good for whoever is reading your code (if a technical person)\n",
    "- We can **import** a package with an **alias** using `as`"
   ]
  },
  {
   "cell_type": "code",
   "execution_count": 101,
   "metadata": {
    "slideshow": {
     "slide_type": "-"
    }
   },
   "outputs": [],
   "source": [
    "import numpy as np"
   ]
  },
  {
   "cell_type": "code",
   "execution_count": 102,
   "metadata": {},
   "outputs": [
    {
     "name": "stdout",
     "output_type": "stream",
     "text": [
      "[1 2 3]\n"
     ]
    }
   ],
   "source": [
    "arr = np.array([1,2,3])\n",
    "print(arr)"
   ]
  },
  {
   "cell_type": "markdown",
   "metadata": {
    "slideshow": {
     "slide_type": "subslide"
    }
   },
   "source": [
    "# 8 Giving code a home\n",
    "\n",
    "## 8.2. Exercise - calculating area of a circle\n",
    "\n",
    "We want to calculate the area of a circle.\n",
    "Remember the formula:\n",
    "\n",
    "$$A = 2\\pi R$$\n",
    "\n",
    "But we don't know the value of $\\pi$ and 3.14 is just not good enough.\n",
    "Don't worry, we have the `math` package from Python.\n",
    "\n",
    "1. Import the `math` package that comes with Python\n",
    "2. Assign `math.pi` to a variable named `pi`\n",
    "3. Create a function named `circle_area` that returns the area of a circle, when given an argument `radius`\n",
    "4. Print the area for a circle with radius 10"
   ]
  },
  {
   "cell_type": "code",
   "execution_count": 103,
   "metadata": {
    "slideshow": {
     "slide_type": "fragment"
    }
   },
   "outputs": [
    {
     "name": "stdout",
     "output_type": "stream",
     "text": [
      "314.1592653589793\n"
     ]
    }
   ],
   "source": [
    "import math\n",
    "pi = math.pi\n",
    "\n",
    "def circle_area(radius):\n",
    "    return pi * radius**2\n",
    "print(circle_area(10))"
   ]
  },
  {
   "cell_type": "markdown",
   "metadata": {
    "slideshow": {
     "slide_type": "subslide"
    }
   },
   "source": [
    "# 8 Giving code a home\n",
    "\n",
    "## 8.3. Summary\n",
    "\n",
    "- Code lives in **packages**. This is how they are distributed across the world\n",
    "- Python already comes with some **packages** like `math`\n",
    "- **Numpy** and **Pandas** are packages\n",
    "- We can **import** a package in multiple ways:\n",
    "    - `import numpy`\n",
    "    - `import numpy as np`\n",
    "    - `from numpy import array`"
   ]
  },
  {
   "cell_type": "markdown",
   "metadata": {
    "slideshow": {
     "slide_type": "slide"
    }
   },
   "source": [
    "# 9. Homework Assignment\n",
    "\n",
    "## 9.1. Doing your first package\n",
    "\n",
    "1. Where you created your notebook, create a file called `script.py`\n",
    "2. Put all the **functions** done in class into that file\n",
    "3. Open a new notebook, and import your script (`import script`)\n",
    "4. Try using **your functions** through **your package**\n",
    "\n",
    "## 9.2. Slides hosted on Github\n",
    "\n",
    "1. Go to `pedroallenrevezgithub.com` and access the class slides\n"
   ]
  },
  {
   "cell_type": "code",
   "execution_count": null,
   "metadata": {},
   "outputs": [],
   "source": []
  },
  {
   "cell_type": "code",
   "execution_count": null,
   "metadata": {},
   "outputs": [],
   "source": []
  },
  {
   "cell_type": "code",
   "execution_count": null,
   "metadata": {},
   "outputs": [],
   "source": []
  },
  {
   "cell_type": "code",
   "execution_count": null,
   "metadata": {},
   "outputs": [],
   "source": []
  },
  {
   "cell_type": "code",
   "execution_count": null,
   "metadata": {},
   "outputs": [],
   "source": []
  }
 ],
 "metadata": {
  "celltoolbar": "Slideshow",
  "kernelspec": {
   "display_name": "Python 3",
   "language": "python",
   "name": "python3"
  },
  "language_info": {
   "codemirror_mode": {
    "name": "ipython",
    "version": 3
   },
   "file_extension": ".py",
   "mimetype": "text/x-python",
   "name": "python",
   "nbconvert_exporter": "python",
   "pygments_lexer": "ipython3",
   "version": "3.7.6"
  }
 },
 "nbformat": 4,
 "nbformat_minor": 4
}
