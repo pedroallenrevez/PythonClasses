{
 "cells": [
  {
   "cell_type": "markdown",
   "metadata": {
    "slideshow": {
     "slide_type": "slide"
    }
   },
   "source": [
    "# 1. Introduction to Numpy\n",
    "\n",
    "<br>\n",
    "<center>\n",
    "<img src=\"https://files.realpython.com/media/The-Python-Print-Function_Watermarked.26066d64ad82.jpg\">\n",
    "</center>\n"
   ]
  },
  {
   "cell_type": "markdown",
   "metadata": {
    "slideshow": {
     "slide_type": "subslide"
    }
   },
   "source": [
    "# 1. Introduction to Numpy\n",
    "\n",
    "## 1.1. What is Numpy?\n",
    "--- \n",
    "\n",
    "- Numpy is a Python **package**\n",
    "- Offers several mathematical tools, such as calculating **mean**, **maximum** etc. \n",
    "- Most important for **vector operations** (linear algebra)\n",
    "- When analyzing data, normally we want to operate over an entire **collection of values** (i.e. `lists`)\n",
    "- Last but no least, Numpy is fast!\n",
    "\n"
   ]
  },
  {
   "cell_type": "markdown",
   "metadata": {
    "slideshow": {
     "slide_type": "subslide"
    }
   },
   "source": [
    "# 1. Introduction to Numpy\n",
    "\n",
    "\n",
    "## 1.2. Installing Numpy\n",
    "---\n",
    "\n",
    "- First and foremost, we need to **install** the **package**\n",
    "- To do this, write the following on your notebook"
   ]
  },
  {
   "cell_type": "code",
   "execution_count": 158,
   "metadata": {},
   "outputs": [
    {
     "name": "stdout",
     "output_type": "stream",
     "text": [
      "Requirement already satisfied: numpy in /usr/local/anaconda3/envs/jungleai/lib/python3.7/site-packages (1.18.1)\r\n"
     ]
    }
   ],
   "source": [
    "!pip install numpy"
   ]
  },
  {
   "cell_type": "markdown",
   "metadata": {
    "slideshow": {
     "slide_type": "subslide"
    }
   },
   "source": [
    "# 1. Introduction to Numpy\n",
    "\n",
    "\n",
    "## 1.3. Importing Numpy\n",
    "---"
   ]
  },
  {
   "cell_type": "code",
   "execution_count": 45,
   "metadata": {
    "slideshow": {
     "slide_type": "-"
    }
   },
   "outputs": [],
   "source": [
    "import numpy as np"
   ]
  },
  {
   "cell_type": "markdown",
   "metadata": {
    "slideshow": {
     "slide_type": "subslide"
    }
   },
   "source": [
    "# 1. Introduction to Numpy\n",
    "\n",
    "## 1.4. Motivating Numpy\n",
    "---\n",
    "- Let's say we want to calculate the BMI index for several people\n",
    "\n",
    "$$BMI = \\frac{weight}{height^2}$$\n"
   ]
  },
  {
   "cell_type": "code",
   "execution_count": 1,
   "metadata": {},
   "outputs": [],
   "source": [
    "height = [1.50, 1.60, 1.70]\n",
    "weight = [60, 70, 80]"
   ]
  },
  {
   "cell_type": "markdown",
   "metadata": {
    "slideshow": {
     "slide_type": "fragment"
    }
   },
   "source": [
    "---\n",
    "- It would be cool if we could do the following operation:"
   ]
  },
  {
   "cell_type": "code",
   "execution_count": 2,
   "metadata": {},
   "outputs": [
    {
     "ename": "TypeError",
     "evalue": "unsupported operand type(s) for ** or pow(): 'list' and 'int'",
     "output_type": "error",
     "traceback": [
      "\u001b[0;31m---------------------------------------------------------------------------\u001b[0m",
      "\u001b[0;31mTypeError\u001b[0m                                 Traceback (most recent call last)",
      "\u001b[0;32m<ipython-input-2-2a16dc59ab07>\u001b[0m in \u001b[0;36m<module>\u001b[0;34m\u001b[0m\n\u001b[0;32m----> 1\u001b[0;31m \u001b[0mweight\u001b[0m \u001b[0;34m/\u001b[0m \u001b[0mheight\u001b[0m\u001b[0;34m**\u001b[0m\u001b[0;36m2\u001b[0m\u001b[0;34m\u001b[0m\u001b[0;34m\u001b[0m\u001b[0m\n\u001b[0m",
      "\u001b[0;31mTypeError\u001b[0m: unsupported operand type(s) for ** or pow(): 'list' and 'int'"
     ]
    }
   ],
   "source": [
    "weight / height**2"
   ]
  },
  {
   "cell_type": "markdown",
   "metadata": {
    "slideshow": {
     "slide_type": "fragment"
    }
   },
   "source": [
    "---\n",
    "- Python `lists` do not support **vector** operations\n",
    "- Our intention was that each element of the list would be operated by the **same index** (element-wise operation)\n",
    "- But `lists` do not know how to do that\n",
    "- **Solution**: Numpy!"
   ]
  },
  {
   "cell_type": "code",
   "execution_count": 4,
   "metadata": {},
   "outputs": [
    {
     "data": {
      "text/plain": [
       "array([1.5, 1.6, 1.7])"
      ]
     },
     "execution_count": 4,
     "metadata": {},
     "output_type": "execute_result"
    }
   ],
   "source": [
    "import numpy as np\n",
    "\n",
    "np_height = np.array(height)\n",
    "np_weight = np.array(weight)\n",
    "np_height"
   ]
  },
  {
   "cell_type": "markdown",
   "metadata": {
    "slideshow": {
     "slide_type": "fragment"
    }
   },
   "source": [
    "---\n",
    "- Trying the same calculation as before..."
   ]
  },
  {
   "cell_type": "code",
   "execution_count": 5,
   "metadata": {},
   "outputs": [
    {
     "data": {
      "text/plain": [
       "array([26.66666667, 27.34375   , 27.6816609 ])"
      ]
     },
     "execution_count": 5,
     "metadata": {},
     "output_type": "execute_result"
    }
   ],
   "source": [
    "np_weight / np_height**2"
   ]
  },
  {
   "cell_type": "markdown",
   "metadata": {
    "slideshow": {
     "slide_type": "fragment"
    }
   },
   "source": [
    "---\n",
    "- Comparing the different behavior between `np.array` and `list`"
   ]
  },
  {
   "cell_type": "code",
   "execution_count": 9,
   "metadata": {},
   "outputs": [
    {
     "data": {
      "text/plain": [
       "[60, 70, 80, 1.5, 1.6, 1.7]"
      ]
     },
     "execution_count": 9,
     "metadata": {},
     "output_type": "execute_result"
    }
   ],
   "source": [
    "# PASTES THE LISTS TOGETHER\n",
    "weight + height"
   ]
  },
  {
   "cell_type": "code",
   "execution_count": 10,
   "metadata": {},
   "outputs": [
    {
     "data": {
      "text/plain": [
       "array([61.5, 71.6, 81.7])"
      ]
     },
     "execution_count": 10,
     "metadata": {},
     "output_type": "execute_result"
    }
   ],
   "source": [
    "# ELEMENT-WISE SUM\n",
    "np_weight + np_height"
   ]
  },
  {
   "cell_type": "markdown",
   "metadata": {
    "slideshow": {
     "slide_type": "subslide"
    }
   },
   "source": [
    "# 1. Introduction to Numpy\n",
    "\n",
    "\n",
    "## 1.5. First Numpy tool - the `array`\n",
    "---\n",
    "\n",
    "- As we have seen in the example before a `np.array` is similar to a Python `list`\n",
    "- Like an `int` or `float` a `np.array` is just another **type** - a more complex one, built by other people\n"
   ]
  },
  {
   "cell_type": "markdown",
   "metadata": {
    "slideshow": {
     "slide_type": "fragment"
    }
   },
   "source": [
    "---\n",
    "- `np.array` is **indexed** just like a Python `list`\n",
    "- So, we can use `[ ]` to access an **element**"
   ]
  },
  {
   "cell_type": "code",
   "execution_count": 12,
   "metadata": {},
   "outputs": [
    {
     "data": {
      "text/plain": [
       "(60, 60)"
      ]
     },
     "execution_count": 12,
     "metadata": {},
     "output_type": "execute_result"
    }
   ],
   "source": [
    "weight[0], np_weight[0]"
   ]
  },
  {
   "cell_type": "markdown",
   "metadata": {
    "slideshow": {
     "slide_type": "fragment"
    }
   },
   "source": [
    "---\n",
    "- And we can also **slice** the `np.array`"
   ]
  },
  {
   "cell_type": "code",
   "execution_count": 42,
   "metadata": {},
   "outputs": [
    {
     "data": {
      "text/plain": [
       "([70, 80], array([70, 80]))"
      ]
     },
     "execution_count": 42,
     "metadata": {},
     "output_type": "execute_result"
    }
   ],
   "source": [
    "weight[1:], np_weight[1:]"
   ]
  },
  {
   "cell_type": "markdown",
   "metadata": {
    "slideshow": {
     "slide_type": "subslide"
    }
   },
   "source": [
    "# 1. Introduction to Numpy\n",
    "\n",
    "\n",
    "## 1.6. Numpy **types** interacting with Python **types**\n",
    "---"
   ]
  },
  {
   "cell_type": "markdown",
   "metadata": {
    "slideshow": {
     "slide_type": "-"
    }
   },
   "source": [
    "- **Numpy** numbers are different from Python numbers, because they have different **types**!"
   ]
  },
  {
   "cell_type": "code",
   "execution_count": 14,
   "metadata": {},
   "outputs": [
    {
     "data": {
      "text/plain": [
       "numpy.int64"
      ]
     },
     "execution_count": 14,
     "metadata": {},
     "output_type": "execute_result"
    }
   ],
   "source": [
    "type(np_weight[0])"
   ]
  },
  {
   "cell_type": "markdown",
   "metadata": {
    "slideshow": {
     "slide_type": "fragment"
    }
   },
   "source": [
    "---\n",
    "- We can **operate** both **Numpy** numbers and **Python** numbers"
   ]
  },
  {
   "cell_type": "code",
   "execution_count": 16,
   "metadata": {},
   "outputs": [
    {
     "name": "stdout",
     "output_type": "stream",
     "text": [
      "120\n"
     ]
    },
    {
     "data": {
      "text/plain": [
       "numpy.int64"
      ]
     },
     "execution_count": 16,
     "metadata": {},
     "output_type": "execute_result"
    }
   ],
   "source": [
    "result = np_weight[0] * 2\n",
    "print(result)\n",
    "type(result)"
   ]
  },
  {
   "cell_type": "markdown",
   "metadata": {},
   "source": [
    "- **NOTE**: **Type conversion** occurs! Always converted to **Numpy** numbers"
   ]
  },
  {
   "cell_type": "markdown",
   "metadata": {
    "slideshow": {
     "slide_type": "fragment"
    }
   },
   "source": [
    "---\n",
    "- **NOTE**: `np.array` can only contain one **type** though\n",
    "- Watch what happens"
   ]
  },
  {
   "cell_type": "code",
   "execution_count": 8,
   "metadata": {},
   "outputs": [
    {
     "data": {
      "text/plain": [
       "array(['1', '1', 'True'], dtype='<U21')"
      ]
     },
     "execution_count": 8,
     "metadata": {},
     "output_type": "execute_result"
    }
   ],
   "source": [
    "np.array([1, '1', True])"
   ]
  },
  {
   "cell_type": "markdown",
   "metadata": {},
   "source": [
    "- Everything got **converted** to a `string`! Be careful not to mix **types** with `np.array`"
   ]
  },
  {
   "cell_type": "markdown",
   "metadata": {
    "slideshow": {
     "slide_type": "subslide"
    }
   },
   "source": [
    "# 1. Introduction to Numpy\n",
    "\n",
    "## 1.7. Exercise - Celsius to Fahrenheit, `np.array` style\n",
    "---\n",
    "\n",
    "$$F = \\frac{9}{5} * C + 32$$"
   ]
  },
  {
   "cell_type": "markdown",
   "metadata": {
    "slideshow": {
     "slide_type": "fragment"
    }
   },
   "source": [
    "---"
   ]
  },
  {
   "cell_type": "code",
   "execution_count": 23,
   "metadata": {
    "slideshow": {
     "slide_type": "-"
    }
   },
   "outputs": [
    {
     "data": {
      "text/plain": [
       "array([ 86., 122., 158.])"
      ]
     },
     "execution_count": 23,
     "metadata": {},
     "output_type": "execute_result"
    }
   ],
   "source": [
    "temperatures = np.array([30, 50, 70])\n",
    "(9/5) * temperatures + 32"
   ]
  },
  {
   "cell_type": "markdown",
   "metadata": {
    "slideshow": {
     "slide_type": "subslide"
    }
   },
   "source": [
    "# 1. Introduction to Numpy\n",
    "\n",
    "## 1.8. Exercise - Manual Linear Regression\n",
    "---\n",
    "\n",
    "$$y = \\sum_{i=0}^{N}{a_i*x_i}$$"
   ]
  },
  {
   "cell_type": "code",
   "execution_count": 24,
   "metadata": {},
   "outputs": [],
   "source": [
    "coefs = np.array([0.2, 0.5, 0.75])\n",
    "# variable 1 variable 2 variable 3\n",
    "data = np.array([1, 3, 5])"
   ]
  },
  {
   "cell_type": "markdown",
   "metadata": {
    "slideshow": {
     "slide_type": "fragment"
    }
   },
   "source": [
    "---"
   ]
  },
  {
   "cell_type": "code",
   "execution_count": 25,
   "metadata": {
    "slideshow": {
     "slide_type": "-"
    }
   },
   "outputs": [
    {
     "data": {
      "text/plain": [
       "5.45"
      ]
     },
     "execution_count": 25,
     "metadata": {},
     "output_type": "execute_result"
    }
   ],
   "source": [
    "result = sum(coefs * data)\n",
    "result"
   ]
  },
  {
   "cell_type": "markdown",
   "metadata": {
    "slideshow": {
     "slide_type": "subslide"
    }
   },
   "source": [
    "# 1. Introduction to Numpy\n",
    "\n",
    "## 1.9. `np.array` subsetting\n",
    "---\n",
    "\n",
    "- We can **subset** (take a few elements) from a `np.array`\n",
    "- This can be done with a `np.array`"
   ]
  },
  {
   "cell_type": "markdown",
   "metadata": {},
   "source": [
    "- This **array** can be of **indexes**\n"
   ]
  },
  {
   "cell_type": "code",
   "execution_count": 31,
   "metadata": {},
   "outputs": [
    {
     "data": {
      "text/plain": [
       "array([1, 4, 5])"
      ]
     },
     "execution_count": 31,
     "metadata": {},
     "output_type": "execute_result"
    }
   ],
   "source": [
    "sample = np.array([1, 2, 3, 4, 5])\n",
    "sample[[0, 3, -1]]"
   ]
  },
  {
   "cell_type": "markdown",
   "metadata": {
    "slideshow": {
     "slide_type": "fragment"
    }
   },
   "source": [
    "---\n",
    "- Or an **array** of `booleans` (yes/no for **each** position)"
   ]
  },
  {
   "cell_type": "code",
   "execution_count": 34,
   "metadata": {},
   "outputs": [
    {
     "data": {
      "text/plain": [
       "array([1, 3, 5])"
      ]
     },
     "execution_count": 34,
     "metadata": {},
     "output_type": "execute_result"
    }
   ],
   "source": [
    "sample[[True, False, True, False, True]]"
   ]
  },
  {
   "cell_type": "markdown",
   "metadata": {
    "slideshow": {
     "slide_type": "fragment"
    }
   },
   "source": [
    "---\n",
    "- If a `boolean` array (or `list`) is not of the same size..."
   ]
  },
  {
   "cell_type": "code",
   "execution_count": 33,
   "metadata": {},
   "outputs": [
    {
     "ename": "IndexError",
     "evalue": "boolean index did not match indexed array along dimension 0; dimension is 5 but corresponding boolean dimension is 2",
     "output_type": "error",
     "traceback": [
      "\u001b[0;31m---------------------------------------------------------------------------\u001b[0m",
      "\u001b[0;31mIndexError\u001b[0m                                Traceback (most recent call last)",
      "\u001b[0;32m<ipython-input-33-e863e6849dde>\u001b[0m in \u001b[0;36m<module>\u001b[0;34m\u001b[0m\n\u001b[0;32m----> 1\u001b[0;31m \u001b[0msample\u001b[0m\u001b[0;34m[\u001b[0m\u001b[0;34m[\u001b[0m\u001b[0;32mTrue\u001b[0m\u001b[0;34m,\u001b[0m \u001b[0;32mFalse\u001b[0m\u001b[0;34m]\u001b[0m\u001b[0;34m]\u001b[0m\u001b[0;34m\u001b[0m\u001b[0;34m\u001b[0m\u001b[0m\n\u001b[0m",
      "\u001b[0;31mIndexError\u001b[0m: boolean index did not match indexed array along dimension 0; dimension is 5 but corresponding boolean dimension is 2"
     ]
    }
   ],
   "source": [
    "sample[[True, False]]"
   ]
  },
  {
   "cell_type": "markdown",
   "metadata": {},
   "source": [
    "- **NOTE**: An **array** of `booleans` has to be of the **same size**"
   ]
  },
  {
   "cell_type": "markdown",
   "metadata": {
    "slideshow": {
     "slide_type": "subslide"
    }
   },
   "source": [
    "# 1. Introduction to Numpy\n",
    "\n",
    "## 1.10. Exercise - subsetting `np.array` with `booleans`\n",
    "---\n",
    "\n",
    "Get the first a last elements of a `range` of numbers from 1 to 5 using `np.array`.\n",
    "\n",
    "\n",
    "1. Create a `np.array` with a `list` of numbers, that you get from a `range`\n",
    "2. Print the **first** and **last** elements of the `np.array`, using:\n",
    "    - A `list` of numbered indexes\n",
    "    - A `list` of `booleans`"
   ]
  },
  {
   "cell_type": "markdown",
   "metadata": {
    "slideshow": {
     "slide_type": "fragment"
    }
   },
   "source": [
    "---"
   ]
  },
  {
   "cell_type": "code",
   "execution_count": 73,
   "metadata": {
    "slideshow": {
     "slide_type": "-"
    }
   },
   "outputs": [
    {
     "name": "stdout",
     "output_type": "stream",
     "text": [
      "[1 5]\n",
      "[1 5]\n"
     ]
    }
   ],
   "source": [
    "array = np.array(range(1, 6))\n",
    "print(array[[0, -1]])\n",
    "print(array[[True, False, False, False, True]])"
   ]
  },
  {
   "cell_type": "markdown",
   "metadata": {
    "slideshow": {
     "slide_type": "subslide"
    }
   },
   "source": [
    "# 1. Introduction to Numpy\n",
    "\n",
    "## 1.11. Further notes on `np.array` subsetting with `booleans`\n",
    "---"
   ]
  },
  {
   "cell_type": "markdown",
   "metadata": {
    "slideshow": {
     "slide_type": "-"
    }
   },
   "source": [
    "- As you might recall , we can get a `boolean` as a result from **conditionals**"
   ]
  },
  {
   "cell_type": "code",
   "execution_count": 35,
   "metadata": {},
   "outputs": [
    {
     "name": "stdout",
     "output_type": "stream",
     "text": [
      "True\n",
      "False\n"
     ]
    }
   ],
   "source": [
    "print(1==1)\n",
    "print(1!=1)"
   ]
  },
  {
   "cell_type": "markdown",
   "metadata": {
    "slideshow": {
     "slide_type": "fragment"
    }
   },
   "source": [
    "---\n",
    "- With `np.array` as we expect by now, when operating we get a `np.array` of the **same size**\n",
    "- Because it is **element-wise**!"
   ]
  },
  {
   "cell_type": "code",
   "execution_count": 37,
   "metadata": {},
   "outputs": [
    {
     "name": "stdout",
     "output_type": "stream",
     "text": [
      "[60 70 80]\n"
     ]
    },
    {
     "data": {
      "text/plain": [
       "array([ True, False, False])"
      ]
     },
     "execution_count": 37,
     "metadata": {},
     "output_type": "execute_result"
    }
   ],
   "source": [
    "print(np_weight)\n",
    "np_weight == 60"
   ]
  },
  {
   "cell_type": "markdown",
   "metadata": {
    "slideshow": {
     "slide_type": "fragment"
    }
   },
   "source": [
    "---\n",
    "- As we saw, we can **subset** an **array** with another **array of booleans** "
   ]
  },
  {
   "cell_type": "code",
   "execution_count": 44,
   "metadata": {},
   "outputs": [
    {
     "data": {
      "text/plain": [
       "array([1.5])"
      ]
     },
     "execution_count": 44,
     "metadata": {},
     "output_type": "execute_result"
    }
   ],
   "source": [
    "people_with_60_kilos = np_weight == 60\n",
    "np_height[people_with_60_kilos]"
   ]
  },
  {
   "cell_type": "markdown",
   "metadata": {
    "slideshow": {
     "slide_type": "subslide"
    }
   },
   "source": [
    "# 1. Introduction to Numpy\n",
    "\n",
    "## 1.12. Exercise - Get heights of people with less than 70 kilos\n",
    "\n",
    "---\n",
    "\n",
    "**HINT**: Remember that one of the **boolean operators** is the `<`"
   ]
  },
  {
   "cell_type": "markdown",
   "metadata": {
    "slideshow": {
     "slide_type": "fragment"
    }
   },
   "source": [
    "---"
   ]
  },
  {
   "cell_type": "code",
   "execution_count": 75,
   "metadata": {},
   "outputs": [
    {
     "data": {
      "text/plain": [
       "array([1.5])"
      ]
     },
     "execution_count": 75,
     "metadata": {},
     "output_type": "execute_result"
    }
   ],
   "source": [
    "people_with_less_than_70_kilos = np_weight < 70\n",
    "np_height[people_with_less_than_70_kilos]"
   ]
  },
  {
   "cell_type": "markdown",
   "metadata": {
    "slideshow": {
     "slide_type": "subslide"
    }
   },
   "source": [
    "# 1. Introduction to Numpy\n",
    "\n",
    "## 1.13 2-D `np.array` - Welcome to the Matrix\n",
    "---"
   ]
  },
  {
   "cell_type": "code",
   "execution_count": 46,
   "metadata": {},
   "outputs": [
    {
     "data": {
      "text/plain": [
       "numpy.ndarray"
      ]
     },
     "execution_count": 46,
     "metadata": {},
     "output_type": "execute_result"
    }
   ],
   "source": [
    "type(np_weight)"
   ]
  },
  {
   "cell_type": "markdown",
   "metadata": {},
   "source": [
    "- `numpy.ndarray` - stands for $N$-dimensional **array**\n",
    "    - 1-D\n",
    "    - 2-D\n",
    "    - 3-D\n",
    "    - ...\n",
    "    - 56789-D"
   ]
  },
  {
   "cell_type": "markdown",
   "metadata": {
    "slideshow": {
     "slide_type": "fragment"
    }
   },
   "source": [
    "---\n",
    "- Let's build a 2D `np.array` from `np_weight` and `np_height`"
   ]
  },
  {
   "cell_type": "code",
   "execution_count": 47,
   "metadata": {},
   "outputs": [
    {
     "data": {
      "text/plain": [
       "array([[60. , 70. , 80. ],\n",
       "       [ 1.5,  1.6,  1.7]])"
      ]
     },
     "execution_count": 47,
     "metadata": {},
     "output_type": "execute_result"
    }
   ],
   "source": [
    "data = np.array([np_weight, np_height])\n",
    "data"
   ]
  },
  {
   "cell_type": "markdown",
   "metadata": {
    "slideshow": {
     "slide_type": "fragment"
    }
   },
   "source": [
    "---\n",
    "- We can use `shape` to find out what are the **dimensions** of our `np.array`\n",
    "- **NOTE**: this is not a **method** like `append()`. Methods have parenthesis `( )`. This is called an **attribute**, because it doesn't have parenthesis"
   ]
  },
  {
   "cell_type": "code",
   "execution_count": 49,
   "metadata": {},
   "outputs": [
    {
     "data": {
      "text/plain": [
       "(2, 3)"
      ]
     },
     "execution_count": 49,
     "metadata": {},
     "output_type": "execute_result"
    }
   ],
   "source": [
    "# ROWS X COLUMNS\n",
    "data.shape"
   ]
  },
  {
   "cell_type": "markdown",
   "metadata": {
    "slideshow": {
     "slide_type": "subslide"
    }
   },
   "source": [
    "# 1. Introduction to Numpy\n",
    "\n",
    "## 1.14 Subsetting 2-D `np.array`\n",
    "---"
   ]
  },
  {
   "cell_type": "markdown",
   "metadata": {
    "slideshow": {
     "slide_type": "-"
    }
   },
   "source": [
    "- We can also **index** the 2-D `np.array`, just like we would in a `list` of `lists`\n",
    "\n",
    "```\n",
    "        0      1     2\n",
    "array(\n",
    "       [[60. , 70. , 80. ],   0\n",
    "       [ 1.5,  1.6,  1.7]]    1\n",
    "       )\n",
    "```\n",
    "\n",
    "- **REMEMBER**: Indexes start at 0!"
   ]
  },
  {
   "cell_type": "code",
   "execution_count": 50,
   "metadata": {
    "slideshow": {
     "slide_type": "-"
    }
   },
   "outputs": [
    {
     "data": {
      "text/plain": [
       "80.0"
      ]
     },
     "execution_count": 50,
     "metadata": {},
     "output_type": "execute_result"
    }
   ],
   "source": [
    "data[0][-1]"
   ]
  },
  {
   "cell_type": "markdown",
   "metadata": {
    "slideshow": {
     "slide_type": "fragment"
    }
   },
   "source": [
    "---\n",
    "- We get the first list `[60. , 70. , 80. ]` with **index** 0\n",
    "- Then, we get the last element `80.0` with **index** -1"
   ]
  },
  {
   "cell_type": "markdown",
   "metadata": {
    "slideshow": {
     "slide_type": "fragment"
    }
   },
   "source": [
    "---\n",
    "- `np.arrays` allow us to be more flexible with our indexing.\n",
    "- We can separate **sequential** indexes, by separating them with a **comma** `,`"
   ]
  },
  {
   "cell_type": "code",
   "execution_count": 51,
   "metadata": {},
   "outputs": [
    {
     "data": {
      "text/plain": [
       "80.0"
      ]
     },
     "execution_count": 51,
     "metadata": {},
     "output_type": "execute_result"
    }
   ],
   "source": [
    "data[0, -1]"
   ]
  },
  {
   "cell_type": "markdown",
   "metadata": {
    "slideshow": {
     "slide_type": "fragment"
    }
   },
   "source": [
    "---\n",
    "- Suppose that we want to take both `height` and `weight` from the first person\n",
    "- So, we want both first and second `lists`, but only with the first **elements**\n",
    "- We can use `:` to get all the `lists`"
   ]
  },
  {
   "cell_type": "code",
   "execution_count": 68,
   "metadata": {},
   "outputs": [
    {
     "data": {
      "text/plain": [
       "array([[60. , 70. , 80. ],\n",
       "       [ 1.5,  1.6,  1.7]])"
      ]
     },
     "execution_count": 68,
     "metadata": {},
     "output_type": "execute_result"
    }
   ],
   "source": [
    "data[:]"
   ]
  },
  {
   "cell_type": "markdown",
   "metadata": {},
   "source": [
    "- **REMEMBER**: We can think of `:` as a `list` **slice** from beggining to end. Everything!"
   ]
  },
  {
   "cell_type": "markdown",
   "metadata": {
    "slideshow": {
     "slide_type": "fragment"
    }
   },
   "source": [
    "---\n",
    "- We can now **index** both lists, at the same time\n",
    "- We use the same logic as if it were one list only"
   ]
  },
  {
   "cell_type": "code",
   "execution_count": 63,
   "metadata": {},
   "outputs": [
    {
     "data": {
      "text/plain": [
       "array([60. ,  1.5])"
      ]
     },
     "execution_count": 63,
     "metadata": {},
     "output_type": "execute_result"
    }
   ],
   "source": [
    "data[:, 0]"
   ]
  },
  {
   "cell_type": "markdown",
   "metadata": {
    "slideshow": {
     "slide_type": "fragment"
    }
   },
   "source": [
    "---\n",
    "- Watch what happens if we use separate square brackets `[ ]`"
   ]
  },
  {
   "cell_type": "code",
   "execution_count": 64,
   "metadata": {},
   "outputs": [
    {
     "data": {
      "text/plain": [
       "array([60., 70., 80.])"
      ]
     },
     "execution_count": 64,
     "metadata": {},
     "output_type": "execute_result"
    }
   ],
   "source": [
    "data[:][0]"
   ]
  },
  {
   "cell_type": "markdown",
   "metadata": {},
   "source": [
    "- This is because `data[:]` returns both `lists` and we are just **indexing** the first\n",
    "- So we have to use **sequential** indexing of Numpy"
   ]
  },
  {
   "cell_type": "markdown",
   "metadata": {
    "slideshow": {
     "slide_type": "fragment"
    }
   },
   "source": [
    "---\n",
    "- We can also **slice** the list using this notation"
   ]
  },
  {
   "cell_type": "code",
   "execution_count": 66,
   "metadata": {},
   "outputs": [
    {
     "name": "stdout",
     "output_type": "stream",
     "text": [
      "[[70.  80. ]\n",
      " [ 1.6  1.7]]\n"
     ]
    },
    {
     "data": {
      "text/plain": [
       "(2, 2)"
      ]
     },
     "execution_count": 66,
     "metadata": {},
     "output_type": "execute_result"
    }
   ],
   "source": [
    "result = data[:, 1:]\n",
    "print(result)\n",
    "result.shape"
   ]
  },
  {
   "cell_type": "markdown",
   "metadata": {},
   "source": [
    "- We retain our **matrix** structure"
   ]
  },
  {
   "cell_type": "markdown",
   "metadata": {
    "slideshow": {
     "slide_type": "fragment"
    }
   },
   "source": [
    "---\n",
    "- We can also do the inverse\n",
    "- Select the first `list` and take **all** values using `:`"
   ]
  },
  {
   "cell_type": "code",
   "execution_count": 67,
   "metadata": {},
   "outputs": [
    {
     "data": {
      "text/plain": [
       "array([60., 70., 80.])"
      ]
     },
     "execution_count": 67,
     "metadata": {},
     "output_type": "execute_result"
    }
   ],
   "source": [
    "data[0, :]"
   ]
  },
  {
   "cell_type": "markdown",
   "metadata": {
    "slideshow": {
     "slide_type": "-"
    }
   },
   "source": [
    "- **MOTIVATION**: This **matrix** shape of our data is what is used when training models (Machine Learning)"
   ]
  },
  {
   "cell_type": "markdown",
   "metadata": {
    "slideshow": {
     "slide_type": "subslide"
    }
   },
   "source": [
    "# 1. Introduction to Numpy\n",
    "\n",
    "## 1.15. Summary of Numpy Indexes\n",
    "---\n",
    "\n",
    "<br>\n",
    "<center>\n",
    "    <img src=\"https://www.oreilly.com/library/view/python-for-data/9781449323592/httpatomoreillycomsourceoreillyimages2172114.png\">\n",
    "    </center>\n",
    "\n"
   ]
  },
  {
   "cell_type": "markdown",
   "metadata": {
    "slideshow": {
     "slide_type": "subslide"
    }
   },
   "source": [
    "# 1. Introduction to Numpy\n",
    "\n",
    "## 1.16. Exercise - subsetting 2-D `np.array`\n",
    "---\n",
    "\n",
    "- [1, :]\n",
    "- [: 1:-1]\n",
    "- [:, mask]\n",
    "\n"
   ]
  },
  {
   "cell_type": "markdown",
   "metadata": {
    "slideshow": {
     "slide_type": "fragment"
    }
   },
   "source": [
    "---"
   ]
  },
  {
   "cell_type": "code",
   "execution_count": 159,
   "metadata": {},
   "outputs": [
    {
     "name": "stdout",
     "output_type": "stream",
     "text": [
      "\n"
     ]
    }
   ],
   "source": [
    "print()"
   ]
  },
  {
   "cell_type": "markdown",
   "metadata": {
    "slideshow": {
     "slide_type": "subslide"
    }
   },
   "source": [
    "# 1. Introduction to Numpy\n",
    "\n",
    "## 1.17. Numpy statistics\n",
    "---\n",
    "\n",
    "- If your data is of small size, you can just look at it (family data)\n",
    "\n",
    "- But what if we have hundreds of datapoints? (city wide survey?)\n",
    "- You can get to know your data, by looking at it's statistics\n",
    "    - What is the **mean** weight of the whole family?\n",
    "    - What is the **minimum** and **maximum** weights?\n",
    "    - For people between 1.70m and 2m whats is the **mean** weight?\n",
    "- Statistics give us an overall picture of our data\n"
   ]
  },
  {
   "cell_type": "code",
   "execution_count": 80,
   "metadata": {
    "slideshow": {
     "slide_type": "skip"
    }
   },
   "outputs": [],
   "source": [
    "np_city = np.array(\n",
    "    [\n",
    "        1.0 + (np.random.rand(5000) * (2.1 - 1.0)),\n",
    "        20 + (np.random.rand(5000) * (120 - 20))\n",
    "    ]\n",
    ")"
   ]
  },
  {
   "cell_type": "markdown",
   "metadata": {},
   "source": [
    "- We now have data for a city-wide survey of weight and height"
   ]
  },
  {
   "cell_type": "code",
   "execution_count": 89,
   "metadata": {},
   "outputs": [
    {
     "data": {
      "text/plain": [
       "array([[  1.4857498 ,   1.73759679,   1.21730934, ...,   1.95636957,\n",
       "          1.57995815,   1.24585698],\n",
       "       [ 76.57469787, 101.35517438,  36.44883043, ...,  60.71934684,\n",
       "        101.11100416,  63.72072813]])"
      ]
     },
     "execution_count": 89,
     "metadata": {},
     "output_type": "execute_result"
    }
   ],
   "source": [
    "np_city"
   ]
  },
  {
   "cell_type": "code",
   "execution_count": 90,
   "metadata": {},
   "outputs": [
    {
     "data": {
      "text/plain": [
       "(2, 5000)"
      ]
     },
     "execution_count": 90,
     "metadata": {},
     "output_type": "execute_result"
    }
   ],
   "source": [
    "np_city.shape"
   ]
  },
  {
   "cell_type": "markdown",
   "metadata": {
    "slideshow": {
     "slide_type": "fragment"
    }
   },
   "source": [
    "---\n",
    "- Numpy offers several statistical tools. One of them is the **mean**\n",
    "- They come implemented in the Numpy package, so like we did for `np.array`, we do `np.mean`"
   ]
  },
  {
   "cell_type": "code",
   "execution_count": 91,
   "metadata": {},
   "outputs": [
    {
     "data": {
      "text/plain": [
       "1.5509670730617482"
      ]
     },
     "execution_count": 91,
     "metadata": {},
     "output_type": "execute_result"
    }
   ],
   "source": [
    "# AVERAGE HEIGHT\n",
    "np.mean(np_city[0, :])"
   ]
  },
  {
   "cell_type": "markdown",
   "metadata": {
    "slideshow": {
     "slide_type": "fragment"
    }
   },
   "source": [
    "---\n",
    "- But, our `np.array` also has **methods**\n",
    "- And it includes `mean`"
   ]
  },
  {
   "cell_type": "code",
   "execution_count": 92,
   "metadata": {},
   "outputs": [
    {
     "data": {
      "text/plain": [
       "1.5509670730617482"
      ]
     },
     "execution_count": 92,
     "metadata": {},
     "output_type": "execute_result"
    }
   ],
   "source": [
    "np_city[0, :].mean()"
   ]
  },
  {
   "cell_type": "markdown",
   "metadata": {
    "slideshow": {
     "slide_type": "subslide"
    }
   },
   "source": [
    "# 1. Introduction to Numpy\n",
    "\n",
    "## 1.18. Mean, Standard Deviation, Median, Minimum, Maximum\n",
    "---\n",
    "\n",
    "- **Mean** with `np.mean()` or `np.array.mean()`"
   ]
  },
  {
   "cell_type": "code",
   "execution_count": 122,
   "metadata": {},
   "outputs": [
    {
     "name": "stdout",
     "output_type": "stream",
     "text": [
      "1.5509670730617484\n",
      "1.5509670730617484\n"
     ]
    }
   ],
   "source": [
    "print(np.mean(np_city[0, :]))\n",
    "print(np_city[0, :].mean())"
   ]
  },
  {
   "cell_type": "markdown",
   "metadata": {
    "slideshow": {
     "slide_type": "fragment"
    }
   },
   "source": [
    "---\n",
    "- **Standard Deviation** with `np.std()` or `np.array.std()`"
   ]
  },
  {
   "cell_type": "code",
   "execution_count": 123,
   "metadata": {},
   "outputs": [
    {
     "name": "stdout",
     "output_type": "stream",
     "text": [
      "28.84662240339476\n",
      "28.84662240339476\n"
     ]
    }
   ],
   "source": [
    "print(np.std(np_city[1, :]))\n",
    "print(np_city[1, :].std())"
   ]
  },
  {
   "cell_type": "markdown",
   "metadata": {
    "slideshow": {
     "slide_type": "fragment"
    }
   },
   "source": [
    "---\n",
    "- **Median** is only accessible through the Numpy package, with `np.median()`"
   ]
  },
  {
   "cell_type": "code",
   "execution_count": 124,
   "metadata": {},
   "outputs": [
    {
     "data": {
      "text/plain": [
       "68.40169991721066"
      ]
     },
     "execution_count": 124,
     "metadata": {},
     "output_type": "execute_result"
    }
   ],
   "source": [
    "np.median(np_city[1, :])"
   ]
  },
  {
   "cell_type": "code",
   "execution_count": 125,
   "metadata": {
    "scrolled": true
   },
   "outputs": [
    {
     "ename": "AttributeError",
     "evalue": "'numpy.ndarray' object has no attribute 'median'",
     "output_type": "error",
     "traceback": [
      "\u001b[0;31m---------------------------------------------------------------------------\u001b[0m",
      "\u001b[0;31mAttributeError\u001b[0m                            Traceback (most recent call last)",
      "\u001b[0;32m<ipython-input-125-c304df9aa940>\u001b[0m in \u001b[0;36m<module>\u001b[0;34m\u001b[0m\n\u001b[0;32m----> 1\u001b[0;31m \u001b[0mnp_city\u001b[0m\u001b[0;34m[\u001b[0m\u001b[0;36m1\u001b[0m\u001b[0;34m,\u001b[0m \u001b[0;34m:\u001b[0m\u001b[0;34m]\u001b[0m\u001b[0;34m.\u001b[0m\u001b[0mmedian\u001b[0m\u001b[0;34m(\u001b[0m\u001b[0;34m)\u001b[0m\u001b[0;34m\u001b[0m\u001b[0;34m\u001b[0m\u001b[0m\n\u001b[0m",
      "\u001b[0;31mAttributeError\u001b[0m: 'numpy.ndarray' object has no attribute 'median'"
     ]
    }
   ],
   "source": [
    "np_city[1, :].median()"
   ]
  },
  {
   "cell_type": "markdown",
   "metadata": {
    "slideshow": {
     "slide_type": "fragment"
    }
   },
   "source": [
    "---\n",
    "- **Minimum** with `np.min()`, `np.array.min()` or Python `min()`"
   ]
  },
  {
   "cell_type": "code",
   "execution_count": 126,
   "metadata": {},
   "outputs": [
    {
     "name": "stdout",
     "output_type": "stream",
     "text": [
      "20.002781674879248\n",
      "20.002781674879248\n",
      "20.002781674879248\n"
     ]
    }
   ],
   "source": [
    "print(np.min(np_city[1, :]))\n",
    "print(np_city[1, :].min())\n",
    "print(min(np_city[1, :]))"
   ]
  },
  {
   "cell_type": "markdown",
   "metadata": {
    "scrolled": true,
    "slideshow": {
     "slide_type": "fragment"
    }
   },
   "source": [
    "---\n",
    "- **Maximum** with `np.max()`, `np.array.max()` or Python `max()`"
   ]
  },
  {
   "cell_type": "code",
   "execution_count": 127,
   "metadata": {},
   "outputs": [
    {
     "name": "stdout",
     "output_type": "stream",
     "text": [
      "119.99685135177963\n",
      "119.99685135177963\n",
      "119.99685135177963\n"
     ]
    }
   ],
   "source": [
    "print(np.max(np_city[1, :]))\n",
    "print(np_city[1, :].max())\n",
    "print(max(np_city[1, :]))"
   ]
  },
  {
   "cell_type": "markdown",
   "metadata": {
    "slideshow": {
     "slide_type": "subslide"
    }
   },
   "source": [
    "# 1. Introduction to Numpy\n",
    "\n",
    "## 1.19. Calculating statistics\n",
    "---\n",
    "\n",
    "Calculate the following:\n",
    "1. `np_weight` **mean** using `np.array.mean()` - the array **method**\n",
    "2. `np_weight` **maximum** using `np.max()` - the Numpy package **function**\n",
    "3. `np_weight` **total sum** using `sum()` - Python's **built-in function**"
   ]
  },
  {
   "cell_type": "code",
   "execution_count": 128,
   "metadata": {},
   "outputs": [
    {
     "name": "stdout",
     "output_type": "stream",
     "text": [
      "70.0\n",
      "80\n",
      "210\n"
     ]
    }
   ],
   "source": [
    "print(np_weight.mean())\n",
    "print(np.max(np_weight))\n",
    "print(sum(np_weight))"
   ]
  },
  {
   "cell_type": "markdown",
   "metadata": {
    "slideshow": {
     "slide_type": "subslide"
    }
   },
   "source": [
    "# 1. Introduction to Numpy\n",
    "\n",
    "## 1.20. Other Functions\n",
    "---\n",
    "\n"
   ]
  },
  {
   "cell_type": "markdown",
   "metadata": {},
   "source": [
    "- **Sum** with `np.sum()`, `np.array.sum()` or Python `sum()`"
   ]
  },
  {
   "cell_type": "code",
   "execution_count": 113,
   "metadata": {},
   "outputs": [
    {
     "name": "stdout",
     "output_type": "stream",
     "text": [
      "7754.835365308759\n",
      "7754.835365308741\n",
      "7754.835365308741\n"
     ]
    }
   ],
   "source": [
    "print(sum(np_city[0, :]))\n",
    "print(np.sum(np_city[0, :]))\n",
    "print(np_city[0, :].sum())"
   ]
  },
  {
   "cell_type": "markdown",
   "metadata": {
    "slideshow": {
     "slide_type": "fragment"
    }
   },
   "source": [
    "---\n",
    "- **Sort** with `np.sort()`, `np.array.sort()` or Python `sorted()`"
   ]
  },
  {
   "cell_type": "code",
   "execution_count": 121,
   "metadata": {},
   "outputs": [
    {
     "name": "stdout",
     "output_type": "stream",
     "text": [
      "[1.0000145004799257, 1.0001051477574863, 1.000143329489774, 1.0006611150888316, 1.000997089398832, 1.0013739505753136, 1.0015204943658784, 1.0017365801472062, 1.0018867052026383, 1.0021427820136912]\n",
      "[1.0000145  1.00010515 1.00014333 ... 2.09896207 2.09900546 2.09902032]\n",
      "[1.0000145  1.00010515 1.00014333 ... 2.09896207 2.09900546 2.09902032]\n"
     ]
    }
   ],
   "source": [
    "print(sorted(np_city[0, :])[:10])\n",
    "print(np.sort(np_city[0, :]))\n",
    "# INPLACE - CHANGES VARIABLE\n",
    "np_city[0, :].sort()\n",
    "print(np_city[0, :])"
   ]
  },
  {
   "cell_type": "markdown",
   "metadata": {
    "slideshow": {
     "slide_type": "subslide"
    }
   },
   "source": [
    "# 1. Introduction to Numpy\n",
    "\n",
    "## 1.21. Summary\n",
    "---\n",
    "\n"
   ]
  },
  {
   "cell_type": "markdown",
   "metadata": {
    "slideshow": {
     "slide_type": "slide"
    }
   },
   "source": [
    "# 2. New Python `type` - Dictionaries\n",
    "\n",
    "<br>\n",
    "<center>\n",
    "    <img src=\"https://files.realpython.com/media/Cool-New-features-in-Python-3.7_Watermarked.cfa5288c143d.jpg\">\n",
    "</center>"
   ]
  },
  {
   "cell_type": "markdown",
   "metadata": {
    "slideshow": {
     "slide_type": "subslide"
    }
   },
   "source": [
    "# 2. New Python `type` - Dictionaries\n",
    "## 2.1. Introduction\n",
    "---\n",
    "\n",
    "- Python **dictionaries** or `dict` are like a real-life dictionary\n",
    "\n",
    "<br>\n",
    "<center>\n",
    "            <img src='img/dictionary.png' width=10%>\n",
    "    </center>\n",
    "<br>\n",
    "\n",
    "- We **lookup** dictionaries, for **key** words and their corresponding **definition** or **value**\n",
    "- In Python, it is the same thing, we have **keys** and **values**\n",
    "- Each **key** coresponds to **one value**"
   ]
  },
  {
   "cell_type": "markdown",
   "metadata": {
    "slideshow": {
     "slide_type": "subslide"
    }
   },
   "source": [
    "# 2. New Python `type` - Dictionaries\n",
    "## 2.2. Motivation\n",
    "---"
   ]
  },
  {
   "cell_type": "markdown",
   "metadata": {},
   "source": [
    "- Suppose we have a `list` of phone contacts (done in Class 1)"
   ]
  },
  {
   "cell_type": "code",
   "execution_count": 129,
   "metadata": {},
   "outputs": [
    {
     "name": "stdout",
     "output_type": "stream",
     "text": [
      "[['Pedro', 917040672], ['Xzibit', 100200300]]\n"
     ]
    }
   ],
   "source": [
    "name = \"Pedro\"\n",
    "phone_number = 917040672\n",
    "\n",
    "friend_name = \"Xzibit\"\n",
    "friend_phone_number = 100200300\n",
    "\n",
    "contact1 = [name, phone_number]\n",
    "contact2 = [friend_name, friend_phone_number]\n",
    "contacts = [contact1, contact2]\n",
    "print(contacts)"
   ]
  },
  {
   "cell_type": "markdown",
   "metadata": {
    "slideshow": {
     "slide_type": "fragment"
    }
   },
   "source": [
    "---\n",
    "- If we want to get Xzibit's phone contact, we would have to **iterate** the `list` until we find Xzibit\n",
    "- What if we could look for Xzibit by the name `Xzibit`.\n",
    "- **SOLUTION**: Python dictionaries!"
   ]
  },
  {
   "cell_type": "markdown",
   "metadata": {},
   "source": [
    "- We can make `dict` using **curly brackets** `{ }`\n",
    "- We use `:` to **assign** a **value** to a **key**"
   ]
  },
  {
   "cell_type": "code",
   "execution_count": 132,
   "metadata": {},
   "outputs": [
    {
     "name": "stdout",
     "output_type": "stream",
     "text": [
      "{'Pedro': 917040672, 'Xzibit': 100200300}\n",
      "100200300\n"
     ]
    }
   ],
   "source": [
    "contacts = {\n",
    "    'Pedro': 917040672,\n",
    "    'Xzibit': 100200300\n",
    "}\n",
    "print(contacts)\n",
    "print(contacts['Xzibit'])"
   ]
  },
  {
   "cell_type": "markdown",
   "metadata": {},
   "source": [
    "- `'Pedro'` and `'Xzibit'` are **keys**\n",
    "- Both numbers are **values**"
   ]
  },
  {
   "cell_type": "markdown",
   "metadata": {
    "slideshow": {
     "slide_type": "subslide"
    }
   },
   "source": [
    "# 2. New Python `type` - Dictionaries\n",
    "## 2.3. Exercise - \n",
    "---\n",
    "\n",
    "1. Build a `dict` with the following data:\n",
    "    - **Key** `'weight'` and **value** `np_weight`\n",
    "    - **Key** `'height'` and **value** `np_height`\n",
    "2. Finally, **sum** both `np_weight` and `np_height`, but **using the dictionary to access the values** (i.e. `dict['x'] + dict['y']`)"
   ]
  },
  {
   "cell_type": "markdown",
   "metadata": {
    "slideshow": {
     "slide_type": "fragment"
    }
   },
   "source": [
    "---"
   ]
  },
  {
   "cell_type": "code",
   "execution_count": 136,
   "metadata": {
    "slideshow": {
     "slide_type": "-"
    }
   },
   "outputs": [
    {
     "data": {
      "text/plain": [
       "array([61.5, 71.6, 81.7])"
      ]
     },
     "execution_count": 136,
     "metadata": {},
     "output_type": "execute_result"
    }
   ],
   "source": [
    "data = {\n",
    "    'weight': np_weight,\n",
    "    'height': np_height\n",
    "}\n",
    "data['weight'] + data['height']"
   ]
  },
  {
   "cell_type": "markdown",
   "metadata": {
    "slideshow": {
     "slide_type": "subslide"
    }
   },
   "source": [
    "# 2. New Python `type` - Dictionaries\n",
    "## 2.3. Dictionaries of dictionaries\n",
    "---\n",
    "\n",
    "- We can build complex **data structures** with dictionaries\n",
    "- We can have `lists` of `lists`, but we can also have `dict` of `dict` of `dict` of ...\n"
   ]
  },
  {
   "cell_type": "code",
   "execution_count": 134,
   "metadata": {},
   "outputs": [],
   "source": [
    "contacts = {\n",
    "    'Pedro': {\n",
    "        'number': 917040672,\n",
    "        'address': {\n",
    "            'city': 'Lisbon',\n",
    "            'zip_code': '1600-007'\n",
    "        }\n",
    "    },\n",
    "    'Xzibit': {\n",
    "        'number': 100200300,\n",
    "        'address': {\n",
    "            'city': 'USA',\n",
    "            'zip_code': '001-230'\n",
    "        }\n",
    "    },\n",
    "}"
   ]
  },
  {
   "cell_type": "markdown",
   "metadata": {
    "slideshow": {
     "slide_type": "fragment"
    }
   },
   "source": [
    "---\n",
    "- We can chain **sequential indexes**, given that we know the structure of our `dict`"
   ]
  },
  {
   "cell_type": "code",
   "execution_count": 135,
   "metadata": {},
   "outputs": [
    {
     "name": "stdout",
     "output_type": "stream",
     "text": [
      "001-230\n"
     ]
    }
   ],
   "source": [
    "print(contacts['Xzibit']['address']['zip_code'])"
   ]
  },
  {
   "cell_type": "markdown",
   "metadata": {
    "slideshow": {
     "slide_type": "subslide"
    }
   },
   "source": [
    "# 2. New Python `type` - Dictionaries\n",
    "## 2.3. Iterating dictionaries\n",
    "---"
   ]
  },
  {
   "cell_type": "markdown",
   "metadata": {},
   "source": [
    "- This is how we iterate a `list`"
   ]
  },
  {
   "cell_type": "code",
   "execution_count": 137,
   "metadata": {},
   "outputs": [
    {
     "name": "stdout",
     "output_type": "stream",
     "text": [
      "0\n",
      "1\n",
      "2\n",
      "3\n",
      "4\n"
     ]
    }
   ],
   "source": [
    "numbers = range(5)\n",
    "for element in numbers:\n",
    "    print(element)"
   ]
  },
  {
   "cell_type": "markdown",
   "metadata": {
    "slideshow": {
     "slide_type": "fragment"
    }
   },
   "source": [
    "---\n",
    "- Iterating a `dict` is the same thing\n",
    "- The element we get though, is the `dict` **key**"
   ]
  },
  {
   "cell_type": "code",
   "execution_count": 138,
   "metadata": {},
   "outputs": [
    {
     "name": "stdout",
     "output_type": "stream",
     "text": [
      "Pedro\n",
      "{'number': 917040672, 'address': {'city': 'Lisbon', 'zip_code': '1600-007'}}\n",
      "Xzibit\n",
      "{'number': 100200300, 'address': {'city': 'USA', 'zip_code': '001-230'}}\n"
     ]
    }
   ],
   "source": [
    "for key in contacts:\n",
    "    print(key)\n",
    "    print(contacts[key])"
   ]
  },
  {
   "cell_type": "markdown",
   "metadata": {
    "slideshow": {
     "slide_type": "fragment"
    }
   },
   "source": [
    "---\n",
    "- There is a way to iterate both **keys** and **values** at the same time\n",
    "- But we have to use the `items()` **method** of dictionaries to achieve this\n",
    "- Since we are getting both a **key** and a **value** at the same time, we have to use **two iteration variables**.\n",
    "- We'll call our **iteration variables** `key` and `value`"
   ]
  },
  {
   "cell_type": "code",
   "execution_count": 140,
   "metadata": {},
   "outputs": [
    {
     "name": "stdout",
     "output_type": "stream",
     "text": [
      "Pedro\n",
      "{'number': 917040672, 'address': {'city': 'Lisbon', 'zip_code': '1600-007'}}\n",
      "Xzibit\n",
      "{'number': 100200300, 'address': {'city': 'USA', 'zip_code': '001-230'}}\n"
     ]
    }
   ],
   "source": [
    "for key, value in contacts.items():\n",
    "    print(key)\n",
    "    print(value)"
   ]
  },
  {
   "cell_type": "markdown",
   "metadata": {
    "slideshow": {
     "slide_type": "subslide"
    }
   },
   "source": [
    "# 2. New Python `type` - Dictionaries\n",
    "## 2.3. Summary\n",
    "---\n"
   ]
  },
  {
   "cell_type": "markdown",
   "metadata": {
    "slideshow": {
     "slide_type": "slide"
    }
   },
   "source": [
    "# 3. Functions with **named** arguments\n",
    "\n",
    "<br>\n",
    "<center>\n",
    "    <img src=\"https://files.realpython.com/media/Newbie_Watermarked.a9319218252a.jpg\">\n",
    "</center>"
   ]
  },
  {
   "cell_type": "markdown",
   "metadata": {
    "slideshow": {
     "slide_type": "subslide"
    }
   },
   "source": [
    "# 3. Functions with **named** arguments\n",
    "## 3.1. Reviewing functions with an example - Min Max Scaling\n",
    "---\n",
    "\n",
    "- In Data Science, sometimes it's needed to **scale** data\n",
    "- To **scale** is to shift the **domain** of the data (i.e. `[0, 100] -> [0, 1]`)\n",
    "- This is helpful when developing predictive models\n",
    "\n",
    "**Min Max Scaling** between 0 and 1:\n",
    "$$x' = \\frac{x - min(x)}{max(x) - min(x)}$$\n",
    "\n",
    "**Min Max Scaling** between $a$ and $b$:\n",
    "$$x' = a + \\frac{(x - min(x))(b-a)}{max(x) - min(x)}$$"
   ]
  },
  {
   "cell_type": "markdown",
   "metadata": {
    "slideshow": {
     "slide_type": "fragment"
    }
   },
   "source": [
    "---\n",
    "- The overall structure of a **function** is as follows"
   ]
  },
  {
   "cell_type": "code",
   "execution_count": 150,
   "metadata": {
    "slideshow": {
     "slide_type": "-"
    }
   },
   "outputs": [],
   "source": [
    "def min_max_scaling(data, a, b):\n",
    "    minimum = np.min(data)\n",
    "    maximum = np.max(data)\n",
    "    \n",
    "    numerator = (data - minimum) * (b - a)\n",
    "    denominator = maximum - minimum\n",
    "    return a + (numerator / denominator)"
   ]
  },
  {
   "cell_type": "code",
   "execution_count": 151,
   "metadata": {},
   "outputs": [
    {
     "data": {
      "text/plain": [
       "array([0. , 0.5, 1. ])"
      ]
     },
     "execution_count": 151,
     "metadata": {},
     "output_type": "execute_result"
    }
   ],
   "source": [
    "min_max_scaling(np_weight, 0, 1)"
   ]
  },
  {
   "cell_type": "code",
   "execution_count": 152,
   "metadata": {},
   "outputs": [
    {
     "data": {
      "text/plain": [
       "array([ 10. , 288.5, 567. ])"
      ]
     },
     "execution_count": 152,
     "metadata": {},
     "output_type": "execute_result"
    }
   ],
   "source": [
    "min_max_scaling(np_weight, 10, 567)"
   ]
  },
  {
   "cell_type": "markdown",
   "metadata": {
    "slideshow": {
     "slide_type": "fragment"
    }
   },
   "source": [
    "---\n",
    "- What if we want to add **default** behavior to our **scaling function**?\n",
    "- We want it **by default** to scale between 0 and 1\n",
    "- We can make use of **named arguments** on the **function definition**\n",
    "- **Named arguments** have **default values** "
   ]
  },
  {
   "cell_type": "code",
   "execution_count": 153,
   "metadata": {},
   "outputs": [],
   "source": [
    "def min_max_scaling(data, a=0, b=1):\n",
    "    minimum = np.min(data)\n",
    "    maximum = np.max(data)\n",
    "    \n",
    "    numerator = (data - minimum) * (b - a)\n",
    "    denominator = maximum - minimum\n",
    "    return a + (numerator / denominator)"
   ]
  },
  {
   "cell_type": "markdown",
   "metadata": {
    "slideshow": {
     "slide_type": "fragment"
    }
   },
   "source": [
    "---\n",
    "- Now we can call the **function** without the need to specify the `lower_bound` and `upper_bound"
   ]
  },
  {
   "cell_type": "code",
   "execution_count": 154,
   "metadata": {},
   "outputs": [
    {
     "data": {
      "text/plain": [
       "array([0. , 0.5, 1. ])"
      ]
     },
     "execution_count": 154,
     "metadata": {},
     "output_type": "execute_result"
    }
   ],
   "source": [
    "min_max_scaling(np_weight)"
   ]
  },
  {
   "cell_type": "markdown",
   "metadata": {
    "slideshow": {
     "slide_type": "fragment"
    }
   },
   "source": [
    "---\n",
    "- When calling the **function**, we can **write** the names of the arguments. Like so:"
   ]
  },
  {
   "cell_type": "code",
   "execution_count": 156,
   "metadata": {},
   "outputs": [
    {
     "data": {
      "text/plain": [
       "array([30., 45., 60.])"
      ]
     },
     "execution_count": 156,
     "metadata": {},
     "output_type": "execute_result"
    }
   ],
   "source": [
    "min_max_scaling(np_weight, b=60, a=30)"
   ]
  },
  {
   "cell_type": "markdown",
   "metadata": {},
   "source": [
    "- **NOTE**: You can still call the function without writing the arguments names\n",
    "- **NOTE**: You can alter the order of the **named arguments**, as long as you write their name!\n",
    "- **THOUGHT**: Imagine that a **function** had 100 arguments. You would have to know the **exact order** of each argument. What a headache! We can make our lives easier by using **named arguments** "
   ]
  },
  {
   "cell_type": "markdown",
   "metadata": {
    "slideshow": {
     "slide_type": "fragment"
    }
   },
   "source": [
    "---\n",
    "- **NOTE**: But you can't put a **named argument** before a **non-named argument**"
   ]
  },
  {
   "cell_type": "code",
   "execution_count": 157,
   "metadata": {},
   "outputs": [
    {
     "ename": "SyntaxError",
     "evalue": "positional argument follows keyword argument (<ipython-input-157-7e30830ec238>, line 1)",
     "output_type": "error",
     "traceback": [
      "\u001b[0;36m  File \u001b[0;32m\"<ipython-input-157-7e30830ec238>\"\u001b[0;36m, line \u001b[0;32m1\u001b[0m\n\u001b[0;31m    min_max_scaling(b=60, np_weight, a=30)\u001b[0m\n\u001b[0m                         ^\u001b[0m\n\u001b[0;31mSyntaxError\u001b[0m\u001b[0;31m:\u001b[0m positional argument follows keyword argument\n"
     ]
    }
   ],
   "source": [
    "min_max_scaling(b=60, np_weight, a=30)"
   ]
  },
  {
   "cell_type": "markdown",
   "metadata": {
    "slideshow": {
     "slide_type": "subslide"
    }
   },
   "source": [
    "# 3. Functions with **named** arguments\n",
    "## 3.7. Summary\n",
    "---"
   ]
  },
  {
   "cell_type": "markdown",
   "metadata": {
    "slideshow": {
     "slide_type": "slide"
    }
   },
   "source": [
    "# 4. Introduction to Pandas\n",
    "\n",
    "<br>\n",
    "<center>\n",
    "        <img src=\"https://files.realpython.com/media/List-Comprehensions-in-Python_Watermarked.39cf85bdd5d0.jpg\">\n",
    "</center>"
   ]
  },
  {
   "cell_type": "markdown",
   "metadata": {
    "slideshow": {
     "slide_type": "subslide"
    }
   },
   "source": [
    "# 4. Python Lists\n",
    "## 4.1 Python Lists\n",
    "\n",
    "- What if we are gathering family height data. Will we have a **variable** for each of the numbers? "
   ]
  },
  {
   "cell_type": "code",
   "execution_count": 43,
   "metadata": {
    "slideshow": {
     "slide_type": "-"
    }
   },
   "outputs": [],
   "source": [
    "height1 = 1.50\n",
    "height2 = 1.60\n",
    "height3 = 1.70"
   ]
  },
  {
   "cell_type": "markdown",
   "metadata": {
    "slideshow": {
     "slide_type": "fragment"
    }
   },
   "source": [
    "- The answer to this problem are **`lists`**\n",
    "- A `list` is just a set of items - a **collection of values**\n"
   ]
  },
  {
   "cell_type": "markdown",
   "metadata": {
    "slideshow": {
     "slide_type": "fragment"
    }
   },
   "source": [
    "- You can make a `list` with square brackets `[ ]`. Like this: "
   ]
  },
  {
   "cell_type": "code",
   "execution_count": 44,
   "metadata": {
    "slideshow": {
     "slide_type": "-"
    }
   },
   "outputs": [
    {
     "name": "stdout",
     "output_type": "stream",
     "text": [
      "[1.5, 1.6, 1.7]\n"
     ]
    }
   ],
   "source": [
    "heights = [1.50, 1.60, 1.70]\n",
    "print(heights)"
   ]
  },
  {
   "cell_type": "markdown",
   "metadata": {
    "slideshow": {
     "slide_type": "fragment"
    }
   },
   "source": [
    "- A `list` is like a box with boxes, and each box can have a different **type**\n"
   ]
  },
  {
   "cell_type": "markdown",
   "metadata": {
    "slideshow": {
     "slide_type": "fragment"
    }
   },
   "source": [
    "- Let's add different **typed** **variables** to our `list`"
   ]
  },
  {
   "cell_type": "code",
   "execution_count": 45,
   "metadata": {
    "slideshow": {
     "slide_type": "-"
    }
   },
   "outputs": [
    {
     "name": "stdout",
     "output_type": "stream",
     "text": [
      "['ze', 1.5, 'manel', 1.6, 'josefina', 1.7]\n"
     ]
    }
   ],
   "source": [
    "heights = [\n",
    "    'ze', 1.50,\n",
    "    'manel', 1.60,\n",
    "    'josefina', 1.70\n",
    "]\n",
    "print(heights)"
   ]
  },
  {
   "cell_type": "markdown",
   "metadata": {
    "slideshow": {
     "slide_type": "fragment"
    }
   },
   "source": [
    "- I heard you like lists, so I put lists on your lists!"
   ]
  },
  {
   "cell_type": "code",
   "execution_count": 46,
   "metadata": {
    "slideshow": {
     "slide_type": "-"
    }
   },
   "outputs": [
    {
     "name": "stdout",
     "output_type": "stream",
     "text": [
      "[['ze', 1.5], ['manel', 1.6], ['josefina', 1.7]]\n"
     ]
    }
   ],
   "source": [
    "heights = [\n",
    "    ['ze', 1.50],\n",
    "    ['manel', 1.60],\n",
    "    ['josefina', 1.70]\n",
    "]\n",
    "print(heights)"
   ]
  },
  {
   "cell_type": "markdown",
   "metadata": {
    "slideshow": {
     "slide_type": "subslide"
    }
   },
   "source": [
    "# 4. Python Lists\n",
    "\n",
    "<center>\n",
    "    <img src=\"https://www.meme-arsenal.com/memes/0ca36be035e2c8c79d6af4543c7a6990.jpg\" width=20%>\n",
    "    </center>\n",
    "\n",
    "## 4.2. Exercise - Variables and Creating Lists\n",
    "\n",
    "Let's create a contact list, containing **names** and **phone numbers**.\\\n",
    "The objective is to combine **variable assignment**, building `lists`, and finally a **list of lists**.\n",
    "\n",
    "1. **Assign** your name to a **variable** named `name` and your phone number to a **variable** named `phone_number`\n",
    "2. **Assign** a friends name to a **variable** named `friend_name` and the corresponding phone number to `friend_phone_number`\n",
    "3. Create a `list` named `contact1` containing both `name` and `phone_number`\n",
    "4. Create a `list` named `contact2` containing both `friend_name` and `friend_phone_number`\n",
    "5. Finally, create a `list` named `contacts` containing both **variables** `contact1` and `contact2`\n",
    "6. `Print` the resulting list `contacts`"
   ]
  },
  {
   "cell_type": "code",
   "execution_count": 47,
   "metadata": {
    "slideshow": {
     "slide_type": "fragment"
    }
   },
   "outputs": [
    {
     "name": "stdout",
     "output_type": "stream",
     "text": [
      "[['Pedro', 917040672], ['Xzibit', 100200300]]\n"
     ]
    }
   ],
   "source": [
    "name = \"Pedro\"\n",
    "phone_number = 917040672\n",
    "\n",
    "friend_name = \"Xzibit\"\n",
    "friend_phone_number = 100200300\n",
    "\n",
    "contact1 = [name, phone_number]\n",
    "contact2 = [friend_name, friend_phone_number]\n",
    "contacts = [contact1, contact2]\n",
    "print(contacts)"
   ]
  },
  {
   "cell_type": "markdown",
   "metadata": {
    "slideshow": {
     "slide_type": "subslide"
    }
   },
   "source": [
    "# 4. Python Lists\n",
    "## 4.3. Actually using lists\n",
    "\n",
    "- Great, we have a bunch of numbers in a `list`. What now?\n",
    "- We can access each **element** of the `list`\n",
    "- Lists have **indexes**\n",
    "\n",
    "<center>\n",
    "    <img src=\"https://cdn.dribbble.com/users/201599/screenshots/1545461/book.jpg\" width=20%>\n",
    "</center>\n"
   ]
  },
  {
   "cell_type": "markdown",
   "metadata": {
    "slideshow": {
     "slide_type": "fragment"
    }
   },
   "source": [
    "- To use the **index** to get an element of the `list` we also use square brackets `[ ]`\n",
    "- Unlike a book **index**, that start chapters with 1, in Python **indexes start with `0`**\n"
   ]
  },
  {
   "cell_type": "code",
   "execution_count": 48,
   "metadata": {
    "slideshow": {
     "slide_type": "-"
    }
   },
   "outputs": [
    {
     "name": "stdout",
     "output_type": "stream",
     "text": [
      "['Xzibit', 100200300]\n"
     ]
    }
   ],
   "source": [
    "print(contacts[1])"
   ]
  },
  {
   "cell_type": "markdown",
   "metadata": {
    "slideshow": {
     "slide_type": "fragment"
    }
   },
   "source": [
    "- The result is still a `list`, so we can chain these **indexes**"
   ]
  },
  {
   "cell_type": "code",
   "execution_count": 49,
   "metadata": {
    "slideshow": {
     "slide_type": "-"
    }
   },
   "outputs": [
    {
     "name": "stdout",
     "output_type": "stream",
     "text": [
      "917040672\n"
     ]
    }
   ],
   "source": [
    "print(contacts[0][1])"
   ]
  },
  {
   "cell_type": "markdown",
   "metadata": {
    "slideshow": {
     "slide_type": "fragment"
    }
   },
   "source": [
    "- What happens if we try to access a non-existing **index**? For instance `100`"
   ]
  },
  {
   "cell_type": "code",
   "execution_count": 50,
   "metadata": {
    "slideshow": {
     "slide_type": "-"
    }
   },
   "outputs": [
    {
     "ename": "IndexError",
     "evalue": "list index out of range",
     "output_type": "error",
     "traceback": [
      "\u001b[0;31m---------------------------------------------------------------------------\u001b[0m",
      "\u001b[0;31mIndexError\u001b[0m                                Traceback (most recent call last)",
      "\u001b[0;32m<ipython-input-50-48639abbfebe>\u001b[0m in \u001b[0;36m<module>\u001b[0;34m\u001b[0m\n\u001b[0;32m----> 1\u001b[0;31m \u001b[0mprint\u001b[0m\u001b[0;34m(\u001b[0m\u001b[0mcontacts\u001b[0m\u001b[0;34m[\u001b[0m\u001b[0;36m100\u001b[0m\u001b[0;34m]\u001b[0m\u001b[0;34m)\u001b[0m\u001b[0;34m\u001b[0m\u001b[0;34m\u001b[0m\u001b[0m\n\u001b[0m",
      "\u001b[0;31mIndexError\u001b[0m: list index out of range"
     ]
    }
   ],
   "source": [
    "print(contacts[100])"
   ]
  },
  {
   "cell_type": "markdown",
   "metadata": {
    "slideshow": {
     "slide_type": "fragment"
    }
   },
   "source": [
    "- **Indexes** can work from **last to first** element. Begins with `-1`"
   ]
  },
  {
   "cell_type": "code",
   "execution_count": 51,
   "metadata": {
    "slideshow": {
     "slide_type": "-"
    }
   },
   "outputs": [
    {
     "name": "stdout",
     "output_type": "stream",
     "text": [
      "['Xzibit', 100200300]\n"
     ]
    }
   ],
   "source": [
    "print(contacts[-1])"
   ]
  },
  {
   "cell_type": "markdown",
   "metadata": {
    "slideshow": {
     "slide_type": "subslide"
    }
   },
   "source": [
    "# 4. Python Lists\n",
    "## 4.4. \"Slicing\" lists\n",
    "\n",
    "- What if we want multiple **elements** of a `list`? This is called **slicing**\n"
   ]
  },
  {
   "cell_type": "markdown",
   "metadata": {
    "slideshow": {
     "slide_type": "fragment"
    }
   },
   "source": [
    "\n",
    "- Uses the notation `[i:j]`for **from** `i` **to** `j`\n",
    "- `j` is not inclusive!\n"
   ]
  },
  {
   "cell_type": "code",
   "execution_count": 52,
   "metadata": {
    "slideshow": {
     "slide_type": "-"
    }
   },
   "outputs": [
    {
     "name": "stdout",
     "output_type": "stream",
     "text": [
      "[1, 2]\n"
     ]
    }
   ],
   "source": [
    "numbers = [0, 1, 2, 3, 4, 5, 6, 7, 8, 9]\n",
    "print(numbers[1:3])"
   ]
  },
  {
   "cell_type": "markdown",
   "metadata": {
    "slideshow": {
     "slide_type": "fragment"
    }
   },
   "source": [
    "- We can also **slice** **from** `i` (to the end)"
   ]
  },
  {
   "cell_type": "code",
   "execution_count": 53,
   "metadata": {
    "slideshow": {
     "slide_type": "-"
    }
   },
   "outputs": [
    {
     "name": "stdout",
     "output_type": "stream",
     "text": [
      "[3, 4, 5, 6, 7, 8, 9]\n"
     ]
    }
   ],
   "source": [
    "print(numbers[3:])"
   ]
  },
  {
   "cell_type": "markdown",
   "metadata": {
    "slideshow": {
     "slide_type": "fragment"
    }
   },
   "source": [
    "- And we can **slice** **to** `j` (from the start) is also possible!"
   ]
  },
  {
   "cell_type": "code",
   "execution_count": 54,
   "metadata": {
    "slideshow": {
     "slide_type": "-"
    }
   },
   "outputs": [
    {
     "name": "stdout",
     "output_type": "stream",
     "text": [
      "[0, 1, 2, 3, 4]\n"
     ]
    }
   ],
   "source": [
    "print(numbers[:5])"
   ]
  },
  {
   "cell_type": "markdown",
   "metadata": {
    "slideshow": {
     "slide_type": "subslide"
    }
   },
   "source": [
    "# 4. Python Lists\n",
    "## 4.5. Exercise - Slicing and operating with lists\n",
    "\n",
    "The objective of this exercise is to **slice** the same `list` in two different parts and joining them together into **one** `list` (not a list of lists).\n",
    "\n",
    "1. Create a `list` of numbers from 0 to 9. Name it `numbers`;\n",
    "2. **Slice** `numbers` to get the first three numbers and name it `slice1`;\n",
    "3. **Slice** `numbers` to get the last three numbers and name it `slice2`;\n",
    "4. Create a `list` from lists `slice1` and `slice2`.\n",
    "\n",
    "**HINT**: `Lists` can be **operated** with. Just like `int`s and `str`s\n",
    "<br>\n",
    "**HINT**: Try summing the two lists"
   ]
  },
  {
   "cell_type": "code",
   "execution_count": 55,
   "metadata": {
    "slideshow": {
     "slide_type": "fragment"
    }
   },
   "outputs": [
    {
     "name": "stdout",
     "output_type": "stream",
     "text": [
      "[0, 1, 2, 7, 8, 9]\n"
     ]
    }
   ],
   "source": [
    "numbers = [0, 1, 2, 3, 4, 5, 6, 7, 8, 9]\n",
    "slice1 = numbers[:3]\n",
    "slice2 = numbers[-3:]\n",
    "result = slice1 + slice2\n",
    "print(result)"
   ]
  },
  {
   "cell_type": "markdown",
   "metadata": {
    "slideshow": {
     "slide_type": "subslide"
    }
   },
   "source": [
    "# 4. Python Lists\n",
    "## 4.6. Changing elements in a list\n",
    "\n",
    "- The same way that we access an element of the list we can also change it\n",
    "- Like it was a variable, we use the `=` sign"
   ]
  },
  {
   "cell_type": "code",
   "execution_count": 56,
   "metadata": {
    "slideshow": {
     "slide_type": "-"
    }
   },
   "outputs": [
    {
     "name": "stdout",
     "output_type": "stream",
     "text": [
      "[7000, 1, 2, 3, 4, 5, 6, 7, 8, 9]\n"
     ]
    }
   ],
   "source": [
    "numbers[0] = 7000\n",
    "print(numbers)"
   ]
  },
  {
   "cell_type": "markdown",
   "metadata": {
    "slideshow": {
     "slide_type": "fragment"
    }
   },
   "source": [
    "**Curious** note for future work:\n",
    "- What happens if a variable that has a list is assigned to another variable?\n",
    "- Does changing one of the variables, change the other?"
   ]
  },
  {
   "cell_type": "code",
   "execution_count": 57,
   "metadata": {
    "slideshow": {
     "slide_type": "fragment"
    }
   },
   "outputs": [
    {
     "name": "stdout",
     "output_type": "stream",
     "text": [
      "['a', 'z', 'c']\n",
      "['a', 'z', 'c']\n"
     ]
    }
   ],
   "source": [
    "x = ['a', 'b', 'c']\n",
    "y = x\n",
    "y[1] = 'z'\n",
    "print(y)\n",
    "print(x)"
   ]
  },
  {
   "cell_type": "markdown",
   "metadata": {
    "slideshow": {
     "slide_type": "fragment"
    }
   },
   "source": [
    "- `x` also changed! Beware in the future!"
   ]
  },
  {
   "cell_type": "markdown",
   "metadata": {},
   "source": [
    "<center>\n",
    "<div style=\"content:''; clear:both; display:table\">\n",
    "  <div style=\"float:left;width:50%;padding:5px\">\n",
    "    <img src=\"scrot3.png\" width=200>\n",
    "  </div>\n",
    "  <div style=\"float:left; width:50%; padding:5px\">\n",
    "    <img src=\"scrot2.png\" width=200>\n",
    "  </div>\n",
    "</div> \n",
    "</center>"
   ]
  },
  {
   "cell_type": "markdown",
   "metadata": {
    "slideshow": {
     "slide_type": "subslide"
    }
   },
   "source": [
    "# 4. Python Lists\n",
    "## 4.7. Adding elements to a list\n",
    "\n",
    "- You can add elements to the end of the list using the `append`"
   ]
  },
  {
   "cell_type": "code",
   "execution_count": 58,
   "metadata": {
    "slideshow": {
     "slide_type": "-"
    }
   },
   "outputs": [
    {
     "name": "stdout",
     "output_type": "stream",
     "text": [
      "['a', 'z', 'c', 'D']\n"
     ]
    }
   ],
   "source": [
    "x.append('D')\n",
    "print(x)"
   ]
  },
  {
   "cell_type": "markdown",
   "metadata": {},
   "source": [
    "- Notice that we didn't put the result in a variable\n",
    "- That is because `append` already altered variable `x`. "
   ]
  },
  {
   "cell_type": "markdown",
   "metadata": {
    "slideshow": {
     "slide_type": "fragment"
    }
   },
   "source": [
    "- How would we add elements to the end of the list just using list operations?\n",
    "\n",
    "**HINT**: we summed lists earlier"
   ]
  },
  {
   "cell_type": "code",
   "execution_count": 59,
   "metadata": {
    "slideshow": {
     "slide_type": "fragment"
    }
   },
   "outputs": [
    {
     "name": "stdout",
     "output_type": "stream",
     "text": [
      "['a', 'z', 'c', 'D', 'E']\n"
     ]
    }
   ],
   "source": [
    "x = x + ['E']\n",
    "print(x)"
   ]
  },
  {
   "cell_type": "markdown",
   "metadata": {
    "slideshow": {
     "slide_type": "subslide"
    }
   },
   "source": [
    "# 4. Python Lists\n",
    "## 4.8. Summary\n",
    "\n",
    "- `Lists` are a python **type** and a **collection of values**\n",
    "- `Lists` are made with square brackets `[\"value1\", \"value2\"]`\n",
    "- `Lists` can have different **types** inside\n",
    "- `Lists` have **indexes** and it starts at `0`, or `-1` if starting from last\n",
    "- We access a `list` value also using square brackets `list[0]`\n",
    "- `Lists` can be **sliced**, to take several values \n",
    "- We can alter singular values of `lists` by doing `list[0] = 'a'`\n",
    "- We can add elements to the end of the `list` with `append`\n",
    "- `Lists` can be summed togehter to **join** the lists"
   ]
  },
  {
   "cell_type": "markdown",
   "metadata": {
    "slideshow": {
     "slide_type": "slide"
    }
   },
   "source": [
    "# 5. Python Functions\n",
    "<br>\n",
    "<center>\n",
    "<img src=\"https://files.realpython.com/media/building_with_python_watermark.2ebe5beb5b1e.jpg\">\n",
    "    </center>"
   ]
  },
  {
   "cell_type": "markdown",
   "metadata": {
    "slideshow": {
     "slide_type": "subslide"
    }
   },
   "source": [
    "# 5. Python Functions\n",
    "\n",
    "## 5.1 Functions \n",
    "\n",
    "- FYI, we have already used **functions** like `type` and `print` (see that green text on your notebook?)\n",
    "- Like in Math $f(x)=y$ the function `f` takes in **argument** `x` and **returns** the result `y`\n",
    "\n"
   ]
  },
  {
   "cell_type": "markdown",
   "metadata": {
    "slideshow": {
     "slide_type": "fragment"
    }
   },
   "source": [
    "- In short, a function is reusable code! We have used `print` a **lot** by now\n",
    "- Functions are how IT got so big, you can just share your functions, and never have to write them\n",
    "\n"
   ]
  },
  {
   "cell_type": "markdown",
   "metadata": {
    "slideshow": {
     "slide_type": "fragment"
    }
   },
   "source": [
    "- A function **returns** a value, so you can also put the result in a variable\n",
    "- Let's look at a few examples, that come with Python\n",
    "\n",
    "`min` and `max`"
   ]
  },
  {
   "cell_type": "code",
   "execution_count": 60,
   "metadata": {
    "slideshow": {
     "slide_type": "-"
    }
   },
   "outputs": [
    {
     "name": "stdout",
     "output_type": "stream",
     "text": [
      "4 0\n"
     ]
    }
   ],
   "source": [
    "numbers = [0, 1, 2, 3, 4]\n",
    "max_value = max(numbers)\n",
    "min_value = min(numbers)\n",
    "print(max_value, min_value)"
   ]
  },
  {
   "cell_type": "markdown",
   "metadata": {
    "slideshow": {
     "slide_type": "fragment"
    }
   },
   "source": [
    "- So if there are a lot of already made functions, how do we find them?\n",
    "    - With time...\n",
    "    - With practice...\n",
    "    "
   ]
  },
  {
   "cell_type": "markdown",
   "metadata": {
    "slideshow": {
     "slide_type": "subslide"
    }
   },
   "source": [
    "<center>\n",
    "<img src=\"https://encrypted-tbn0.gstatic.com/images?q=tbn%3AANd9GcSuBOhO_O1WbFWe6Iit3tN5Mv8hL7bhKjZduG7lVHa7WzXCsqRl\" width=700 height=700>\n",
    "</center>"
   ]
  },
  {
   "cell_type": "markdown",
   "metadata": {
    "slideshow": {
     "slide_type": "subslide"
    }
   },
   "source": [
    "# 5. Python Functions\n",
    "## 5.2. Exercise - Private Investigator I\n",
    "\n",
    "We want to find how to **round** numbers in Python. We don't want the decimal part.\n",
    "\n",
    "1. The Internet is your friend (maybe). Especially Google (maybe).\n",
    "2. Search the internet for `PYTHON HOW TO ROUND NUMBERS`\n",
    "3. Look for `stackoverflow.com`, these ones are the best.\n",
    "4. Round the number `7.1`\n",
    "\n",
    "Keep in mind that if the answer is too long, it is probably not what you are looking for!"
   ]
  },
  {
   "cell_type": "code",
   "execution_count": 61,
   "metadata": {
    "slideshow": {
     "slide_type": "fragment"
    }
   },
   "outputs": [
    {
     "name": "stdout",
     "output_type": "stream",
     "text": [
      "7\n"
     ]
    }
   ],
   "source": [
    "# ANSWER\n",
    "print(round(7.1))"
   ]
  },
  {
   "cell_type": "markdown",
   "metadata": {
    "slideshow": {
     "slide_type": "subslide"
    }
   },
   "source": [
    "# 5. Python Functions\n",
    "## 5.3. Exercise - Private Investigator II\n",
    "\n",
    "This time around, we want to know the **length** of a `list`.\n",
    "\n",
    "Happy finding!"
   ]
  },
  {
   "cell_type": "code",
   "execution_count": 62,
   "metadata": {
    "slideshow": {
     "slide_type": "fragment"
    }
   },
   "outputs": [
    {
     "name": "stdout",
     "output_type": "stream",
     "text": [
      "3\n"
     ]
    }
   ],
   "source": [
    "numbers = [1, 2, 3]\n",
    "print(len(numbers))"
   ]
  },
  {
   "cell_type": "markdown",
   "metadata": {
    "slideshow": {
     "slide_type": "fragment"
    }
   },
   "source": [
    "- This is why it is useful to know the **keywords** like\n",
    "    - **Type**\n",
    "    - **List**\n",
    "    - etc..."
   ]
  },
  {
   "cell_type": "markdown",
   "metadata": {
    "slideshow": {
     "slide_type": "subslide"
    }
   },
   "source": [
    "# 5. Python Functions\n",
    "## 5.4. Methods\n",
    "\n",
    "- Until now we have seen one, the `append` for the `lists`\n",
    "- You can identify them when they come after a dot `.` (i.e. `list.append('E')`) \n",
    "- **Method** is just a fancy word for **function** that belongs to a **type**"
   ]
  },
  {
   "cell_type": "markdown",
   "metadata": {
    "slideshow": {
     "slide_type": "fragment"
    }
   },
   "source": [
    "### String Methods\n",
    "#### `split`\n",
    "- allows you to **separate** a string by a **character**."
   ]
  },
  {
   "cell_type": "code",
   "execution_count": 63,
   "metadata": {
    "slideshow": {
     "slide_type": "-"
    }
   },
   "outputs": [
    {
     "name": "stdout",
     "output_type": "stream",
     "text": [
      "Hello world!\n",
      "['Hello', 'world!']\n"
     ]
    }
   ],
   "source": [
    "string = \"Hello world!\"\n",
    "print(string)\n",
    "splitted_string = string.split(' ')\n",
    "print(splitted_string)"
   ]
  },
  {
   "cell_type": "markdown",
   "metadata": {
    "slideshow": {
     "slide_type": "fragment"
    }
   },
   "source": [
    "#### `join`\n",
    "- inverse of split. Glues a list of words (`string`s) together **with** a charactesr"
   ]
  },
  {
   "cell_type": "code",
   "execution_count": 64,
   "metadata": {
    "slideshow": {
     "slide_type": "-"
    }
   },
   "outputs": [
    {
     "name": "stdout",
     "output_type": "stream",
     "text": [
      "Hello world!\n"
     ]
    }
   ],
   "source": [
    "sentence = \" \".join(splitted_string)\n",
    "print(sentence)"
   ]
  },
  {
   "cell_type": "markdown",
   "metadata": {
    "slideshow": {
     "slide_type": "fragment"
    }
   },
   "source": [
    "### List Methods\n",
    "#### `sort`\n",
    "- sorts all the values inside your list"
   ]
  },
  {
   "cell_type": "code",
   "execution_count": 65,
   "metadata": {
    "slideshow": {
     "slide_type": "-"
    }
   },
   "outputs": [
    {
     "name": "stdout",
     "output_type": "stream",
     "text": [
      "[2, 3, 5] None\n"
     ]
    }
   ],
   "source": [
    "numbers = [5, 2, 3]\n",
    "sorted_list = numbers.sort()\n",
    "print(numbers, sorted_list)"
   ]
  },
  {
   "cell_type": "markdown",
   "metadata": {
    "slideshow": {
     "slide_type": "fragment"
    }
   },
   "source": [
    "####  `reverse`\n",
    "- reverses the values of the list. First goes last, etc."
   ]
  },
  {
   "cell_type": "code",
   "execution_count": 66,
   "metadata": {
    "slideshow": {
     "slide_type": "-"
    }
   },
   "outputs": [
    {
     "name": "stdout",
     "output_type": "stream",
     "text": [
      "[3, 2, 5] None\n"
     ]
    }
   ],
   "source": [
    "numbers = [5, 2, 3]\n",
    "reversed_list = numbers.reverse()\n",
    "print(numbers, reversed_list)"
   ]
  },
  {
   "cell_type": "markdown",
   "metadata": {
    "slideshow": {
     "slide_type": "-"
    }
   },
   "source": [
    "- **WARNING**: methods like `reverse`, `sort` and `append` modify the variable, but **don't return anything! (`None`)** "
   ]
  },
  {
   "cell_type": "markdown",
   "metadata": {
    "slideshow": {
     "slide_type": "subslide"
    }
   },
   "source": [
    "# 5. Python Functions\n",
    "\n",
    "## 5.5. Building our own functions\n",
    "\n",
    "- Functions are a convenient way to divide your code into useful blocks\n",
    "- It allows us to:\n",
    "    1. Order and organize our code \n",
    "    2. Make the code more readable, especially for **other** people\n",
    "    3. Reuse code and share with others \n",
    "    \n",
    "- Function code blocks have to be organized in a strict way \n",
    "\n"
   ]
  },
  {
   "cell_type": "markdown",
   "metadata": {
    "slideshow": {
     "slide_type": "fragment"
    }
   },
   "source": [
    "Example:"
   ]
  },
  {
   "cell_type": "code",
   "execution_count": 67,
   "metadata": {
    "slideshow": {
     "slide_type": "-"
    }
   },
   "outputs": [
    {
     "name": "stdout",
     "output_type": "stream",
     "text": [
      "Executing function. Beep-boop.\n",
      "68.0\n"
     ]
    }
   ],
   "source": [
    "def celsius_to_farh(temp):\n",
    "    print(\"Executing function. Beep-boop.\")\n",
    "    return 9/5 * temp + 32\n",
    "print(celsius_to_farh(20))"
   ]
  },
  {
   "cell_type": "markdown",
   "metadata": {
    "slideshow": {
     "slide_type": "subslide"
    }
   },
   "source": [
    "# 5. Python Functions\n",
    "\n",
    "### 5.5.1. Anatomy of a function"
   ]
  },
  {
   "cell_type": "markdown",
   "metadata": {},
   "source": [
    "<center>\n",
    "<img src=\"https://geo-python.github.io/site/develop/_images/Function_anatomy-400.png\">\n",
    "</center>"
   ]
  },
  {
   "cell_type": "markdown",
   "metadata": {},
   "source": [
    "1. **Mandatory**: `def` keyword\n",
    "2. **Mandatory**: function name\n",
    "3. **Mandatory**: function parenthesis `( )`\n",
    "4. **Optional**: funtion argument or parameter, inside the parenthesis\n",
    "5. **Mandatory**: double dots `:` after parenthesis\n",
    "6. **Optional**: `return` statement. The function can just `print`, for instance\n",
    "7. **Optional**: return value"
   ]
  },
  {
   "cell_type": "markdown",
   "metadata": {
    "slideshow": {
     "slide_type": "fragment"
    }
   },
   "source": [
    "- This is how we **call** a function. \n",
    "    1. Write its name \n",
    "    2. Open parenthesis `( )`\n",
    "    3. Put input arguments, if applicable"
   ]
  },
  {
   "cell_type": "code",
   "execution_count": 68,
   "metadata": {
    "slideshow": {
     "slide_type": "-"
    }
   },
   "outputs": [
    {
     "name": "stdout",
     "output_type": "stream",
     "text": [
      "Executing function. Beep-boop.\n",
      "68.0\n"
     ]
    }
   ],
   "source": [
    "def celsius_to_farh(temp):\n",
    "    print(\"Executing function. Beep-boop.\")\n",
    "    return 9/5 * temp + 32\n",
    "print(celsius_to_farh(20))"
   ]
  },
  {
   "cell_type": "markdown",
   "metadata": {
    "slideshow": {
     "slide_type": "subslide"
    }
   },
   "source": [
    "# 5. Python Functions\n",
    "\n",
    "## 5.6. Indentation\n",
    "\n",
    "- In Python there's a thing called **indentation**\n",
    "- It just means your code has to be organized in a certain fashion"
   ]
  },
  {
   "cell_type": "code",
   "execution_count": 69,
   "metadata": {},
   "outputs": [],
   "source": [
    "def celsius_to_farh(temp):\n",
    "    print(\"Executing function. Beep-boop.\")\n",
    "    return 9/5 * temp + 32"
   ]
  },
  {
   "cell_type": "markdown",
   "metadata": {
    "slideshow": {
     "slide_type": "fragment"
    }
   },
   "source": [
    "- If you don't follow **indentation**..."
   ]
  },
  {
   "cell_type": "code",
   "execution_count": 70,
   "metadata": {
    "slideshow": {
     "slide_type": "-"
    }
   },
   "outputs": [
    {
     "ename": "IndentationError",
     "evalue": "expected an indented block (<ipython-input-70-bbeb791d6066>, line 2)",
     "output_type": "error",
     "traceback": [
      "\u001b[0;36m  File \u001b[0;32m\"<ipython-input-70-bbeb791d6066>\"\u001b[0;36m, line \u001b[0;32m2\u001b[0m\n\u001b[0;31m    print(\"Executing function. Beep-boop.\")\u001b[0m\n\u001b[0m        ^\u001b[0m\n\u001b[0;31mIndentationError\u001b[0m\u001b[0;31m:\u001b[0m expected an indented block\n"
     ]
    }
   ],
   "source": [
    "def celsius_to_farh(temp):\n",
    "print(\"Executing function. Beep-boop.\")\n",
    "return 9/5 * temp + 32"
   ]
  },
  {
   "cell_type": "markdown",
   "metadata": {
    "slideshow": {
     "slide_type": "-"
    }
   },
   "source": [
    "- You can indent your line of code by pressing the `<TAB>` key. Right next to your `Q` key."
   ]
  },
  {
   "cell_type": "markdown",
   "metadata": {
    "slideshow": {
     "slide_type": "subslide"
    }
   },
   "source": [
    "# 5. Python Functions\n",
    "## 5.7. Quick Response Exercise\n",
    "\n",
    "Is this a valid function?"
   ]
  },
  {
   "cell_type": "code",
   "execution_count": 71,
   "metadata": {},
   "outputs": [],
   "source": [
    "def useless_function():\n",
    "    return"
   ]
  },
  {
   "cell_type": "markdown",
   "metadata": {
    "slideshow": {
     "slide_type": "fragment"
    }
   },
   "source": [
    "<p style=\"color:#789922\"> > YES! </p>"
   ]
  },
  {
   "cell_type": "markdown",
   "metadata": {
    "slideshow": {
     "slide_type": "subslide"
    }
   },
   "source": [
    "# 5. Python Functions\n",
    "## 5.8. Exercise - Writing your first function\n",
    "\n",
    "Remember inflation rate?\n",
    "\n",
    "$$IR = \\frac{CPI_2 - CPI_1}{CPI_1}$$\n",
    "<br>\n",
    "$$CPI_{2000} = 0.0386$$\n",
    "$$CPI_{2019} = 0.0042$$\n",
    "\n",
    "1. Write a **function** called `inflation_rate` that takes two `CPI` arguments (`cpi_1` and `cpi_2`) and calculates the inflation rate.\n",
    "2. Call the **function** you created and **assign** the result in a **variable** named `ir`.\n",
    "3. `Print` the result"
   ]
  },
  {
   "cell_type": "code",
   "execution_count": 72,
   "metadata": {
    "slideshow": {
     "slide_type": "fragment"
    }
   },
   "outputs": [
    {
     "name": "stdout",
     "output_type": "stream",
     "text": [
      "-0.8911917098445595\n"
     ]
    }
   ],
   "source": [
    "def inflation_rate(cpi_1, cpi_2):\n",
    "    return (cpi_2 - cpi_1) / cpi_1\n",
    "ir = inflation_rate(0.0386, 0.0042)\n",
    "print(ir)"
   ]
  },
  {
   "cell_type": "markdown",
   "metadata": {},
   "source": [
    "# 5. Python Functions\n",
    "## 5.9. Summary\n",
    "\n",
    "- Python already has **built-in** functions, like `print`, `min`, `max`, `len` and `round` (green text!)\n",
    "- **Google** is the programmers best friend - hone up those PI skills\n",
    "- **Methods** are **functions** that belong to a **type** like `append` for `lists`\n",
    "- **Functions** are composed of:\n",
    "    - `def` \n",
    "    - function name\n",
    "    - arguments\n",
    "    - return\n",
    "- Python has **indentation** (just makes your code look pretty)\n",
    "- **Function** results can be assigned to variables\n"
   ]
  },
  {
   "cell_type": "markdown",
   "metadata": {
    "slideshow": {
     "slide_type": "slide"
    }
   },
   "source": [
    "# 6. Loops and iterations\n",
    "<br>\n",
    "<center>\n",
    "    <img src=\"https://files.realpython.com/media/Pythons-range-function_Watermark.5e8ea929167e.jpg\">\n",
    "</center> "
   ]
  },
  {
   "cell_type": "markdown",
   "metadata": {
    "slideshow": {
     "slide_type": "subslide"
    }
   },
   "source": [
    "# 6. Loops and iterations\n",
    "## 6.1. The `for` loop\n",
    "\n",
    "\n",
    "- What if we want to do something to **every** element of the `list`?\n",
    "- **For** every index of the list, do something. "
   ]
  },
  {
   "cell_type": "code",
   "execution_count": 73,
   "metadata": {},
   "outputs": [
    {
     "name": "stdout",
     "output_type": "stream",
     "text": [
      "1\n",
      "2\n",
      "3\n"
     ]
    }
   ],
   "source": [
    "ez_list = [1, 2, 3]\n",
    "print(ez_list[0])\n",
    "print(ez_list[1])\n",
    "print(ez_list[2])"
   ]
  },
  {
   "cell_type": "markdown",
   "metadata": {
    "slideshow": {
     "slide_type": "fragment"
    }
   },
   "source": [
    "\n",
    "- No one wants to write `list[i]` 100 times if the list has a length of 100\n",
    "- The answer for this problem, are **loops** or **iterations**\n",
    "- This is called a `for` **loop**"
   ]
  },
  {
   "cell_type": "code",
   "execution_count": 74,
   "metadata": {
    "slideshow": {
     "slide_type": "-"
    }
   },
   "outputs": [
    {
     "name": "stdout",
     "output_type": "stream",
     "text": [
      "1\n",
      "2\n",
      "3\n"
     ]
    }
   ],
   "source": [
    "ez_list = [1, 2, 3]\n",
    "for i in ez_list:\n",
    "    print(i)"
   ]
  },
  {
   "cell_type": "markdown",
   "metadata": {
    "slideshow": {
     "slide_type": "subslide"
    }
   },
   "source": [
    "# 6. Loops and iterations\n",
    "\n",
    "## 6.2. The anatomy of a `for` loop"
   ]
  },
  {
   "cell_type": "markdown",
   "metadata": {
    "slideshow": {
     "slide_type": "-"
    }
   },
   "source": [
    "<center>\n",
    "<img src=\"https://www.dataquest.io/wp-content/uploads/2018/06/91NoaP0.jpg\">\n",
    "<center>"
   ]
  },
  {
   "cell_type": "markdown",
   "metadata": {},
   "source": [
    "1. **Mandatory**: `for` keyword\n",
    "2. **Mandatory**: temporary variable name\n",
    "3. **Mandatory**: `in` keyword\n",
    "4. **Mandatory**: name of the list we want to **iterate**\n",
    "5. **Mandatory**: double dots `:` after list name"
   ]
  },
  {
   "cell_type": "markdown",
   "metadata": {
    "slideshow": {
     "slide_type": "subslide"
    }
   },
   "source": [
    "# 6. Loops and iterations\n",
    "\n",
    "## 6.3. Compound Exercise - Summing the squres of a list of numbers\n",
    "\n",
    "We want to sum up the entirety of a list of numbers from 1 to 10, but we want to sum the **square** of each element.\n",
    "\n",
    "There are two ways of doing this exercise.\n",
    "\n",
    "1. Create a list of numbers from 1 through 10 (**EXTRA**: you can search google for `python how to create a list of numbers`)\n",
    "2. Iterate through the list of numbers, using a **for** loop\n",
    "\n",
    "### Magnum PI Route\n",
    "3. Create an additional empty list (just `[]` and call it `helper`) outside of the for loop (this is really important)\n",
    "4. As you iterate, `append` the square of the number to the empty list\n",
    "5. Search google for `python how to sum a list of numbers` (**HINT**: it is a function like `max` or `min`)\n",
    "6. Put in a function named `sum_list` that takes in an argument named `number_list`\n",
    "7. Print the result when calling the function\n",
    "\n",
    "### Back to Basics Route\n",
    "3. Create an additional variable called `sum_total` outside of the **for** loop, with the value of 0. This is where we will store the result (**HINT**:  We can do `x = x + 1`)\n",
    "4. Iterate the list and add the square of the number to `sum_total`\n",
    "5. Put in a function named `sum_list` that takes in an argument named `number_list`\n",
    "5. Print the result when calling the function"
   ]
  },
  {
   "cell_type": "code",
   "execution_count": 75,
   "metadata": {
    "slideshow": {
     "slide_type": "fragment"
    }
   },
   "outputs": [
    {
     "name": "stdout",
     "output_type": "stream",
     "text": [
      "385\n"
     ]
    }
   ],
   "source": [
    "# BACK TO BASICS ROUTE\n",
    "\n",
    "numbers = [1, 2, 3, 4, 5, 6, 7, 8, 9, 10]\n",
    "\n",
    "def sum_list(number_list):\n",
    "    sum_total = 0\n",
    "    for num in numbers:\n",
    "        sum_total = sum_total + num**2\n",
    "    return sum_total\n",
    "print(sum_list(numbers))"
   ]
  },
  {
   "cell_type": "markdown",
   "metadata": {
    "slideshow": {
     "slide_type": "fragment"
    }
   },
   "source": [
    "- We can create lists of numbers using the `range` function. Like slices the last element is **not** inclusive. Beware!\n",
    "- To **sum** a list of numbers we have the `sum` function"
   ]
  },
  {
   "cell_type": "code",
   "execution_count": 76,
   "metadata": {
    "slideshow": {
     "slide_type": "-"
    }
   },
   "outputs": [
    {
     "name": "stdout",
     "output_type": "stream",
     "text": [
      "385\n"
     ]
    }
   ],
   "source": [
    "# FULL MAGNUM PI ROUTE\n",
    "numbers = range(1, 11)\n",
    "\n",
    "def sum_list(number_list):\n",
    "    sum_total = []\n",
    "    for num in numbers:\n",
    "        sum_total.append(num**2)\n",
    "    return sum(sum_total)\n",
    "print(sum_list(numbers))"
   ]
  },
  {
   "cell_type": "markdown",
   "metadata": {
    "slideshow": {
     "slide_type": "subslide"
    }
   },
   "source": [
    "# 6. Loops and iterations\n",
    "\n",
    "## 6.4. Summary\n",
    "\n",
    "- We can **iterate** a list with a `for` loop\n",
    "- The `for` loop is composed of:\n",
    "    - `for` keyword\n",
    "    - temporary variable name\n",
    "    - `in` keyword\n",
    "    - the `list` that we want to iterate\n",
    "- `range` allows us to do lists of sequential numbers\n",
    "- `sum` allows us to add every **element** of a `list` "
   ]
  },
  {
   "cell_type": "markdown",
   "metadata": {
    "slideshow": {
     "slide_type": "slide"
    }
   },
   "source": [
    "# 7. What if? What else? Conditionals\n",
    "<br>\n",
    "\n",
    "<center>\n",
    "<img src=\"https://files.realpython.com/media/The-Python-OR-Keyword_Watermarked.18e16a4721d8.jpg\">\n",
    "</center>"
   ]
  },
  {
   "cell_type": "markdown",
   "metadata": {
    "slideshow": {
     "slide_type": "subslide"
    }
   },
   "source": [
    "# 7. What if? What else? Conditionals\n",
    "\n",
    "\n",
    "- What if we want to give **different behavior** according to the value of a variable?\n",
    "- For instance, `if` a member of our company belong to the `content` team, **then** `print` something.\n",
    "- **Conditionals** are a very powerful tool that allow us to **alter the flow** of how our code works.\n",
    "\n"
   ]
  },
  {
   "cell_type": "markdown",
   "metadata": {
    "slideshow": {
     "slide_type": "fragment"
    }
   },
   "source": [
    "Example:"
   ]
  },
  {
   "cell_type": "code",
   "execution_count": 77,
   "metadata": {
    "slideshow": {
     "slide_type": "-"
    }
   },
   "outputs": [
    {
     "name": "stdout",
     "output_type": "stream",
     "text": [
      "This person comes from the content team.\n"
     ]
    }
   ],
   "source": [
    "team = 'content'\n",
    "if team == 'content':\n",
    "    print(\"This person comes from the content team.\")"
   ]
  },
  {
   "cell_type": "markdown",
   "metadata": {
    "slideshow": {
     "slide_type": "subslide"
    }
   },
   "source": [
    "# 7. What if? What else? Conditionals\n",
    "\n",
    "## 7.1. Anatomy of an `if` statement\n",
    "\n",
    "<center>\n",
    "    \n",
    "<img src=\"https://dq-blog-files.s3.amazonaws.com/if-else/if_syntax.svg\" width=120%>\n",
    "</center>"
   ]
  },
  {
   "cell_type": "markdown",
   "metadata": {},
   "source": [
    "1. **Mandatory**: `if` keyword\n",
    "2. **Mandatory**: **condition**\n",
    "5. **Mandatory**: double dots `:` after the **condition**\n",
    "3. **Optional**: `else` keyword\n",
    "5. **Mandatory**: double dots `:` after `else` keyword"
   ]
  },
  {
   "cell_type": "markdown",
   "metadata": {
    "slideshow": {
     "slide_type": "fragment"
    }
   },
   "source": [
    "- New things that are notable here:\n",
    "    - The **condition**: `team == 'content'`\n",
    "    - The `==` sign. What does it mean?\n",
    "    \n",
    "- A condition is like a thing that happens or doesn't happen. A **yes** or a **no**\n",
    "- So if _this_ (condition) happens **then** do this, **else** do something different"
   ]
  },
  {
   "cell_type": "markdown",
   "metadata": {
    "slideshow": {
     "slide_type": "subslide"
    }
   },
   "source": [
    "# 7. What if? What else? Conditionals\n",
    "\n",
    "## 7.1. Intermission. A new type appears - Booleans\n",
    "\n",
    "- Conditions answer a **Yes** or **No** question\n",
    "- This **Yes** or **No** is a **type** in Python - **Boleans**\n",
    "- They can be either **True** (yes) or **False** (no)\n"
   ]
  },
  {
   "cell_type": "code",
   "execution_count": 78,
   "metadata": {},
   "outputs": [
    {
     "data": {
      "text/plain": [
       "bool"
      ]
     },
     "execution_count": 78,
     "metadata": {},
     "output_type": "execute_result"
    }
   ],
   "source": [
    "boolean = True\n",
    "type(boolean)"
   ]
  },
  {
   "cell_type": "markdown",
   "metadata": {
    "slideshow": {
     "slide_type": "fragment"
    }
   },
   "source": [
    "- What happens in an **if statement**:\n",
    " - `If` the **condition** is **True** **then** do something\n",
    " - `Else` (it is **False**) do something different"
   ]
  },
  {
   "cell_type": "code",
   "execution_count": 79,
   "metadata": {},
   "outputs": [
    {
     "name": "stdout",
     "output_type": "stream",
     "text": [
      "THE TRUTH!\n"
     ]
    }
   ],
   "source": [
    "if True:\n",
    "    print(\"THE TRUTH!\")\n",
    "else:\n",
    "    print(\"This is False\")"
   ]
  },
  {
   "cell_type": "markdown",
   "metadata": {
    "slideshow": {
     "slide_type": "fragment"
    }
   },
   "source": [
    "- In the example earlier what is happening is that our **condition evaluates to True** if it is an even number"
   ]
  },
  {
   "cell_type": "code",
   "execution_count": 80,
   "metadata": {},
   "outputs": [
    {
     "name": "stdout",
     "output_type": "stream",
     "text": [
      "Content Team\n",
      "True\n",
      "True\n"
     ]
    }
   ],
   "source": [
    "team = 'content'\n",
    "if team == 'content':\n",
    "    print(\"Content Team\")\n",
    "else:\n",
    "    print(\"Not content team\")\n",
    "\n",
    "print(team == 'content')\n",
    "condition_value = (team == 'content')\n",
    "print(condition_value)"
   ]
  },
  {
   "cell_type": "markdown",
   "metadata": {},
   "source": [
    "- We still don't know a lot about `==`. It just _tests_ equality"
   ]
  },
  {
   "cell_type": "markdown",
   "metadata": {
    "slideshow": {
     "slide_type": "subslide"
    }
   },
   "source": [
    "# 7. What if? What else? Conditionals\n",
    "\n",
    "## 7.2. Comparison Operators\n",
    "\n",
    "- Comparison operators are like `+` or `*` - they operate with two variables\n",
    "- But they give a **boolean** result\n",
    "- They ask a question i.e. _\"Is the first number **equal** to the second one?\"_. \n",
    "- **Yes** or **No** / `True` or `False` -> `Boolean`\n",
    "\n",
    "\n",
    "| Symbol &nbsp; &nbsp; &nbsp; &nbsp; &nbsp; &nbsp;&nbsp; &nbsp; &nbsp;&nbsp; &nbsp; &nbsp;&nbsp; &nbsp; &nbsp;&nbsp; &nbsp; &nbsp;&nbsp; &nbsp; &nbsp;&nbsp; &nbsp; &nbsp; | Task Performed &nbsp; &nbsp; &nbsp; &nbsp; &nbsp;&nbsp; &nbsp;&nbsp; &nbsp;|\n",
    "|--------|----------------|\n",
    "| <p style=\"font-size:18px;\">==</p>      | <p style=\"font-size:18px;\">True, if it is equal</p>         |\n",
    "| <p style=\"font-size:18px;\">!=</p>      | <p style=\"font-size:18px;\">True, if not equal to</p>    |\n",
    "| <p style=\"font-size:18px;\"> < </p>      | <p style=\"font-size:18px;\">Less than</p>       |\n",
    "| <p style=\"font-size:18px;\">></p>      | <p style=\"font-size:18px;\">Greater than</p>            |\n",
    "| <p style=\"font-size:18px;\"><=</p>      | <p style=\"font-size:18px;\">Less than or equal to</p> |\n",
    "| <p style=\"font-size:18px;\">>=</p>     | <p style=\"font-size:18px;\">Greater than or equal to</p> |\n",
    "\n"
   ]
  },
  {
   "cell_type": "code",
   "execution_count": 81,
   "metadata": {
    "slideshow": {
     "slide_type": "fragment"
    }
   },
   "outputs": [
    {
     "name": "stdout",
     "output_type": "stream",
     "text": [
      "True\n"
     ]
    }
   ],
   "source": [
    "print(1==1)"
   ]
  },
  {
   "cell_type": "markdown",
   "metadata": {},
   "source": [
    "- `==` and `!=` can also be used on strings. It can be used on anything!"
   ]
  },
  {
   "cell_type": "code",
   "execution_count": 104,
   "metadata": {},
   "outputs": [
    {
     "name": "stdout",
     "output_type": "stream",
     "text": [
      "False\n"
     ]
    }
   ],
   "source": [
    "print('a' == 'c')"
   ]
  },
  {
   "cell_type": "code",
   "execution_count": 82,
   "metadata": {},
   "outputs": [
    {
     "name": "stdout",
     "output_type": "stream",
     "text": [
      "False\n"
     ]
    }
   ],
   "source": [
    "print(1!=1)"
   ]
  },
  {
   "cell_type": "code",
   "execution_count": 83,
   "metadata": {},
   "outputs": [
    {
     "name": "stdout",
     "output_type": "stream",
     "text": [
      "True\n"
     ]
    }
   ],
   "source": [
    "print(1<2)"
   ]
  },
  {
   "cell_type": "markdown",
   "metadata": {
    "slideshow": {
     "slide_type": "subslide"
    }
   },
   "source": [
    "# 7. What if? What else? Conditionals\n",
    "\n",
    "## 7.3. Boolean operators - for booleans\n",
    "\n",
    "- There are also **boolean** operators that operate **boolean** values\n",
    "- They are like math, but for **True** and **False**, **Yes** or **No**\n",
    "\n",
    "\n",
    "| Symbol &nbsp; &nbsp; &nbsp; &nbsp; &nbsp; &nbsp;&nbsp; &nbsp; &nbsp;&nbsp; &nbsp; &nbsp;&nbsp; &nbsp; &nbsp;&nbsp; &nbsp; &nbsp;&nbsp; &nbsp; &nbsp;&nbsp; &nbsp; &nbsp; | Task Performed &nbsp; &nbsp; &nbsp; &nbsp; &nbsp;&nbsp; &nbsp;&nbsp; &nbsp;|\n",
    "|--------|----------------|\n",
    "| <p style=\"font-size:18px;\">and</p>      | <p style=\"font-size:18px;\">Logical <b>and</b> </p>         |\n",
    "| <p style=\"font-size:18px;\">or</p>      | <p style=\"font-size:18px;\">Logical <b>or</b></p>    |\n",
    "| <p style=\"font-size:18px;\">not</p>      | <p style=\"font-size:18px;\">Logical <b>not</b></p>       |\n",
    "| <p style=\"font-size:18px;\">in</p>      | <p style=\"font-size:18px;\">If an element is <b>in</b> a list</p>            |\n"
   ]
  },
  {
   "cell_type": "markdown",
   "metadata": {
    "slideshow": {
     "slide_type": "fragment"
    }
   },
   "source": [
    "- A mind trick that worked for me is to think the following\n",
    "    - **True** = 1\n",
    "    - **False** = 0\n",
    "- And actually..."
   ]
  },
  {
   "cell_type": "code",
   "execution_count": 84,
   "metadata": {},
   "outputs": [
    {
     "name": "stdout",
     "output_type": "stream",
     "text": [
      "1\n"
     ]
    }
   ],
   "source": [
    "print(int(True))"
   ]
  },
  {
   "cell_type": "markdown",
   "metadata": {
    "slideshow": {
     "slide_type": "fragment"
    }
   },
   "source": [
    "- So, the **and** works like **multiplication**"
   ]
  },
  {
   "cell_type": "code",
   "execution_count": 85,
   "metadata": {},
   "outputs": [
    {
     "name": "stdout",
     "output_type": "stream",
     "text": [
      "True\n"
     ]
    }
   ],
   "source": [
    "# 1*1 = 1\n",
    "print(True and True)"
   ]
  },
  {
   "cell_type": "code",
   "execution_count": 86,
   "metadata": {},
   "outputs": [
    {
     "name": "stdout",
     "output_type": "stream",
     "text": [
      "False\n"
     ]
    }
   ],
   "source": [
    "# 1*0 = 0\n",
    "print(True and False)"
   ]
  },
  {
   "cell_type": "markdown",
   "metadata": {
    "slideshow": {
     "slide_type": "fragment"
    }
   },
   "source": [
    "- The **or** works like **addition**"
   ]
  },
  {
   "cell_type": "code",
   "execution_count": 87,
   "metadata": {},
   "outputs": [
    {
     "name": "stdout",
     "output_type": "stream",
     "text": [
      "True\n"
     ]
    }
   ],
   "source": [
    "# 1 + 0 = 1\n",
    "print(True or False)"
   ]
  },
  {
   "cell_type": "code",
   "execution_count": 88,
   "metadata": {},
   "outputs": [
    {
     "name": "stdout",
     "output_type": "stream",
     "text": [
      "True\n"
     ]
    }
   ],
   "source": [
    "# 1+1 = 2 (1)\n",
    "print(True or True)"
   ]
  },
  {
   "cell_type": "markdown",
   "metadata": {
    "slideshow": {
     "slide_type": "fragment"
    }
   },
   "source": [
    "- The **not** is just the opposite"
   ]
  },
  {
   "cell_type": "code",
   "execution_count": 89,
   "metadata": {},
   "outputs": [
    {
     "name": "stdout",
     "output_type": "stream",
     "text": [
      "False\n"
     ]
    }
   ],
   "source": [
    "print(not True)"
   ]
  },
  {
   "cell_type": "code",
   "execution_count": 90,
   "metadata": {},
   "outputs": [
    {
     "name": "stdout",
     "output_type": "stream",
     "text": [
      "True\n"
     ]
    }
   ],
   "source": [
    "print(not False)"
   ]
  },
  {
   "cell_type": "markdown",
   "metadata": {
    "slideshow": {
     "slide_type": "fragment"
    }
   },
   "source": [
    "- The **in** deserves a special note, it doesn't follow the same logic as the ones above\n",
    "- It tests if an element is **inside** or **belongs to** a **list**!"
   ]
  },
  {
   "cell_type": "code",
   "execution_count": 91,
   "metadata": {},
   "outputs": [
    {
     "name": "stdout",
     "output_type": "stream",
     "text": [
      "True\n"
     ]
    }
   ],
   "source": [
    "print(1 in [1,2,3])"
   ]
  },
  {
   "cell_type": "code",
   "execution_count": 92,
   "metadata": {},
   "outputs": [
    {
     "name": "stdout",
     "output_type": "stream",
     "text": [
      "False\n"
     ]
    }
   ],
   "source": [
    "print(\"7\" in [1,2,3])"
   ]
  },
  {
   "cell_type": "markdown",
   "metadata": {
    "slideshow": {
     "slide_type": "fragment"
    }
   },
   "source": [
    "- On a curious note, it also works for **strings**"
   ]
  },
  {
   "cell_type": "code",
   "execution_count": 93,
   "metadata": {},
   "outputs": [
    {
     "name": "stdout",
     "output_type": "stream",
     "text": [
      "True\n"
     ]
    }
   ],
   "source": [
    "print(\"S\" in \"USA\")"
   ]
  },
  {
   "cell_type": "markdown",
   "metadata": {},
   "source": [
    "- Because `strings` are really just `lists`!"
   ]
  },
  {
   "cell_type": "markdown",
   "metadata": {
    "slideshow": {
     "slide_type": "subslide"
    }
   },
   "source": [
    "# 7. What if? What else? Conditionals\n",
    "\n",
    "## 7.5. An example"
   ]
  },
  {
   "cell_type": "code",
   "execution_count": 94,
   "metadata": {},
   "outputs": [
    {
     "name": "stdout",
     "output_type": "stream",
     "text": [
      "Found a number divisible by 2 and 3:  6\n",
      "Found a number divisible by 2 and 3:  12\n",
      "Found a number divisible by 2 and 3:  18\n",
      "Found a number divisible by 2 and 3:  24\n",
      "Found a number divisible by 2 and 3:  30\n",
      "Found a number divisible by 2 and 3:  36\n",
      "Found a number divisible by 2 and 3:  42\n",
      "Found a number divisible by 2 and 3:  48\n"
     ]
    }
   ],
   "source": [
    "numbers = range(1, 50)\n",
    "for num in numbers:\n",
    "    if (num % 2 == 0) and (num % 3 == 0):\n",
    "        print(\"Found a number divisible by 2 and 3: \", num)"
   ]
  },
  {
   "cell_type": "markdown",
   "metadata": {
    "slideshow": {
     "slide_type": "subslide"
    }
   },
   "source": [
    "# 7. What if? What else? Conditionals\n",
    "\n",
    "## 7.6. Exercise - All temperatures in Fahrenheit\n",
    "\n",
    "Our client gave us a list of temperatures both in Celsius and Fahrenheit.\n",
    "<br>\n",
    "We want to clean the data, and have a **list** of just numbers.\n",
    "\n",
    "Here's the list the client gave us.\n",
    "\n",
    "```\n",
    "temperatures = [\"32C\", \"7F\", \"15C\", \"8C\"]\n",
    "```\n",
    "\n",
    "We notice, the client gave us a list of `strings` and that they have the indicator of\n",
    "- C for Celsius\n",
    "- F for Fahrenheit\n",
    "\n",
    "**NOTE**: We still have our conversion formula to Fahrenheit, called `celsius_to_fahr`.\n",
    "\n",
    "Exercise:\n",
    "0. Copy the list of temperatures to your notebook\n",
    "1. Create a function named `clean_data` that recieves a `list` of `string` temperatures and will:\n",
    "    0. Have a `list` called `clean_temperatures`, that we will use to put our results\n",
    "    1. Iterate all the elements in the list\n",
    "    2. **If** the **last character** of the string is `C` then, convert to Fahrenheit (use our previous function), and add the **number** to our list.\n",
    "    3. **Else**, just add the number to our list\n",
    "    4. Return the temperatures\n",
    "    \n",
    "**HINT**: You can access the last character using **reverse indexing** (`string[-1]`) \n",
    "<br>\n",
    "**HINT**: You can **slice** the string until the last character using (`string[:-1]`), because it is **exclusive**\n",
    "<br>\n",
    "**HINT**: You can convert a string to a number by doing (`int(string)`)"
   ]
  },
  {
   "cell_type": "code",
   "execution_count": 95,
   "metadata": {
    "slideshow": {
     "slide_type": "fragment"
    }
   },
   "outputs": [
    {
     "name": "stdout",
     "output_type": "stream",
     "text": [
      "Executing function. Beep-boop.\n",
      "Executing function. Beep-boop.\n",
      "Executing function. Beep-boop.\n",
      "[89.6, 7, 59.0, 46.4]\n"
     ]
    }
   ],
   "source": [
    "temperatures = [\"32C\", \"7F\", \"15C\", \"8C\"]\n",
    "\n",
    "def clean_data(temperatures):\n",
    "    clean_temperatures = []\n",
    "    for t in temperatures:\n",
    "        if t[-1] == 'C':\n",
    "            int_temp = int(t[:-1])\n",
    "            fahr = celsius_to_farh(int_temp)\n",
    "            clean_temperatures.append(fahr)\n",
    "        else:\n",
    "            int_temp = int(t[:-1])\n",
    "            clean_temperatures.append(int_temp)\n",
    "    return clean_temperatures\n",
    "\n",
    "print(clean_data(temperatures))"
   ]
  },
  {
   "cell_type": "markdown",
   "metadata": {
    "slideshow": {
     "slide_type": "subslide"
    }
   },
   "source": [
    "# 7. What if? What else? Conditionals\n",
    "\n",
    "## 7.7. Summary\n",
    "\n",
    "- **Conditions** allow us to alter the flow of our code\n",
    "- The `if` statement contains:\n",
    "    - `if` keyword\n",
    "    - **condition**\n",
    "    - `else` keyword if applicable\n",
    "- `Booleans` are `True` or `False`\n",
    "- We can compare two **variables** with **comparison operators** to have a `True` or `False`\n",
    "- `if` **condition** \"activates\" if it's value **evaluate** to `True`\n",
    "- **Boolean operators** allow us to combine several **conditions**\n",
    "    - \"All conditions must be `True`\" -> `and`\n",
    "    - \"At least one condition must be `True` -> `or`\n",
    "    - \"This condition must be `False`\" -> `not` (`if not False:`)\n",
    "    - \"This element must belong to this list\" -> `in`"
   ]
  },
  {
   "cell_type": "markdown",
   "metadata": {
    "slideshow": {
     "slide_type": "slide"
    }
   },
   "source": [
    "# 8 Giving code a home\n",
    "\n",
    "<br>\n",
    "<center>\n",
    "    <img src=\"https://pbs.twimg.com/media/DjHjJ6MWwAAgxeb.jpg\">\n",
    "    </center>\n"
   ]
  },
  {
   "cell_type": "markdown",
   "metadata": {
    "slideshow": {
     "slide_type": "subslide"
    }
   },
   "source": [
    "# 8 Giving code a home\n",
    "\n",
    "\n",
    "- Where does all of this code go?\n",
    "- Code is stored inside files or **scripts** (`file.py`)\n",
    "- This is the \"original\" way to use Python (i.e you _run_ a script/file)\n",
    "- A bunch of files are what is called a **package**\n",
    "\n",
    "```\n",
    "pkg/\n",
    "    finances.py\n",
    "    accounting.py\n",
    "```"
   ]
  },
  {
   "cell_type": "markdown",
   "metadata": {
    "slideshow": {
     "slide_type": "fragment"
    }
   },
   "source": [
    "- You can make your own **packages**\n",
    "- Or you can use **packages** developed by other people\n",
    "- For instance, **Numpy** and **Pandas** like we'll see in next class"
   ]
  },
  {
   "cell_type": "markdown",
   "metadata": {
    "slideshow": {
     "slide_type": "subslide"
    }
   },
   "source": [
    "# 8 Giving code a home\n",
    "\n",
    "## 8.1. Importing a package\n",
    "\n",
    "- To use a package, you have to **import** it"
   ]
  },
  {
   "cell_type": "code",
   "execution_count": 96,
   "metadata": {},
   "outputs": [],
   "source": [
    "import numpy"
   ]
  },
  {
   "cell_type": "markdown",
   "metadata": {},
   "source": [
    "- We know that **Numpy** has a **function** named `array`"
   ]
  },
  {
   "cell_type": "code",
   "execution_count": 97,
   "metadata": {
    "slideshow": {
     "slide_type": "fragment"
    }
   },
   "outputs": [
    {
     "ename": "NameError",
     "evalue": "name 'array' is not defined",
     "output_type": "error",
     "traceback": [
      "\u001b[0;31m---------------------------------------------------------------------------\u001b[0m",
      "\u001b[0;31mNameError\u001b[0m                                 Traceback (most recent call last)",
      "\u001b[0;32m<ipython-input-97-997bd2f22c63>\u001b[0m in \u001b[0;36m<module>\u001b[0;34m\u001b[0m\n\u001b[0;32m----> 1\u001b[0;31m \u001b[0marr\u001b[0m \u001b[0;34m=\u001b[0m \u001b[0marray\u001b[0m\u001b[0;34m(\u001b[0m\u001b[0;34m[\u001b[0m\u001b[0;36m1\u001b[0m\u001b[0;34m,\u001b[0m\u001b[0;36m2\u001b[0m\u001b[0;34m,\u001b[0m\u001b[0;36m3\u001b[0m\u001b[0;34m]\u001b[0m\u001b[0;34m)\u001b[0m\u001b[0;34m\u001b[0m\u001b[0;34m\u001b[0m\u001b[0m\n\u001b[0m\u001b[1;32m      2\u001b[0m \u001b[0mprint\u001b[0m\u001b[0;34m(\u001b[0m\u001b[0marr\u001b[0m\u001b[0;34m)\u001b[0m\u001b[0;34m\u001b[0m\u001b[0;34m\u001b[0m\u001b[0m\n",
      "\u001b[0;31mNameError\u001b[0m: name 'array' is not defined"
     ]
    }
   ],
   "source": [
    "arr = array([1,2,3])\n",
    "print(arr)"
   ]
  },
  {
   "cell_type": "markdown",
   "metadata": {
    "slideshow": {
     "slide_type": "fragment"
    }
   },
   "source": [
    "- Even though we know `array` exists, Python doesn't know that it comes from **Numpy**\n",
    "- So, we add the name of the **package** before, and add a dot `.`"
   ]
  },
  {
   "cell_type": "code",
   "execution_count": 98,
   "metadata": {},
   "outputs": [
    {
     "name": "stdout",
     "output_type": "stream",
     "text": [
      "[1 2 3]\n"
     ]
    }
   ],
   "source": [
    "arr = numpy.array([1,2,3])\n",
    "print(arr)"
   ]
  },
  {
   "cell_type": "markdown",
   "metadata": {
    "slideshow": {
     "slide_type": "fragment"
    }
   },
   "source": [
    "- We could also use a `from` **import** statement to only **import** what we need"
   ]
  },
  {
   "cell_type": "code",
   "execution_count": 99,
   "metadata": {},
   "outputs": [],
   "source": [
    "from numpy import array"
   ]
  },
  {
   "cell_type": "code",
   "execution_count": 100,
   "metadata": {},
   "outputs": [
    {
     "name": "stdout",
     "output_type": "stream",
     "text": [
      "[1 2 3]\n"
     ]
    }
   ],
   "source": [
    "arr = array([1,2,3])\n",
    "print(arr)"
   ]
  },
  {
   "cell_type": "markdown",
   "metadata": {
    "slideshow": {
     "slide_type": "fragment"
    }
   },
   "source": [
    "- Usually when using **Numpy** we want to use several functionalities, so a **from** is not proper\n",
    "- And it is not good for whoever is reading your code (if a technical person)\n",
    "- We can **import** a package with an **alias** using `as`"
   ]
  },
  {
   "cell_type": "code",
   "execution_count": 101,
   "metadata": {
    "slideshow": {
     "slide_type": "-"
    }
   },
   "outputs": [],
   "source": [
    "import numpy as np"
   ]
  },
  {
   "cell_type": "code",
   "execution_count": 102,
   "metadata": {},
   "outputs": [
    {
     "name": "stdout",
     "output_type": "stream",
     "text": [
      "[1 2 3]\n"
     ]
    }
   ],
   "source": [
    "arr = np.array([1,2,3])\n",
    "print(arr)"
   ]
  },
  {
   "cell_type": "markdown",
   "metadata": {
    "slideshow": {
     "slide_type": "subslide"
    }
   },
   "source": [
    "# 8 Giving code a home\n",
    "\n",
    "## 8.2. Exercise - calculating area of a circle\n",
    "\n",
    "We want to calculate the area of a circle.\n",
    "Remember the formula:\n",
    "\n",
    "$$A = 2\\pi R$$\n",
    "\n",
    "But we don't know the value of $\\pi$ and 3.14 is just not good enough.\n",
    "Don't worry, we have the `math` package from Python.\n",
    "\n",
    "1. Import the `math` package that comes with Python\n",
    "2. Assign `math.pi` to a variable named `pi`\n",
    "3. Create a function named `circle_area` that returns the area of a circle, when given an argument `radius`\n",
    "4. Print the area for a circle with radius 10"
   ]
  },
  {
   "cell_type": "code",
   "execution_count": 103,
   "metadata": {
    "slideshow": {
     "slide_type": "fragment"
    }
   },
   "outputs": [
    {
     "name": "stdout",
     "output_type": "stream",
     "text": [
      "314.1592653589793\n"
     ]
    }
   ],
   "source": [
    "import math\n",
    "pi = math.pi\n",
    "\n",
    "def circle_area(radius):\n",
    "    return pi * radius**2\n",
    "print(circle_area(10))"
   ]
  },
  {
   "cell_type": "markdown",
   "metadata": {
    "slideshow": {
     "slide_type": "subslide"
    }
   },
   "source": [
    "# 8 Giving code a home\n",
    "\n",
    "## 8.3. Summary\n",
    "\n",
    "- Code lives in **packages**. This is how they are distributed across the world\n",
    "- Python already comes with some **packages** like `math`\n",
    "- **Numpy** and **Pandas** are packages\n",
    "- We can **import** a package in multiple ways:\n",
    "    - `import numpy`\n",
    "    - `import numpy as np`\n",
    "    - `from numpy import array`"
   ]
  },
  {
   "cell_type": "markdown",
   "metadata": {
    "slideshow": {
     "slide_type": "slide"
    }
   },
   "source": [
    "# 9. Homework Assignment\n",
    "\n",
    "## 9.1. Doing your first package\n",
    "\n",
    "1. Where you created your notebook, create a file called `script.py`\n",
    "2. Put all the **functions** done in class into that file\n",
    "3. Open a new notebook, and import your script (`import script`)\n",
    "4. Try using **your functions** through **your package**\n",
    "\n",
    "## 9.2. Slides hosted on Github\n",
    "\n",
    "1. Go to `https://pedroallenrevez.github.io/PythonClasses/1-Python/index.slides.html#/` and access the class slides\n"
   ]
  }
 ],
 "metadata": {
  "celltoolbar": "Slideshow",
  "kernelspec": {
   "display_name": "Python 3",
   "language": "python",
   "name": "python3"
  },
  "language_info": {
   "codemirror_mode": {
    "name": "ipython",
    "version": 3
   },
   "file_extension": ".py",
   "mimetype": "text/x-python",
   "name": "python",
   "nbconvert_exporter": "python",
   "pygments_lexer": "ipython3",
   "version": "3.7.6"
  }
 },
 "nbformat": 4,
 "nbformat_minor": 4
}
